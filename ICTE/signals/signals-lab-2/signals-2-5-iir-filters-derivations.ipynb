{
 "cells": [
  {
   "cell_type": "markdown",
   "metadata": {},
   "source": [
    "#### _Speech Processing Labs: Signals 2: IIR Filters (Extensions derivations)_"
   ]
  },
  {
   "cell_type": "code",
   "execution_count": 1,
   "metadata": {},
   "outputs": [],
   "source": [
    "%matplotlib inline\n",
    "import matplotlib.pyplot as plt\n",
    "import numpy as np\n",
    "\n",
    "import cmath\n",
    "from math import floor\n",
    "from matplotlib.animation import FuncAnimation\n",
    "from IPython.display import HTML\n",
    "plt.style.use('ggplot')\n",
    "\n",
    "from dspMisc import *"
   ]
  },
  {
   "cell_type": "markdown",
   "metadata": {},
   "source": [
    "# IIR Filter Derivations\n",
    "\n",
    "<div class=\"alert alert-success\">\n",
    "    <em>This notebook is very much optional extension and is really just here for completeness!</em>\n",
    "</div>\n",
    "    \n",
    "\n",
    "### Learning Outcomes\n",
    "* Observe how IRR filter coefficients can be derived from poles and zeros\n",
    "\n",
    "### Need to know\n",
    "* Topic Videos: Impulse Response, Source Filter Model\n",
    "* [IIR filters](./signals-2-3-iir-filters.ipynb)\n",
    "\n",
    "<div class=\"alert alert-warning\">\n",
    "<strong>Equation alert</strong>: If you're viewing this on github, please note that the equation rendering is not always perfect. You should view the notebooks through a jupyter notebook server for an accurate view.\n",
    "</div>\n",
    "\n",
    "\n"
   ]
  },
  {
   "cell_type": "markdown",
   "metadata": {},
   "source": [
    "## Designing a filter using poles and zeros\n",
    "\n",
    "\n",
    "    \n",
    "The following gives a very, very terse overview of how you can design an IIR filter frequency response using the concept of poles and filters. This requires a fair grip on solving polynomials and complex numbers, but once you've got that it's actually quite nice! \n",
    "    \n",
    "If you're interested in learning more about this (or signal processing in general), it's probably time to pick up a Digital Signal Processing textbook. Rick Lyon's [Understanding Digital Signal Processing](https://www.dsprelated.com/books/6.php) is probably the most accessible I've come across. The example filters above were taken from that book. The rest of this notebook basically gives a excessively detailed derivation going from poles and filters to coefficients for those examples for completeness. \n",
    "\n",
    "Previous SLP students have also recommended [The Scientist and Engineer's Guide to\n",
    "Digital Signal Processing](http://www.dspguide.com/pdfbook.htm), though the free online version renders a bit weirdly!\n",
    "\n",
    "\n",
    "IIR filters have the following form: \n",
    "\n",
    "$$ y[n] = \\sum_{k=0}^N b(k) x[n-k] + \\sum_{k=0}^M a(k) y[n-k]$$\n",
    "\n",
    "Unlike an FIR filter, we can't just put an impulse in and find out what the frequency response of the filter is.  Instead, to understand the properties of an IIR filter, we use the **z-transform**.  The z-transform is the discrete version of the continuous Laplace transform.  We won't get into the details here, but if you do read more about this you'll see that you can think of the Laplace transform as a generalization of the Fourier Transform. So the intuitions you've developed about how the Fourier Transform works (e.g. finding correlations between inputs and basis functions) will help understand the Laplace Transform too.\n",
    "\n",
    "We use the z-transform to convert filter difference equations to an equivalent form in the z-domain (z being a complex number).  We rewrite our difference equation in terms of the z-transformed input $x[n]$ and output $y[n]$ functions, which we denote as $X(z)$ and $Y(z)$ respectively.  Some algebra then allows us to define a **transfer function** $H(z)$: \n",
    "\n",
    "$$ Y(z) = H(z)X(z)$$\n",
    "\n",
    "So, $H(z)$ is what our filter does to our input to get our output in the z-domain. You can think of it as the filter part of the source filter model (the source being our impulse train and/or white noise).  \n",
    "\n",
    "Unsurprisingly, we can actually define $H(z)$ in terms of our the feedforward coefficients $b(k)$ and the feedback coefficients $a(k)$. What's surprising is that we can define it in a relatively simple way: \n",
    "\n",
    "\n",
    "$$ H(z) = \\frac{Y(z)}{X(z)} = \\frac{\\sum_{k=0}^N b(k)z^{-k}}{1- \\sum_{k=1}^M a(k)z^{-k}}\\\\ $$\n",
    "\n",
    "You can think of  $z^{-k}$ as referring to a position in the sequence $k$ steps back in time.\n",
    "\n",
    "We can analyze $H(z)$ to figure out how the filter is going to behave. To do this we need to factorize the numerator and denominator polynomials of $H(z)$.\n",
    "\n",
    "$$ \n",
    "\\begin{align}\n",
    "H(z) &= \\frac{\\sum_{k=0}^N b(k)z^{-k}}{1- \\sum_{k=1}^M a(k)z^{-k}}\\\\\n",
    "&= G\\frac{(z-z_0)(z-z_1)...(z-z_N)}{(z-p_0)(z-p_1)...(z-p_M)} \n",
    "\\end{align}\n",
    "$$\n",
    "\n",
    "In the equation above, $G$ is an arbitrary gain constant which doesn't affect the frequency response or filter stability. The polynomial roots, $z_n$ and $p_m$ are called *zeros* and *poles* respectively.  These are the (complex) values of $z$ which cause the numerator (zeros) or the denominator (poles) to equal 0.  We can interpret them as follows:   \n",
    "\n",
    "* **Zeros:** when the numerator goes to zero, the transfer function $H(z)$ goes to zero, and we see decrease (attenuation) in the frequency magnitude response. \n",
    "* **Poles:** when the denominator goes to zero, the transfer function $H(z)$ goes to infinity, leads to an increase (gain) the frequency magnitude response (like vowel formants!)\n",
    "\n",
    "It may not look like it right now, but it's way easier to analyze IIR filters in the z-domain than in the time domain! Once we know the poles and the zeros of the transfer function, we basically know what the frequency response will look like and whether the filter is stable or not.  The main things to note are: \n",
    "\n",
    "* If a pole falls inside the unit-circle (of the complex z-plane), the filter output will be **stable**.  \n",
    "    * Given an impulse input, $y[n]$ it will eventually go to zero as $n$ increases. \n",
    "* If a pole falls outside the unit circle, the output will be **unstable**\n",
    "    * Given an impulse input, $y[n]$ will keep increasing in magnitude as more time passes (definitely not the behaviour of the vocal tract!). \n",
    "* If a pole lies exactly on the unit circle, the output will oscillate between finite values determined by the pole locations forever.\n",
    "\n",
    "An IIR filter is only as stable as it's weakest link - if any poles sit outside the unit circle, the filter as a whole will be unstable.  Zeros don't affect filter stability. \n",
    "\n",
    "Another property of poles (and zeros) is that, if the denominator polynomial has real-valued coefficients (i.e. the $a(k)$ values), poles (and zeros) either come in pairs of complex conjugates (i.e. if $p=a+ib$ is a pole, so is $p^*=a-ib$), or it's a value on the real axis of the z-plane.  We can use these facts to design filters using the factorized form of the transfer function, which will then allow us to derived the filter coefficients $a(k)$ and $b(k)$. We'll see some examples this below. \n",
    "\n",
    "The frequency response of the filter is $H(z)$ evaluated at $e^{j\\omega}$, where $-\\pi \\lt \\omega \\lt \\pi$ represents frequencies in terms of radians per sample ($\\pi$ radians/sample $\\mapsto$ a frequency matching half the sampling frequency (i.e. $f_s/2$). \n",
    "\n",
    "$$ H(\\omega) = H(e^{j\\omega}) = \\frac{\\sum_{k=0}^N b(k)e^{-jk\\omega}}{1 -\\sum_{k=0}^M a(k)e^{-jk\\omega}} $$\n"
   ]
  },
  {
   "cell_type": "markdown",
   "metadata": {},
   "source": [
    "These example IIR filters from Richard J Lyon's book \n",
    "[Understanding Digital Signal Processing](https://www.dsprelated.com/books/6.php), which is a very nice introduction to the topic.\n",
    "\n",
    "Working through from the factorized form to the coefficients is not hard, but it is very annoying and it's very easy to make mistakes, so I've given all the steps expanding out the factorized forms of the filter examples he gives in his book below. \n",
    "\n"
   ]
  },
  {
   "cell_type": "markdown",
   "metadata": {},
   "source": [
    "### Ex 1: \n",
    "\n",
    "\n",
    "$$\n",
    "\\begin{aligned}\n",
    "H_1(z) &= \\frac{G}{z-0.8}\\\\\n",
    "       &= G\\frac{1}{1-(0.8z^{-1})} \n",
    "\\end{aligned}\n",
    "$$\n",
    "\n",
    "\n",
    "* One pole on the real axis, inside the unit circle, stable peak at $\\omega=0$ rad/sample  \n",
    "* no zeros\n",
    "\n"
   ]
  },
  {
   "cell_type": "code",
   "execution_count": null,
   "metadata": {},
   "outputs": [],
   "source": [
    "a = [0.8]\n",
    "b = [1]"
   ]
  },
  {
   "cell_type": "markdown",
   "metadata": {},
   "source": [
    "### Ex 2: \n",
    "\n",
    "$$\n",
    "\\begin{aligned}\n",
    "H_1(z) &= G\\frac{(z-1)}{z-(-0.8)}\\\\\n",
    "       &= G\\frac{1 - z^{-1}}{1 -  (-0.8z^{-1})}\n",
    "\\end{aligned}\n",
    "$$\n",
    "\n",
    "\n",
    "* pole on real axis at -0.8, inside the unit circle, stable peak at $\\omega=-\\pi$ rad/sample, i.e. $f_s/2$ Hz which is 8000/2 = 4000 Hz in our setup above. \n",
    "* one zero at z=1, this causes attenuation at $\\omega = 0$ rads/sample (0 Hz)"
   ]
  },
  {
   "cell_type": "code",
   "execution_count": null,
   "metadata": {},
   "outputs": [],
   "source": [
    "a = [-0.8]\n",
    "b = [1,-1]"
   ]
  },
  {
   "cell_type": "markdown",
   "metadata": {},
   "source": [
    "### Ex 3\n",
    "$$\n",
    "\\begin{align}\n",
    "H_3(z) &= G\\frac{[z-(-0.707 + j0.707)][z-(-0.707 - j0.707)]}{[z-(0.283+j0.283)][z-(0.283-j0.283)]} \\\\\n",
    "&= G\\frac{z^2 -z(-0.707 - j0.707) - z(-0.707 + j0.707) + (-0.707 + j0.707)(-0.707 - j0.707) }{z^2 - z(0.283-j0.283) -z(0.283+j0.283) + (0.283+j0.283)0.283-j0.283)} \\\\\n",
    "&= G\\frac{z^2 +z0.707 + j0.707z + z0.707 - j0.707z + 1 }{z^2 - 0.283z + j0.283z - 0.283z - j0.283z + 0.16017} \\\\\n",
    "&= G\\frac{z^2 +z[0.707  + 0.707] + 1 }{z^2 - 0.283z - 0.283z  + 0.16017} \\\\\n",
    "&= G\\frac{z^2 + 1.414z + 1 }{z^2 - 0.566z + 0.16017} \\\\\n",
    "&= G\\frac{1 + 1.414z^{-1} + 1z^{-2} }{1 - 0.566z^{-1} + 0.16017z^{-2}} \\\\\n",
    "\\end{align}\n",
    "$$\n",
    "\n",
    "* The poles are inside the unit circle, this produces a low pass filter  (pass band is 'bordered' by +/- $\\omega = \\pi/4$ rad/sample, 1000 Hz) \n",
    "    * $(0.283+j0.283) \\mapsto 0.400e^{j\\pi/4}$\n",
    "* zeros on the unit circle, attenuation at $3\\pi/4$ rad/sample = 3000 Hz.\n",
    "    * $(-0.707+j0.707) \\mapsto 1e^{j3\\pi/4} $ "
   ]
  },
  {
   "cell_type": "code",
   "execution_count": null,
   "metadata": {},
   "outputs": [],
   "source": [
    "a = [0.566, -0.16017]\n",
    "b = [1, 1.414, 1]\n"
   ]
  },
  {
   "cell_type": "markdown",
   "metadata": {},
   "source": [
    "### Ex 4: \n",
    "$$\n",
    "\\begin{align}\n",
    "H_4(z) &= G\\frac{[z-1][z-(-0.707 + j0.707)][z-(-0.707 - j0.707)]}{[z-(0.283+j0.283)][z-(0.283-j0.283)]} \\\\\n",
    "&= G\\frac{[z-1] [z^2 + 1.414z + 1] }{z^2 - 0.566z + 0.16017}\\\\\n",
    "&= G\\frac{z^3 + 1.414z^2 + 1z -z^2 - 1.414z - 1}{z^2 - 0.566z + 0.16017}\\\\\n",
    "&= G\\frac{z^3 + 0.414z^2 - 0.414z - 1}{z^2 - 0.566z + 0.16017}\\\\\n",
    "&= G\\frac{1 + 0.414z^{-1} - 0.414z^{-2} - z^{-3}}{1 - 0.566z^{-1} + 0.16017z^{-2}}\\\\\n",
    "\\end{align}\n",
    "$$\n",
    "\n",
    "* We've added an extra zero at $z=0$ compared to example 3.  This means that we get a valley (attenuation) in the frequency response at $\\omega = 0$ (0 Hz). "
   ]
  },
  {
   "cell_type": "code",
   "execution_count": null,
   "metadata": {},
   "outputs": [],
   "source": [
    "a = [0.566, -0.16017]\n",
    "b = [1, 0.414, -0.414, -1]"
   ]
  },
  {
   "cell_type": "markdown",
   "metadata": {},
   "source": [
    "### Ex 5: \n",
    "$$\n",
    "\\begin{align}\n",
    "H_5(z) &= G\\frac{[z-1][z-(-0.707 + j0.707)][z-(-0.707 - j0.707)]}{[z-(0.636+j0.636)][z-(0.636-j636)]} \\\\\n",
    "&= G\\frac{[z-1] [z^2 + 1.414z + 1] }{z^2 - 1.272z + 0.808992}\\\\\n",
    "&= G\\frac{1 + 0.414z^{-1} - 0.414z^{-2} - z^{-3}}{1 - 1.272z^{-1} +  0.808992z^{-2}}\\\\\n",
    "\\end{align}\n",
    "$$\n",
    "\n",
    "* poles are nearer to the unit circle (magnitude 0.80899), so the peaks associated with them (+/- $\\omega = \\pi/4$ rad/sec (1000 Hz with our sample rate) are sharper.\n"
   ]
  },
  {
   "cell_type": "code",
   "execution_count": null,
   "metadata": {},
   "outputs": [],
   "source": [
    "a = [1.272, -0.80899]\n",
    "b = [1, 0.414, -0.414, -1]"
   ]
  },
  {
   "cell_type": "markdown",
   "metadata": {},
   "source": [
    "### Ex 6: \n",
    "$$\n",
    "\\begin{align}\n",
    "H_6(z) &= G \\frac{[z-1][z-(-0.707 + j0.707)][z-(-0.707 - j0.707)]}{[z-(0.777+j0.777)][z-(0.777-777)]} \\\\\n",
    "&= G \\frac{1 + 0.414z^{-1} - 0.414z^{-2} - z^{-3}}{1 - 1.554z^{-1} +  1.207z^{-2}}\\\\\n",
    "\\end{align}\n",
    "$$\n",
    "\n",
    "* poles are now outside the unit circle (magnitude 1.207), so the filter is now unstable: as n increases, the value of $y[n]$ eventually goes to infinity.\n",
    "* It still has the same shape frequency response though! "
   ]
  },
  {
   "cell_type": "code",
   "execution_count": null,
   "metadata": {},
   "outputs": [],
   "source": [
    "a = [1.554, -1.207]\n",
    "b = [1, 0.414, -0.414, -1]"
   ]
  },
  {
   "cell_type": "code",
   "execution_count": null,
   "metadata": {},
   "outputs": [],
   "source": []
  },
  {
   "cell_type": "code",
   "execution_count": null,
   "metadata": {},
   "outputs": [],
   "source": []
  }
 ],
 "metadata": {
  "kernelspec": {
   "display_name": "Python 3",
   "language": "python",
   "name": "python3"
  },
  "language_info": {
   "codemirror_mode": {
    "name": "ipython",
    "version": 3
   },
   "file_extension": ".py",
   "mimetype": "text/x-python",
   "name": "python",
   "nbconvert_exporter": "python",
   "pygments_lexer": "ipython3",
   "version": "3.8.11"
  }
 },
 "nbformat": 4,
 "nbformat_minor": 4
}
