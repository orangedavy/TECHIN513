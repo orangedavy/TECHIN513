{
 "cells": [
  {
   "cell_type": "markdown",
   "metadata": {},
   "source": [
    "#### _Speech Processing Labs: SIGNALS 1: Digital Signals: Sampling and Superposition_"
   ]
  },
  {
   "cell_type": "code",
   "execution_count": null,
   "metadata": {},
   "outputs": [],
   "source": [
    "## Run this first!\n",
    "%matplotlib inline\n",
    "import sys\n",
    "import matplotlib.pyplot as plt\n",
    "import numpy as np\n",
    "\n",
    "import cmath\n",
    "from matplotlib.animation import FuncAnimation\n",
    "from IPython.display import HTML\n",
    "plt.style.use('ggplot')\n",
    "\n",
    "from dspMisc import *"
   ]
  },
  {
   "cell_type": "markdown",
   "metadata": {},
   "source": [
    " \n",
    "# Digital Signals: Sampling and Superposition\n",
    "\n",
    "### Learning Outcomes\n",
    "* Understand how we can approximate a sine wave with a specific frequency, given a specific sampling rate\n",
    "* Understand how sampling rate limits the frequencies of sinusoids we can describe with discrete sequences\n",
    "* Explain when aliasing will occur and how this relates the sampling rate and the Nyquist frequency.\n",
    "* Observe how compound waveforms can be described as a linear combination of complex sinusoids ('superposition')\n",
    "\n",
    "### Background\n",
    "* Topic Videos: Digital Signal, Short Term Analysis, Series Expansion\n",
    "* [Interpreting the discrete fourier transform](./signals-1-1-interpreting-the-discrete-fourier-transform.ipynb)\n",
    "\n",
    "#### Extra background (extension material)\n",
    "* [Digital Signals: Sinusoids and Complex Numbers](./signals-1-2a-digital-signals-complex-numbers.ipynb)\n"
   ]
  },
  {
   "cell_type": "markdown",
   "metadata": {},
   "source": [
    "## 1 Introduction\n",
    "\n",
    "In the class videos, you've seen that sound waves are changes in air pressure (amplitude) over time. In the notebook [interpreting the discrete fourier transform](./signals-1-1-interpreting-the-discrete-fourier-transform.ipynb), we saw that we can \n",
    "decompose complex sound waves into 'pure tone' frequency components (sinusoids). We also saw that the output of the DFT was actually a sequence of complex numbers! In this notebook, we'll give a bit more background on the relationship \n",
    "between complex numbers and sinusoids, and why it's useful to characterise sinusoids in the complex plane. "
   ]
  },
  {
   "cell_type": "markdown",
   "metadata": {},
   "source": [
    "## 2 Complex Sinusoids: tl;dr\n",
    "\n",
    "At this point, we should say that you can get a conceptual understanding of digital signal processing concepts without going through _all_ the math. We certainly won't be examining your knowledge of complex numbers or geometry in this class.  Of course, if you want to go further in understanding digital signal processing then you will have to learn a bit more about complex numbers, algebra, calculus and geometry than we'll touch upon here.\n",
    "\n",
    "However, right now the main point that we'd like you to take away from this notebook is that we can conveniently represent periodic functions, like sine waves, in terms of **complex sinusoids**: basically what shown on the left hand side of the following gif:\n",
    "\n",
    "![Complex sinusoid to sine wave gif](../fig/phasor.gif)\n",
    "\n",
    "You can think of the complex sinusoid (left) as an analogue clockface with one moving hand. On the right hand side is one period of a 'pure tone' (real) sinusoid, sin(t).   \n",
    "\n",
    "Now, we can think of every movement of the 'clockhand' (a complex number which we can represent as a **2D vector**) as a step in time on the sinusoid graph: at every time step the 'clockhand' vector rotates by some angle. If you follow the blue dots on both graphs, you should be able to see that the amplitude of the sinusoid matches the height of the vector at each time step. \n",
    "\n",
    "This gives us a different way of viewing the periodicity of $\\sin(t)$.  The sinusoid starts to repeat itself when the vector has done one full circle. So, rather than drawing out an infinite time vs amplitude graph, we can capture the behaviour of this periodic function in terms rotations with respect to this finite circle. \n",
    "\n",
    "So, what's the connection with complex numbers?  Well, that blue dot on  actually represents a complex number, and the dimensions of that graph are actually the **real** (horizontal) and **imaginary** (vertical) parts of that complex number. That is, a complex number of the form $a + jb$, where $a$ is the real part and $b$ is the imaginary part.  Quite conveniently, we can also express complex numbers in terms of a **magnitude** or radius $r$ (length of the clockhand) and a **phase angle** $\\theta$ (angle of rotation from the point (1,0)) and an exponential.  So, we can write each point that the rotation hits in the form $re^{j\\theta}$.  This will be familiar if you've had a look at the DFT formulae. \n",
    "\n",
    "This relationship with complex numbers basically allows us to describe complicated periodic waveforms in terms of combinations of 'pure tone' sinusoids.  It turns out that maths for this works very elegantly using the complex number based representation. \n",
    "\n",
    "The basic things you need to know are:\n",
    "\n",
    "* A **sinusoid** (time vs amplitude, i.e. in the **time domain**) can be described in terms of a vector rotating around a circle\n",
    "* That rotating vector (i.e., 'clockhand') is described by a complex number $re^{j\\theta}$\n",
    "* $re^{j\\theta}$ is a point on a circle centered at (0,0) with radius  $r$, $\\theta$ degrees rotated from $(r,0)$ on the 2D plane. \n",
    "    * the **magnitude** $r$ tells us what the peak amplitude of the corresponding sine wave is\n",
    "    * the **phase angle** $\\theta$ tells us how far around the circle the rotation has gone:\n",
    "      * zero degrees (0 radians) corresponds to the point (r,0), while 90 degrees ($\\pi/2$ radians) corresponds to the point (0,r)\n",
    "* The vertical projection of the vector (onto the y-axis) corresponds to the amplitude of a **sine wave** $\\sin(\\theta)$ \n",
    "* The horizontal projection of the vector (onto the x-axis) corresponds to the amplitude of a **cosine wave** $\\cos(\\theta)$ \n",
    "* The **period** of these sine and cosine waves is the same as the time it takes to make one full circle of the complex sinusoid (in seconds). As such the **frequency** of the sine and cosine waves is the same as the frequency with which the complex sinusoid makes a full cycle (in cycles/second = Hertz). \n",
    "\n",
    "If you take the maths on faith, you can see all of this just from the gif above. You'll probably notice in most phonetics text books, if they show this at all, they will just show the rotating vector without any of the details. \n",
    "\n",
    "If you want to know more about how this works, you can find a quick tour of these concepts in the (extension) notebook on [Sinusoids and Complex Numbers](./sp-m1-2-digital-signals-complex-numbers).  But it's fine if you don't get all the details right now.  In fact, if you get the intuition behind from the complex sinusoid/sine wave relationship above, it's fine to move on now to the rest of the content in this notebook. "
   ]
  },
  {
   "cell_type": "markdown",
   "metadata": {},
   "source": [
    "## Changing the frequency of a sinusoid\n",
    "\n",
    "So, we think of sine (and cosine) waves in terms of taking steps around a circle in the 2D (complex) plane.  Each of these 'steps' was represented by a complex number, $re^{j\\theta}$ where the magnitude $r$ tells you the radius of the circle, and the phase angle $\\theta$ tells you how far around the circle you are. When $\\theta = 0$, means you are at the point (r,0), while $\\theta = 90$ degrees means you are at the point (0,r).  There are 360 degrees (or 2$\\pi$ radians) makes a complete cycle, i.e. when $\\theta = 360$ degrees, you end up back at (r,0).\n",
    "\n",
    "<div class=\"alert alert-success\">\n",
    "    It's often easier to deal with angles measured in <strong>radians</strong> rather than <strong>degrees</strong>.  The main thing to note is that:\n",
    "    $$2\\pi \\text{ radians} = 360 \\text{ degrees, i.e. 1 full circle }$$\n",
    "Again, it may not seem obvious why we should want to use radians instead of the more familiar degrees.  The reason is that it makes dividing up a circle really nice and neat and so ends up making calculations much easier in the long run!\n",
    "</div>\n",
    "\n",
    "So that describes a generic sinusoid, e.g. $\\sin(\\theta)$, but now you might ask yourself how do we generate a generate a sine wave with a specific frequency $f$ Herzt (Hz=cycles/second)? \n",
    "\n",
    "Let's take a concrete example, if we want a sinusoid with a frequency of $f=10$ Hz, that means:\n",
    "* **Frequency:** we need to complete 10 full cycles (i.e. 360 degree rotation) in 1 second.  \n",
    "* **Period:** So, we have to complete 1 full cycle every 1/10 seconds (i.e. the period of this sinusoid $T=0.1$ seconds). \n",
    "* **Angular velocity:** So, the rotating vector has to rotate at a speed of $2\\pi/0.1 = 20\\pi$ radians per second\n",
    "\n",
    "So if we take $t$ to represent time, a sine wave with frequency 10 Hz has the form $\\sin(20\\pi t)$\n",
    "* Check: at $t=0.1$ seconds we have $\\sin(20 \\times \\pi \\times 0.1) = \\sin(2\\pi)$, one full cycle. \n",
    "* This corresponds to the complex sinusoid $e^{20\\pi t j}$, where $t$ represents some point in time. \n",
    "\n",
    "In general:\n",
    "* A sine wave with peak amplitude R and frequency $f$ Hz is expressed as $R\\sin(2 \\pi f t)$\n",
    "   * The amplitude of this sine wave at time $t$ corresponds to the imaginary part of the complex sinusoid $Re^{2\\pi ftj}$.  \n",
    "* A cosine wave with peak amplitude R and frequency $f$ Hz is expressed as $\\cos (2 \\pi f t$)\n",
    "   * The amplitude of this cosine wave at time $t$ corresponds to the real part of the complex sinusoid $Re^{2\\pi ftj}$.  \n",
    "\n",
    "\n",
    "The term $2\\pi f$ corresponds to the angular velocity, often written as $\\omega$ which is measured in radians per second.\n",
    "\n",
    "\n",
    "\n",
    "\n"
   ]
  },
  {
   "cell_type": "markdown",
   "metadata": {},
   "source": [
    "### Exercise\n",
    "Q: What's the frequency of $\\sin(2\\pi t)$? \n"
   ]
  },
  {
   "cell_type": "code",
   "execution_count": null,
   "metadata": {},
   "outputs": [],
   "source": []
  },
  {
   "cell_type": "markdown",
   "metadata": {},
   "source": [
    "## Frequency and Sampling Rate\n",
    "\n",
    "The representation above assumes we're dealing with a continuous sinusoid, but since we're dealing with computers we need to think about digital (i.e. discrete) representations of waveforms. \n",
    "So if we want to analyze a wave, we also need to sample it at a specific **sampling rate**, $f_s$. \n",
    "\n",
    "For a given sampling rate $f_s$ (samples/second) we can work out the time between each sample, the **sampling period** as:\n",
    "\n",
    "$$  t_s = \\frac{1}{f_s}$$ \n",
    "\n",
    "The units of $t_s$ is seconds/sample.  That means that if we want a complex sinusoid to complete $f$ cycles/second, the angle between each sampled $\\theta_s$ step will need to be a certain size in order to  complete a full cycle every $t_s$ seconds. \n",
    "\n",
    "The units here help us figure this out: the desired frequency $f$ has units cycles/second. So, we can calculate what fraction of a complete cycle we need to take with each sample by multiplying $f$ with the sampling time $t_s$. \n",
    "* $c_s = ft_s$.  \n",
    "* cycles/sample  = cycles/second x seconds/sample \n",
    "\n",
    "We know each cycle is $2\\pi$ radians (360 degrees), so we can then convert $c_s$ to an angle as follows: \n",
    "* $ \\theta_s = 2 \\pi c_s $\n"
   ]
  },
  {
   "cell_type": "markdown",
   "metadata": {},
   "source": [
    "### Exercise\n",
    "\n",
    "Q: Calculate the period $t_s$ and angle $\\theta_s$ between samples for a sine wave with frequency $f=8$ Hz and sampling rate of $f_s=64$  \n"
   ]
  },
  {
   "cell_type": "markdown",
   "metadata": {},
   "source": [
    "### Notes"
   ]
  },
  {
   "cell_type": "code",
   "execution_count": null,
   "metadata": {},
   "outputs": [],
   "source": []
  },
  {
   "cell_type": "markdown",
   "metadata": {},
   "source": [
    "### Setting the Complex Sinusoid Frequency\n",
    "\n",
    "I've written a function `gen_phasors_vals_freq` that calculates the complex sinusoid values (`zs`), angles  (`thetas`) and time steps (`tsteps`) for a sinusoid with a given frequency `freq` over a given time period (`Tmin` to `Tmax`). In the following we'll use this to plot how changes in the rotating vector of representing the complex sinusoid relate to changes in the corresponding sinusoid given a specific sampling rate (`sampling_rate`). \n",
    "\n",
    "<div class=\"alert alert-warning\">\n",
    "    <strong>Terminology warning</strong>: In the code below, I've often referred to the complex sinusoid (i.e., the rotating 'clockhand' vector) as the <strong>\"phasor\"</strong>. This is actually an <em>inaccurate</em> use of terminology.  A phasor is defined as a single complex number which tells you how to scale and shift a complex sinusoid (rotating in time, magnitude 1, no phase shift) to get the sinusoid you want.  So, technically a phasor tells you the sinusoid's magnitude and phase, but it doesn't tell you anything about the frequency (so doesn't fully characterise the sinusoid). But in the code below <tt>phasor</tt> generally refers to the points in the complex plane that the corresponding complex sinusoid would sample (because it was easier than writing \"complex sinusoid\" all the time).\n",
    "</div>\n"
   ]
  },
  {
   "cell_type": "markdown",
   "metadata": {},
   "source": [
    "#### Example: \n",
    "\n",
    "Let's look at a complex sinusoid and corresponding sine wave with frequency $f=2$ Hz (`freq`), given a sampling rate of $f_s=16$ (`sampling_rate`) over 4 seconds. "
   ]
  },
  {
   "cell_type": "code",
   "execution_count": null,
   "metadata": {},
   "outputs": [],
   "source": [
    "## Our parameters:\n",
    "Tmin = 0\n",
    "Tmax = 4\n",
    "\n",
    "freq = 2                 # cycles/second\n",
    "sampling_rate = 16       # i.e, f_s above\n",
    "t_step=1/sampling_rate   # i.e., t_s above"
   ]
  },
  {
   "cell_type": "code",
   "execution_count": null,
   "metadata": {},
   "outputs": [],
   "source": [
    "## Get our complex values corresponding to the phasor with frequency freq\n",
    "zs, thetas, tsteps = gen_phasor_vals_freq(Tmin=Tmin, Tmax=Tmax, t_step=t_step, freq=freq)\n",
    "\n",
    "## Project to real and imaginary parts for plotting\n",
    "Xs = np.real(zs)\n",
    "Ys = np.imag(zs)\n",
    "\n",
    "\n",
    "## generate the background for the plot: a phasor diagram on the left, a time v amplitude graph on the right\n",
    "fig, phasor, sinusoid = create_anim_bkg(tsteps, thetas, freq)\n",
    "\n",
    "## the phasor (the complex sinusoid) is plotted on the left on the left with a circle with radius 1 for reference\n",
    "phasor.set_xlabel(\"Real values\")\n",
    "phasor.set_ylabel(\"Imaginary values\")\n",
    "# plot the points the phasor will \"step on\"\n",
    "phasor.scatter(Xs, Ys)\n",
    "\n",
    "## Plot our actual sampled sine wave in magenta on the right\n",
    "sinusoid.plot(tsteps, Ys, 'o', color='magenta')\n",
    "sinusoid.set_xlabel(\"Time (s)\")\n",
    "sinusoid.set_ylabel(\"Amplitude\")"
   ]
  },
  {
   "cell_type": "markdown",
   "metadata": {},
   "source": [
    "You should see two graphs above:\n",
    "* On the left is the complex sinusoid diagram: the grey circle represents a complex sinusoid (named `phasor` in the code) with magnitude 1, the red dots represents the points on the circle that are sampled from the complex sinusoid between `tmin` and `tmax` given the `sampling_rate`. \n",
    "* On the right is the time versus amplitude graph: The grey line shows a continuous sine wave with with frequency `freq`, the magenta dots show the points we actually sample between times `tmin` and `tmax` given the `sampling_rate`. \n",
    "\n",
    "You can see that although we sample 64 points for the sine wave, we actually just hit the same 8 values per cycle on the complex sinusoid. \n",
    "\n",
    "It's clearer when we animate it in time: "
   ]
  },
  {
   "cell_type": "code",
   "execution_count": null,
   "metadata": {},
   "outputs": [],
   "source": [
    "## Now let's animate it! \n",
    "## a helper to draw the 'clockhand' line\n",
    "X, Y, n_samples = get_line_coords(Xs, Ys)\n",
    "## initialize the animation\n",
    "line = phasor.plot([], [], color='b', lw=3)[0]\n",
    "sin_t = sinusoid.plot([], [], 'o', color='b')[0]\n",
    "figs = (line, sin_t)\n",
    "\n",
    "anim = FuncAnimation(\n",
    "    fig, lambda x: anim_sinusoid(x, X=X, Y=Y, tsteps=tsteps, figs=figs), interval=600, frames=n_samples)\n",
    " \n",
    "HTML(anim.to_html5_video())\n"
   ]
  },
  {
   "cell_type": "markdown",
   "metadata": {},
   "source": [
    "\n",
    "### Exercise \n",
    "Change the `freq` variable in the code below to investigate: \n",
    "\n",
    "* What happens when the sine wave frequency (cycles/second) `freq` is set to `sampling_rate/2`?\n",
    "* What happens when the frequency `freq` approaches the half the `sampling_rate`? \n",
    "* What happens when the frequency `freq` equals the half the `sampling_rate`? \n",
    "* What happens when the frequency `freq` is greater than `sampling_rate/2`"
   ]
  },
  {
   "cell_type": "code",
   "execution_count": null,
   "metadata": {},
   "outputs": [],
   "source": [
    "## Example: Play around with these values\n",
    "Tmax = 1\n",
    "Tmin = 0\n",
    "\n",
    "freq = 2   # cycles/second\n",
    "sampling_rate = 16 # f_s above\n",
    "t_step=1/sampling_rate\n",
    "\n",
    "print(\"freq=%.2f cycles/sec, sampling rate=%.2f samples/sec, sampling period=%.2f sec\" % (freq, sampling_rate, t_step) )\n",
    "\n",
    "## Get our complex values corresponding to the sine wave\n",
    "zs, thetas, tsteps = gen_phasor_vals_freq(Tmin=Tmin, Tmax=Tmax, t_step=t_step, freq=freq)\n",
    "\n",
    "## Project to real and imaginary parts for plotting\n",
    "Xs = np.real(zs)\n",
    "Ys = np.imag(zs)\n",
    "\n",
    "## generate the background\n",
    "fig, phasor, sinusoid = create_anim_bkg(tsteps, thetas, freq)\n",
    "\n",
    "## Plot the phasor samples\n",
    "phasor.scatter(Xs, Ys)\n",
    "phasor.set_xlabel(\"Real values\")\n",
    "phasor.set_ylabel(\"Imaginary values\")\n",
    "\n",
    "## Plot our actual sampled sine wave in magenta\n",
    "sinusoid.plot(tsteps, Ys, 'o-', color='magenta')\n",
    "sinusoid.set_xlabel(\"Time (s)\")\n",
    "sinusoid.set_ylabel(\"Amplitude\")\n",
    "\n",
    "## Animate the phasor and sinusoid\n",
    "X, Y, n_samples = get_line_coords(Xs, Ys)\n",
    "\n",
    "line = phasor.plot([], [], color='b', lw=3)[0]\n",
    "sin_t = sinusoid.plot([], [], 'o', color='b')[0]\n",
    "figs = (line, sin_t)\n",
    "anim = FuncAnimation(\n",
    "    fig, lambda x: anim_sinusoid(x, X=X, Y=Y, tsteps=tsteps, figs=figs), interval=600, frames=n_samples)\n",
    " \n",
    "HTML(anim.to_html5_video())\n"
   ]
  },
  {
   "cell_type": "markdown",
   "metadata": {},
   "source": [
    "###  Notes\n"
   ]
  },
  {
   "cell_type": "code",
   "execution_count": null,
   "metadata": {},
   "outputs": [],
   "source": []
  },
  {
   "cell_type": "markdown",
   "metadata": {},
   "source": [
    "## Aliasing\n",
    "\n",
    "If you change the frequency (`freq`) for the complex sinusoid to be higher than half the sampling rate, you'll see that the actual frequency  doesn't actually keep getting higher.  In fact, with `freq=8` the sine wave (i.e. projection of the vertical (imaginary) component) doesn't appear to have any amplitude modulation at all.  However, keen readers will note that for `sampling_rate=16` and `freq=8` in the example above, the real projection (i.e. cosine) would show amplitude modulations since $\\cos(t)$ is 90 degree phase shifted relative to $\\sin(t)$. The complex sinusoid with `freq=15` appears to complete only one cycle per second, just like for `freq=1`, but appears to rotating the opposite way.  \n",
    "\n",
    "These are examples of **aliasing**: given a specific sampling rate there is a limit to which we can distinguish different frequencies because we simply can't take enough samples to show the difference! \n",
    "\n",
    "In the example above, even though we are sampling from a 15 Hz wave for `freq=15`, we only get one sample per cycle and the overall sampled sequence looks like a 1 Hz wave. So, the fact that the rotating vector appears to rotate the opposite way to `freq=1` is because it's actually just the 15th step of the `freq=1` sinusoid.  \n",
    "\n",
    "<div class=\"alert alert-success\">\n",
    "In general, with a sampling rate of $f_s$ we can't distinguish between a sine wave of frequency $f_0$ and a sine wave of $f_0 + kf_s$ for any integer $k$.\n",
    "</div>\n",
    "\n",
    "This means that we can't actually tell the frequency of the underlying waveform based on the sample amplitudes alone. \n",
    "\n",
    "The practical upshot of this is that for sampling rate $f_s$, the highest frequency we can actually sample is $f_s/2$, the **Nyquist Frequency**.  This is one of the most important concepts in digital signal processing and will effect pretty much all the methods we use.  It's why we see the mirroring effect in [the DFT output spectrum](./signals-1-1-interpreting-the-discrete-fourier-transform.ipynb). So, if you remember just one thing, remember this! \n",
    "\n"
   ]
  },
  {
   "cell_type": "markdown",
   "metadata": {},
   "source": [
    "## Superposition\n",
    "\n",
    "This use of complex sinusoids may seem excessively complex at the moment, but it actually gives us a nice way of visualizing what happens when we add two sine waves together, i.e. linear superposition.  \n",
    "\n",
    "We've seen how the Fourier Transform gives us a way of breaking down periodic waveforms (no matter how complicated) into a linear combination of sinusoids (cosine waves, specifically).  But if you've seen the actual DFT equations, you'll have noticed that each DFT output is actually is described in terms of complex sinusoids of specific frequencies (e.g. sums over $e^{-j \\theta}$ values).  We can now get at least a visual idea of what this means.\n",
    "\n",
    "Let's look at how can combining complex sinusoids can let us define complicated waveforms in a simple manner. \n"
   ]
  },
  {
   "cell_type": "markdown",
   "metadata": {},
   "source": [
    "### Magnitude and Phase Modifications\n",
    "First, let's note that we can easily change the magnitude and phase of a sine wave before adding it to others to make a complex waveform. \n",
    "\n",
    "* We can change the magnitude of a sinusoidal component by multiplying all the values of that sinusoid by a scalar $r$.\n",
    "\n",
    "* We can apply a phase shift of $\\phi$ radians to $\\sin(\\theta)$ to gives us a sine wave of the form: $\\sin(\\theta + \\phi)$.  It basically means we start our cycles around the unit circle at $e^{i\\phi}$ instead of at $e^{i0} = 1 + i0 \\mapsto (1,0)$ "
   ]
  },
  {
   "cell_type": "markdown",
   "metadata": {},
   "source": [
    "### Generating linear combinations of sinusoids\n",
    "\n",
    "Let's plot some combinations of sinusoids.\n",
    "\n",
    "First let's set the sampling rate and the start and end times of the sequence we're going to generate:"
   ]
  },
  {
   "cell_type": "code",
   "execution_count": null,
   "metadata": {},
   "outputs": [],
   "source": [
    "## Some parameters to play with \n",
    "Tmax = 2\n",
    "Tmin = 0\n",
    "\n",
    "sampling_rate = 16\n",
    "t_step=1/sampling_rate"
   ]
  },
  {
   "cell_type": "markdown",
   "metadata": {},
   "source": [
    "Now, let's create some complex sinusoids with different magnitudes, frequencies and phases. Here we create 2 complex sinusoids with magnitude 1 and no phase shift, one with `freq=2` Hz and another  with frequency `2*freq`.  \n",
    "\n",
    "We then add the two sinusoid values together at each timestep (`zs_sum` in the code below): "
   ]
  },
  {
   "cell_type": "code",
   "execution_count": null,
   "metadata": {},
   "outputs": [],
   "source": [
    "## Define a bunch of sinusoids.  We can do this in terms of 3 parameters:  \n",
    "## (magnitude, frequency, phase)\n",
    "\n",
    "## The following defines two sinusoids, both with magnitude (peak amplitude) 1 and the same phase (no phase shift) \n",
    "## The second has double the frequency of the first:\n",
    "freq=2\n",
    "params = [(1, freq, 0), (1, 2*freq, 0)]  \n",
    "\n",
    "## Later: change these values and see what happens, e.g. \n",
    "#params = [(1, freq, 0), (0.4, 5*freq, 0), (0.4, 5*freq, np.pi)]  \n",
    "\n",
    "phasor_list = []\n",
    "theta_list = []\n",
    "tsteps_list = []\n",
    "\n",
    "## Generate a list of complex sinusoids (phasors) for each set of (mag, freq, phase) parameters\n",
    "for mag, freq, phase in params: \n",
    "    ## Generate a sinusoid with frequency freq\n",
    "    ## zs are the complex sinusoid values\n",
    "    ## thetas are the corresponding angles for each value in zs\n",
    "    ## tsteps are the corresponding time steps for each value in zs\n",
    "    zs, thetas, tsteps = gen_phasor_vals_freq(Tmin=Tmin, Tmax=Tmax, t_step=t_step, freq=freq) \n",
    "    \n",
    "    ## Apply the phase_shift \n",
    "    phase_shift = np.exp(1j*phase)\n",
    "    \n",
    "    ## scale by the magnitude mag - changes the peak amplitude\n",
    "    zs = mag*zs*phase_shift\n",
    "    \n",
    "    ## Append the phasor to a list\n",
    "    phasor_list.append(zs)\n",
    "    \n",
    "    ## The angle sequence and time sequence in case you want to inspect them\n",
    "    ## We don't actually use them below\n",
    "    theta_list.append(thetas)\n",
    "    tsteps_list.append(tsteps)\n",
    "\n",
    "## Superposition: add the individual phasors in the list together (all with the same weights right now)\n",
    "zs_sum = np.zeros(len(tsteps_list[0]))\n",
    "for z in phasor_list: \n",
    "    zs_sum = zs_sum + z"
   ]
  },
  {
   "cell_type": "markdown",
   "metadata": {},
   "source": [
    "Now, we can plot the sine (vertical) component of the individual sinusoids (on the right), ignoring the cosine (horizontal) component for the moment. "
   ]
  },
  {
   "cell_type": "code",
   "execution_count": null,
   "metadata": {},
   "outputs": [],
   "source": [
    "## Plot the complex sinusoid (left) and the projection of the imaginary (vertical) component (right)\n",
    "## cosproj would be the projection to the real axis, but let's just ignore that for now\n",
    "\n",
    "fig, phasor, sinproj, cosproj = create_phasor_sinusoid_bkg(Tmin, Tmax, ymax=3, plot_phasor=True, plot_real=False, plot_imag=True,)\n",
    "\n",
    "dense_tstep=0.001\n",
    "for mag, freq, phase in params:  \n",
    "    ## We just want to plot the individual sinusoids (time v amplitude), so we ignore \n",
    "    ## the complex numbers we've been using to plot the phasors\n",
    "    _, dense_thetas, dense_tsteps = gen_phasor_vals_freq(Tmin, Tmax, dense_tstep, freq)    \n",
    "    sinproj.plot(dense_tsteps, mag*np.sin(dense_thetas+phase), color='grey')\n",
    "    \n"
   ]
  },
  {
   "cell_type": "markdown",
   "metadata": {},
   "source": [
    "Now plot the sum of the complex sinusoids (left) and the projected imaginary component in magenta (right) - that is, the sum of the sine components (in grey)"
   ]
  },
  {
   "cell_type": "code",
   "execution_count": null,
   "metadata": {
    "scrolled": false
   },
   "outputs": [],
   "source": [
    "## Plot sinusoids as sampled\n",
    "Xlist = []\n",
    "Ylist = []\n",
    "\n",
    "## some hacks to get to represent the individual phasors as lines from the centre of a circle as well as points\n",
    "for i, zs in enumerate(phasor_list):\n",
    "    Xs_ = np.real(zs)\n",
    "    Ys_ = np.imag(zs)\n",
    "    X_, Y_, _ = get_line_coords(Xs_, Ys_)\n",
    "    Xlist.append(X_)\n",
    "    Ylist.append(Y_)\n",
    "\n",
    "## Project the real and imaginary parts of the timewise summed phasor values\n",
    "Xs = np.real(zs_sum)\n",
    "Ys = np.imag(zs_sum)\n",
    "Xline, Yline, _ = get_line_coords(Xs, Ys)\n",
    "\n",
    "## plot the summed phasor values as 2-d coordinates (left)\n",
    "phasor.scatter(Xs, Ys)\n",
    "## plot the sine projection of the phasor values in time (right)\n",
    "sinproj.plot(tsteps_list[0], Ys, color='magenta')\n",
    "fig"
   ]
  },
  {
   "cell_type": "markdown",
   "metadata": {},
   "source": [
    "Now let's see an animation of how we're adding these complex sinusoids together! "
   ]
  },
  {
   "cell_type": "code",
   "execution_count": null,
   "metadata": {
    "scrolled": false
   },
   "outputs": [],
   "source": [
    "anim = get_phasor_animation(Xline, Yline, tsteps, phasor, sinproj, cosproj, fig, Xlist=Xlist, Ylist=Ylist, params=params)\n",
    "anim"
   ]
  },
  {
   "cell_type": "markdown",
   "metadata": {},
   "source": [
    "In the animation above you should see: \n",
    "* the red circle represents the first complex sinusoid (`freq=2`)\n",
    "* the blue circle represents the 2nd complex sinusoid (`freq=4`)\n",
    "* In adding the the two complex sinusoids together, we add the corresponding vectors for each complex sinusoid at each point in time. "
   ]
  },
  {
   "cell_type": "markdown",
   "metadata": {},
   "source": [
    "### Exercise:\n",
    "\n",
    "\n",
    "* What happens when you add up two sinusoids with the same frequency but different magnitudes\n",
    "    * e.g. `params = [(1, freq, 0), (2, freq, 0)]`\n",
    "    \n",
    "    \n",
    "* What happens when you change the phase? \n",
    "    * Can you find $\\phi$ such that $\\sin(\\theta+\\phi) = \\cos(\\theta)$ ? \n",
    "    \n",
    "    \n",
    "* When do the individual sinusoids cancel each other out? \n",
    "\n",
    "\n",
    "* Assume you have a compound sinusoid defined by the following params: \n",
    "    * `params = [(1, freq, 0), (0.4, 5*freq, 0)]`  \n",
    "    * What sinusoid could you add to cancel the higher frequency component out while keeping the lower frequency one? \n"
   ]
  },
  {
   "cell_type": "markdown",
   "metadata": {},
   "source": [
    "### Notes\n"
   ]
  },
  {
   "cell_type": "code",
   "execution_count": null,
   "metadata": {},
   "outputs": [],
   "source": []
  },
  {
   "cell_type": "markdown",
   "metadata": {},
   "source": [
    "## Maths Perspective: The DFT equation as a sum of complex sinusoids\n",
    "\n",
    "Now if you look at the mathematical form of the DFT, you can start to recognize this as representing a sequence of complex sinusoids of different frequencies, which have a real (cosine) and imaginary (sine) component. \n",
    "\n",
    "The DFT is defined as follows:\n",
    "\n",
    "* For input: $x[n]$, for $n=0..N-1$ (i.e. a time series of $N$ samples)\n",
    "* We calculate an output of N complex numbers $\\mapsto$ magnitude and phases of specific complex sinusoids:\n",
    "\n",
    "Where the $k$th output, DFT[k], is calculated using the following equation: \n",
    "$$ \n",
    "\\begin{align}\n",
    "DFT[k] &= \\sum_{n=0}^{N-1} x[n] e^{-j \\frac{2\\pi n}{N} k} \\\\\n",
    "\\end{align}\n",
    "$$\n",
    "\n",
    "Which is equivalent to the following (using Euler's rule):\n",
    "\n",
    "$$\n",
    "\\begin{align}\n",
    "DFT[k] &= \\sum_{n=0}^{N-1} x[n]\\big[\\cos(\\frac{2\\pi n}{N} k) - j \\sin(\\frac{2\\pi n}{N} k) \\big] \n",
    "\\end{align}\n",
    "$$\n",
    "\n",
    "This basically says that each DFT output is the result of multiplying the $n$th input value $x[n]$ with the $n$th sample of a complex sinusoid (hence sine and cosine waves) of a specific frequency, and summing the result (hence the complex number output). The frequency of DFT[k] is $k$ times the frequency of DFT[1], where the frequency of DFT[1] depends on the input size $N$ and the sampling rate (as discussed the [this notebook](./signals-1-1-interpreting-the-discrete-fourier-transform.ipynb)). The sampling rate determines the time each rotation step takes, hence how much time it takes to make a full cycle, hence what frequencies we can actually compare the input against.  \n",
    "\n",
    "The pointwise multiplication and summation is also known as a dot product (aka inner product).  The dot product between two vectors tells us how similar those two vectors are. So in a very rough sense, the DFT 'figures out' which frequency components are present in the input, by looking at how similar the input is to each of the N complex sinusoids represented in the DFT output. \n",
    "\n",
    "There are two more notebooks on the DFT for this module, but both are extension material (not essential).\n",
    "\n",
    "* [This notebook](./signals-1-3-discrete-fourier-transform-in-detail.ipynb) goes into more maths details but is purely extension material\n",
    "* [This notebook](./signals-1-4-more-interpreting-the-dft.ipynb) looks at a few more issues in interpreting the DFT (also extension material)\n",
    "\n",
    "So, you can look at those if you want more details. Otherwise, we'll move onto the source-filter model in the second signals lab! \n"
   ]
  },
  {
   "cell_type": "code",
   "execution_count": null,
   "metadata": {},
   "outputs": [],
   "source": []
  }
 ],
 "metadata": {
  "kernelspec": {
   "display_name": "Python 3",
   "language": "python",
   "name": "python3"
  },
  "language_info": {
   "codemirror_mode": {
    "name": "ipython",
    "version": 3
   },
   "file_extension": ".py",
   "mimetype": "text/x-python",
   "name": "python",
   "nbconvert_exporter": "python",
   "pygments_lexer": "ipython3",
   "version": "3.8.11"
  }
 },
 "nbformat": 4,
 "nbformat_minor": 2
}
