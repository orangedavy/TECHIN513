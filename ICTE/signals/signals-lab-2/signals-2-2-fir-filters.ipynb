{
 "cells": [
  {
   "cell_type": "markdown",
   "metadata": {},
   "source": [
    "#### _Speech Processing Labs: SIGNALS 2: FIR Filters_"
   ]
  },
  {
   "cell_type": "code",
   "execution_count": null,
   "metadata": {},
   "outputs": [],
   "source": [
    "%matplotlib inline\n",
    "import matplotlib.pyplot as plt\n",
    "import numpy as np\n",
    "\n",
    "import cmath\n",
    "from math import floor\n",
    "from matplotlib.animation import FuncAnimation\n",
    "from IPython.display import HTML\n",
    "plt.style.use('ggplot')\n",
    "\n",
    "from dspMisc import *"
   ]
  },
  {
   "cell_type": "markdown",
   "metadata": {},
   "source": [
    "# Filtering the Source: Finite Impulse Response Filters \n",
    "\n",
    "### Learning Outcomes\n",
    "* Be able to describe what an FIR filter is\n",
    "* Be able to explain what the impulse response of an FIR filter is\n",
    "* See how an FIR filter can be used as a lowpass frequency filter.\n",
    "* See how changing the coefficients of an FIR filter can change it's frequency response\n",
    "\n",
    "### Need to know\n",
    "* Topic Videos: Spectral Envelope, Filter, Impulse Train\n",
    "* [Interpreting the DFT](../signals-lab-1/signals-1-1-interpreting-the-discrete-fourier-transform.ipynb)\n",
    "* [Building the source: impulse trains](./signals-2-1-impulse-as-source.ipynb)\n",
    "\n",
    "<div class=\"alert alert-warning\">\n",
    "<strong>Equation alert</strong>: If you're viewing this on github, please note that the equation rendering is not always perfect. You should view the notebooks through a jupyter notebook server for an accurate view.\n",
    "</div>\n",
    "\n",
    "\n",
    "## Filters \n",
    "\n",
    "We've seen in the past notebooks that sometimes our input signal isn't exactly what we want. There is a vast literature in signal processing about designing filters to transform one signal into another. In speech processing, our signals often includes some sort of noise that we'd like to get rid of.  However, we can also use filters to shape a simple input, like an impulse train, into something much more complicated, like a speech waveform. \n",
    "\n",
    "In class you've seen two types of filters: \n",
    "\n",
    "* Finite Impulse Response (FIR)\n",
    "* Infinite Impulse Response (IIR)\n",
    "\n",
    "Both perform a transform on an input sequence $x[n]$ to give us some desired output sequence $y[n]$.  The difference between the two types of filters is basically whether we only use the inputs to derive each output $y[n]$ (FIR), or whether we also use previous outputs (IIR). \n",
    "\n",
    "In the following we'll illustrate some of the properties of FIR filters. "
   ]
  },
  {
   "cell_type": "code",
   "execution_count": null,
   "metadata": {},
   "outputs": [],
   "source": []
  },
  {
   "cell_type": "markdown",
   "metadata": {},
   "source": [
    "## 1  Finite Impulse Response Filters\n",
    "\n",
    "Finite Impulse Response (FIR) filters have the following form: \n",
    "\n",
    "$$\n",
    "\\begin{align}\n",
    "y[n] &= b[0]x[n] + b[1]x[n-1] + \\dots + b[K]x[n-K] \\\\\n",
    " &= \\sum_{k=0}^K b(k) x[n-k]\n",
    "\\end{align}\n",
    "$$\n",
    "\n",
    "Here, we have: \n",
    "* an input sequence $x[n]$ of length $N$\n",
    "* a set of $K$ filter coefficients.\n",
    "\n",
    "We can read the equation as saying that $n$th ouput of the filter, $y[n]$, is a weighted sum of the previous K inputs $x[n],...,x[n-K]$.  \n",
    "\n",
    "### Example\n",
    "Let's plot the $b[k]\\cdot x[n-k]$ terms where $x$ is sinusoid of 4 Hz and the filter is `b=[0.2, 0.2, 0.2, 0.2, 0.2]`"
   ]
  },
  {
   "cell_type": "code",
   "execution_count": null,
   "metadata": {},
   "outputs": [],
   "source": [
    "## Plotting a filter input window\n",
    "\n",
    "## Set the number of samples N, sampling rate f_s\n",
    "N=64\n",
    "f_s = 64\n",
    "t_s = 1/f_s\n",
    "print(\"sampling rate: f_s = %f\\nsampling time: t_s: %f\" % (f_s, t_s))\n",
    "\n",
    "x, time_steps = gen_sinusoid(frequency=4, phase=0, amplitude=1, sample_rate=f_s, seq_length=N, gen_function=np.cos)\n",
    "\n",
    "## Plot the sinusoid we've just created:\n",
    "fig, timedom = plt.subplots(figsize=(16, 4))\n",
    "timedom.plot(time_steps, x, 'o', color='grey')\n",
    "timedom.set_xlabel('Time (s)')\n",
    "timedom.set_ylabel('Amplitude')\n",
    "\n",
    "## Filter coefficients (you could try changing these)\n",
    "b = [0.2, 0.2, 0.2, 0.2, 0.2] \n",
    "\n",
    "## K is the number of filter coefficients\n",
    "K=len(b)\n",
    "print(\"number of filter coefficients: %d\" % K)\n",
    "\n",
    "## Let's see what happens when n=19 (or try changing this variable!)\n",
    "n=19\n",
    "print(\"filter using b at n=%d, K=%d\\n\" % (n, K))\n",
    "\n",
    "## Plot the values that are input to the filter\n",
    "## +1's because python indexing/slicing doesn't include the end point\n",
    "timedom.plot(time_steps[n+1-K:n+1], x[n+1-K:n+1], 'o', color='red')\n",
    "\n",
    "## Calculate the b[k]*x[n-k] terms and add them to a list\n",
    "filtered_n = []\n",
    "for k in range(len(b)):\n",
    "    ## print out the variables here\n",
    "    print(\"%d:, b[%d]=%f, x[%d-%d]=%f, b[%d]*x[%d-%d]=%f\" % (n-k, k, b[k], n, k,  x[n-k], k, n, k, b[k]*x[n-k]))\n",
    "    filtered_n.append(b[k]*x[n-k])\n",
    " \n",
    "## reverse the list so that they're in time order\n",
    "filtered_n.reverse()    \n",
    "\n",
    "## Plot the b[k]*x[n-k] terms\n",
    "timedom.plot(time_steps[n+1-K:n+1], filtered_n, 'o', color='blue')\n",
    "\n",
    "## Calculate the filter output (add up the product terms)\n",
    "print(\"\\ny[%d] = %f\" % (n, sum(filtered_n)))"
   ]
  },
  {
   "cell_type": "markdown",
   "metadata": {},
   "source": [
    "In the plot above, you should see:\n",
    "* A cosine wave with frequency 4 Hz in grey.  \n",
    "* The inputs the the filter x[19],...,x[15] in red.  \n",
    "    * 5 input values for 5 filter coefficients\n",
    "* The product $b[k]*x[n-k]$ for $n=19$, and $k=0,...,4$ in blue\n",
    "\n",
    "So with `b=[0.2, 0.2, 0.2, 0.2, 0.2]` all the input values get scaled down and the overall curve is less peaky.\n"
   ]
  },
  {
   "cell_type": "markdown",
   "metadata": {},
   "source": [
    "## 2 An FIR moving average filter\n",
    "\n",
    "The example above is actually a useful special case of an FIR filter is where each of the filter coefficients is just $1/K$. In this case our FIR equation looks like this: \n",
    "\n",
    " $$ \n",
    " \\begin{align}\n",
    "     y[n] &= \\sum_{k=0}^{K-1} \\frac{1}{K} x[n-k] \\\\\n",
    "          &= \\frac{1}{K} \\sum_{k=0}^{K-1}  x[n-k] \n",
    " \\end{align}\n",
    " $$\n",
    "\n",
    "This equation says that when we apply the filter, we step through the input. At each step, we output the average of the previous $K$ inputs. You might know this by another more intuitive name: a _moving average_.  You might also have seen this as method to 'smooth' an input.  \n",
    "\n",
    "Let's play around with this idea a bit and see how it relates to our notion of frequency response.\n"
   ]
  },
  {
   "cell_type": "markdown",
   "metadata": {},
   "source": [
    "### Example: \n",
    "\n",
    "Let's look at this 5-point moving average filter.  In this case all the filter coefficients $b[k] = 1/5$ for $k=0,..,K-1=4$\n",
    "\n",
    "$$ \n",
    "\\begin{align}\n",
    "y[n] &= \\frac{1}{5} \\sum_{k=0}^4 x[n-k] \\\\\n",
    "&= \\frac{1}{5}x[n] + \\frac{1}{5}x[n-1] + \\frac{1}{5}x[n-2] + \\frac{1}{5}x[n-3] + \\frac{1}{5}x[n-3]\n",
    "\\end{align}\n",
    "$$\n",
    "\n",
    "Now, let's code this specific filter up and apply it to some sequences! \n"
   ]
  },
  {
   "cell_type": "code",
   "execution_count": null,
   "metadata": {},
   "outputs": [],
   "source": [
    "# Apply a moving average filter of size K to input sequence x\n",
    "def moving_average(x, K=5):\n",
    "    ## There are quicker ways to do this in numpy, but let's just do it this way for now for transparency\n",
    "    \n",
    "    ## We know that we'll have as many outputs as inputs, so we can initialize y to all zeros\n",
    "    N = len(x)    \n",
    "    y = np.zeros(N)\n",
    "    \n",
    "    ## Go through the input one step at a time \n",
    "    for n in range(N):\n",
    "        \n",
    "        ## Add up the last K inputs (including the current one)\n",
    "        for k in range(K):\n",
    "            \n",
    "            ## Exercise: why do we have to put this conditional in here? \n",
    "            if n-k >= 0:\n",
    "                y[n] = y[n] + x[n-k]\n",
    "        \n",
    "        ## Divide by the size of the input window to get an average\n",
    "        y[n] = (1/K) * y[n]\n",
    "\n",
    "    return y\n",
    "        \n",
    "    \n"
   ]
  },
  {
   "cell_type": "markdown",
   "metadata": {},
   "source": [
    "### Generate a 'noisy' sinusoid\n",
    "\n",
    "Let's generate a compound sinusoid with one low frequency and one high(er) frequency component.  We can take the higher frequency component as representing some sort of periodic noise in the signal."
   ]
  },
  {
   "cell_type": "code",
   "execution_count": null,
   "metadata": {},
   "outputs": [],
   "source": [
    "## Set the number of samples N, sampling rate f_s (hence sampling time t_s)\n",
    "N=64\n",
    "f_s = 64\n",
    "t_s = 1/f_s\n",
    "\n",
    "print(\"sampling rate: f_s = %f\\nsampling time: t_s: %f\" % (f_s, t_s))"
   ]
  },
  {
   "cell_type": "code",
   "execution_count": null,
   "metadata": {},
   "outputs": [],
   "source": [
    "## make some sinusoids: \n",
    "## Since the sample rate and sequence length is the same, the generated time steps will match for \n",
    "## x1 and x2\n",
    "x1, time_steps = gen_sinusoid(frequency=4, phase=0, amplitude=1, sample_rate=f_s, seq_length=N, gen_function=np.cos)\n",
    "x2, time_steps = gen_sinusoid(frequency=24, phase=0, amplitude=1, sample_rate=f_s, seq_length=N, gen_function=np.cos)\n",
    "\n",
    "# add them up!\n",
    "x_noisy = x1 + x2"
   ]
  },
  {
   "cell_type": "code",
   "execution_count": null,
   "metadata": {
    "scrolled": true
   },
   "outputs": [],
   "source": [
    "## Plot the compound sinusoid we've just created:\n",
    "fig, timedom = plt.subplots(figsize=(16, 4))\n",
    "timedom.plot(time_steps, x_noisy, color='magenta')\n",
    "timedom.set_xlabel('Time (s)')\n",
    "timedom.set_ylabel('Amplitude')"
   ]
  },
  {
   "cell_type": "markdown",
   "metadata": {},
   "source": [
    "You should be able to see that the 4Hz cosine wave is perturbed by a 24 Hz cosine. So, this could represent a situation where there is high frequency noise in our signal that we'd like to get rid of.  Let's see if we can use our filter to smooth out this high frequency noise. \n"
   ]
  },
  {
   "cell_type": "markdown",
   "metadata": {},
   "source": [
    "### Apply the moving average filter"
   ]
  },
  {
   "cell_type": "code",
   "execution_count": null,
   "metadata": {},
   "outputs": [],
   "source": [
    "## Apply our moving average filter\n",
    "K=5\n",
    "y_mov = moving_average(x_noisy,K=K)"
   ]
  },
  {
   "cell_type": "code",
   "execution_count": null,
   "metadata": {
    "scrolled": true
   },
   "outputs": [],
   "source": [
    "## Plot the results\n",
    "fig, timedom = plt.subplots(figsize=(16, 4))\n",
    "timedom.set_xlabel('Time (s)')\n",
    "timedom.set_ylabel('Amplitude')\n",
    "\n",
    "## The input signal\n",
    "timedom.plot(time_steps, x_noisy, color='magenta', label='Noisy input')\n",
    "\n",
    "## The underlying 4Hz signal\n",
    "timedom.plot(time_steps, x1, color='grey', label='low freq input component')\n",
    "\n",
    "## After the moving average has been applied\n",
    "timedom.plot(time_steps, y_mov, color='blue', label='filter output')\n",
    "\n",
    "timedom.set_title('%d-point moving average filter applied to a noisy sinsuoid' % K)\n",
    "timedom.legend()"
   ]
  },
  {
   "cell_type": "markdown",
   "metadata": {},
   "source": [
    "You should see: \n",
    "* the original signal in magenta\n",
    "* the low frequency cosine component in grey\n",
    "* the output of the filter in blue"
   ]
  },
  {
   "cell_type": "markdown",
   "metadata": {},
   "source": [
    "### Exercise: \n",
    "\n",
    "* From the plot, does it appear that the moving average recovered the original 4Hz signal in terms of:\n",
    "    * frequency?\n",
    "    * amplitude?\n",
    "    * phase?\n",
    "* Are there still high frequency components in the filter output? \n",
    "\n",
    "Can you see some issues with applying this filter? What happens at the end points? Are they valid representations of the lower frequency signal? "
   ]
  },
  {
   "cell_type": "markdown",
   "metadata": {},
   "source": [
    "### Notes"
   ]
  },
  {
   "cell_type": "code",
   "execution_count": null,
   "metadata": {},
   "outputs": [],
   "source": []
  },
  {
   "cell_type": "markdown",
   "metadata": {},
   "source": [
    "### Get the DFT of the filtered signal\n",
    "\n",
    "We can apply the DFT to our output to check our observations from the time-domain output. "
   ]
  },
  {
   "cell_type": "code",
   "execution_count": null,
   "metadata": {},
   "outputs": [],
   "source": [
    "## DFT of the original input\n",
    "mags_x, phases_x = get_dft_mag_phase(x_noisy, N)\n",
    "\n",
    "## DFT of the filter output\n",
    "mags_y, phases_y = get_dft_mag_phase(y_mov, N)"
   ]
  },
  {
   "cell_type": "code",
   "execution_count": null,
   "metadata": {
    "scrolled": false
   },
   "outputs": [],
   "source": [
    "dft_freqs = get_dft_freqs_all(sample_rate=f_s, seq_len=N)\n",
    "\n",
    "fig, mags = plt.subplots(figsize=(16, 4))\n",
    "mags.set(xlim=(-1, N/2), ylim=(-1, N))\n",
    "mags.scatter(dft_freqs, mags_x, color='magenta', label='noisy input')\n",
    "mags.scatter(dft_freqs, mags_y, color='blue', label='filtered output')\n",
    "mags.set_xlabel(\"Frequency (Hz)\")\n",
    "mags.set_ylabel(\"Magnitude\")\n",
    "mags.set_title(\"DFT Magnitude before and after moving average filter\")\n",
    "mags.legend()\n",
    "\n",
    "#Let's not worry about phase right now, but feel free to uncomment and have a look! \n",
    "#fig, phases = plt.subplots(figsize=(16, 4))\n",
    "#phases.set(xlim=(-1, N/2), ylim=(-10, 10))\n",
    "#phases.scatter(dft_freqs, phases_x, color='magenta', label='noisy input')\n",
    "#phases.scatter(dft_freqs, phases_y, color='blue', label='filtered output')\n",
    "#phases.set_xlabel(\"Frequency (Hz)\")\n",
    "#phases.set_ylabel(\"Phase (rad)\")\n",
    "#phases.set_title(\"DFT Phase before and after moving average filter\")\n",
    "#phases.legend()\n"
   ]
  },
  {
   "cell_type": "markdown",
   "metadata": {},
   "source": [
    "### Exercise\n",
    "\n",
    "* Based on the magnitude spectrum: \n",
    "    * Did the filter get rid of the 24Hz component? \n",
    "    * Do you see any signs of leakage? \n",
    " \n",
    "    \n",
    "* What happens if you change the frequency of the second sinusoid to something lower (e.g. 6Hz)? "
   ]
  },
  {
   "cell_type": "markdown",
   "metadata": {},
   "source": [
    "### Notes"
   ]
  },
  {
   "cell_type": "code",
   "execution_count": null,
   "metadata": {},
   "outputs": [],
   "source": []
  },
  {
   "cell_type": "markdown",
   "metadata": {},
   "source": [
    "## 3 FIR as convolution\n",
    "\n",
    "An FIR Filter that takes $K$ previous elements of $x[n]$ as input has the following general form: \n",
    "\n",
    "$$ y[n] = \\sum_{k=0}^{K-1} b[k] x[n-k] $$ \n",
    "\n",
    "You might recognize this as a **convolution** of the two sequences $b$ and $x$  (i.e. $b * x$).\n",
    "\n",
    "So, we can theoretically set our filter to coefficients to whatever we want.  Here's a function that generalizes our moving average filter to allow for this:"
   ]
  },
  {
   "cell_type": "code",
   "execution_count": null,
   "metadata": {},
   "outputs": [],
   "source": [
    "def fir_filter(x, filter_coeffs):\n",
    "    N = len(x)\n",
    "    K = len(filter_coeffs)\n",
    "    \n",
    "    y = np.zeros(N)   \n",
    "    for n in range(N):\n",
    "        for k in range(K):\n",
    "            if n-k >= 0: \n",
    "                #print(\"y[%d]=%f, b[%d]=%f, x[%d]=%f\" % (n, y[n], k, filter_coeffs[k], n-k, x[n-k]))\n",
    "                y[n] = y[n] + (filter_coeffs[k]*x[n-k])\n",
    "        #print(\"y[%d]=%f\" % (n, y[n]))\n",
    "    return y    \n",
    "    "
   ]
  },
  {
   "cell_type": "markdown",
   "metadata": {},
   "source": [
    "### Changing the filter coefficients\n",
    "\n",
    "Let's try it out with different coefficient values, comparing our unweighted average `h_avg` filter with a weighted average `h_wavg` filter. "
   ]
  },
  {
   "cell_type": "code",
   "execution_count": null,
   "metadata": {},
   "outputs": [],
   "source": [
    "\n",
    "## The 5-point moving average from before\n",
    "h_avg = np.array([1/5, 1/5, 1/5, 1/5, 1/5])\n",
    "y_avg = fir_filter(x_noisy, h_avg)\n",
    "\n",
    "## A 5-point symmetrically weighted average \n",
    "h_wavg = np.array([1/5, 1/3, 1, 1/3, 1/5])\n",
    "y_wavg = fir_filter(x_noisy, h_wavg)"
   ]
  },
  {
   "cell_type": "markdown",
   "metadata": {},
   "source": [
    "### Filter effects in the time domain"
   ]
  },
  {
   "cell_type": "code",
   "execution_count": null,
   "metadata": {
    "scrolled": false
   },
   "outputs": [],
   "source": [
    "## Plot the filter outputs\n",
    "fig, timedom = plt.subplots(figsize=(16, 4))\n",
    "\n",
    "## The original \"noisy\" input\n",
    "timedom.plot(time_steps, x_noisy, color='magenta', label='input x_noisy')\n",
    "timedom.scatter(time_steps, x_noisy, color='magenta')\n",
    "\n",
    "## The 5-point moving average\n",
    "timedom.plot(time_steps, y_avg, color='blue', label='unweighted average: y_avg')\n",
    "timedom.scatter(time_steps, y_avg, color='blue')\n",
    "\n",
    "## The 5-point weighted average\n",
    "timedom.plot(time_steps, y_wavg, color='orange', label='weighted average: y_wavg')\n",
    "timedom.scatter(time_steps, y_wavg, color='orange')\n",
    "timedom.legend()\n",
    "timedom.set_xlabel('Time (s)')\n",
    "timedom.set_ylabel('Amplitude')"
   ]
  },
  {
   "cell_type": "markdown",
   "metadata": {},
   "source": [
    "In this time vs amplitude graph, you should see:\n",
    "* the 'noisy input' in magenta\n",
    "* the output of the unweighted average filter in blue (`y_avg`)\n",
    "* the output of the weighted average filter in orange (`y_wavg`)"
   ]
  },
  {
   "cell_type": "markdown",
   "metadata": {},
   "source": [
    "### Exercise\n",
    "\n",
    "Q: Does `y_wavg` remove high frequency components of the original signal like `y_avg`?\n"
   ]
  },
  {
   "cell_type": "markdown",
   "metadata": {},
   "source": [
    "### Notes"
   ]
  },
  {
   "cell_type": "code",
   "execution_count": null,
   "metadata": {},
   "outputs": [],
   "source": []
  },
  {
   "cell_type": "markdown",
   "metadata": {},
   "source": [
    "## 4 FIR Filters in the Frequency Domain\n",
    "\n",
    "\n",
    "### The DFT of the filtered outputs\n",
    "\n",
    "We can look at the effect of the two FIR filters defined above in the frequency domain by performing a DFT on the filter outputs. \n"
   ]
  },
  {
   "cell_type": "code",
   "execution_count": null,
   "metadata": {},
   "outputs": [],
   "source": [
    "## DFT of the original input\n",
    "mags_x, phases_x = get_dft_mag_phase(x_noisy, N)\n",
    "\n",
    "## DFT after weighted average filter: h_wavg = np.array([1/5, 1/3, 1, 1/3, 1/5])\n",
    "mags_wavg, phases_wavg = get_dft_mag_phase(y_wavg, N)\n",
    "\n",
    "## DFT after unweighted average filter: h_avg = np.array([1/5, 1/5, 1/5, 1/5, 1/5])\n",
    "mags_avg, phases_avg = get_dft_mag_phase(y_avg, N)\n",
    "\n",
    "dft_freqs = get_dft_freqs_all(sample_rate=f_s, seq_len=N)\n",
    "\n",
    "## Plot magnitude spectrums\n",
    "fig, mags = plt.subplots(figsize=(16, 4))\n",
    "mags.set(xlim=(-1, N/2), ylim=(-1, N))\n",
    "mags.scatter(dft_freqs, mags_x, color='magenta', label='input')\n",
    "mags.scatter(dft_freqs, mags_avg, color='blue', label='unweighted average')\n",
    "mags.scatter(dft_freqs, mags_wavg, color='orange', label='weighted average')\n",
    "mags.legend()\n",
    "\n",
    "## Plot phase spectrums\n",
    "fig, phases = plt.subplots(figsize=(16, 4))\n",
    "phases.set(xlim=(-1, N/2), ylim=(-10, 10))\n",
    "phases.scatter(dft_freqs, phases_x, color='magenta', label='input')\n",
    "phases.scatter(dft_freqs, phases_avg, color='blue', label='unweighted average')\n",
    "phases.scatter(dft_freqs, phases_wavg, color='orange', label='weighted average')\n",
    "phases.legend()\n"
   ]
  },
  {
   "cell_type": "markdown",
   "metadata": {},
   "source": [
    "### Exercise: \n",
    "\n",
    "* Describe the difference between the different FIR filters based on the frequency magnitude and phases responses plotted above. \n",
    "\n",
    "* Does the weighted average filter do as good a job at filtering out the higher frequency signals? \n",
    "\n"
   ]
  },
  {
   "cell_type": "markdown",
   "metadata": {},
   "source": [
    "### Notes"
   ]
  },
  {
   "cell_type": "code",
   "execution_count": null,
   "metadata": {},
   "outputs": [],
   "source": []
  },
  {
   "cell_type": "markdown",
   "metadata": {},
   "source": [
    "\n",
    "## 5 Convolution in Time,  Multiplication in Frequency \n",
    "\n",
    "\n",
    "Now we get to the really cool bit.  We know that the DFT allows us to go from the time domain to the frequency domain (and the Inverse DFT let's us go back).  But it also has this very important property: \n",
    "\n",
    "$$ h[k] * x[n] \\mapsto \\text{ DFT} \\mapsto H(m) \\cdot X(m) $$\n",
    "\n",
    "\n",
    "\n",
    "\n",
    "That is, convolving an input sequence $x$ with a set of filter coefficients, $h$ in the time domain  ($h*x$) is the same as (pointwise) multiplication of the DFT of $h$ with the DFT of $x$.  So, if we know what type of frequency response $h$ has, we can treat this as apply a sort of mask to the DFT of $x$.  This property is known as the **convolution theorem**. \n",
    "\n",
    "Another way to think about it is that if the DFT outputs of $h$ has zero magnitude, then applying that filter to some input will also zero out those frequencies in the filter output! \n",
    "\n",
    "We'll see some visualizations of this shortly, but first, we can also note that you can go back the other way using the Inverse DFT: \n",
    "\n",
    "$$ H(m) \\cdot X(m) \\mapsto \\text{ IDFT} \\mapsto h[k] * x[n] $$\n",
    "\n",
    "\n",
    "And also it works for multiplication in time domain too: \n",
    "\n",
    "$$ h[k] \\cdot x[n] \\mapsto \\text{DFT} \\mapsto H(m) * X(m) $$\n",
    "\n",
    "This is useful for understanding why the leakage graph around each DFT bin looks the way it does (though we won't go into it here!). \n",
    "\n",
    "In fact, we can use this to not only show that the moving average acts as a low pass filter, but also to be able to calculate exactly the type of filter it will be. "
   ]
  },
  {
   "cell_type": "markdown",
   "metadata": {},
   "source": [
    "###  Plotting different FIR filter frequency responses\n",
    "\n",
    "In order to multiply together the filter and the input frequency responses, we need to make sure the filter and the input have the same number of samples.  We can do this by just padding out the filter with zeros (you can see why in the optional extra material at the end of this notebook).  We can then look how changing the 'shape' of a filter changes it's frequency response. The following exercise shows some examples. "
   ]
  },
  {
   "cell_type": "markdown",
   "metadata": {},
   "source": [
    "### Exercise\n",
    "* Run the function plot_filter_freq_responses (defined in the next cell) to plot the frequency responses of filters with different shapes (e.g. `h_plat`, `h_tri`, `h_rect` in the cell below the next).  \n",
    "    * What's the difference in frequency response of the triangular filter and the rectangular filter? \n",
    "    * What's the difference between the moving average of size 5 and one of size 9 (h_rect9)? \n",
    "    * Try some other FIR filters! "
   ]
  },
  {
   "cell_type": "code",
   "execution_count": null,
   "metadata": {},
   "outputs": [],
   "source": [
    "# Given a list of filters, the sample rate and a specific sequence length\n",
    "# plot the DFT frequency response of each filter.\n",
    "# Each filter should be defined as a list of coeffients (b[k])\n",
    "def plot_filter_freq_responses(filters, sample_rate, seq_length):\n",
    "\n",
    "    ## Get the set of DFT output frequencies given the sample rate and desired sequence length\n",
    "    dft_freqs_filter = (sample_rate/seq_length) * np.arange(seq_length)\n",
    "    \n",
    "    ## Calculate the time steps for each filter value given the sample rate and sequence length\n",
    "    time_steps = (1/sample_rate) * np.arange(seq_length)\n",
    "    \n",
    "    ## Set up some plots:\n",
    "    # the filter itself (time v amplitude)\n",
    "    fig_time, sinusoid = plt.subplots(figsize=(16, 4))\n",
    "    \n",
    "    # the frequency response (freq v magnitude)\n",
    "    fig_freq, fresponse = plt.subplots(figsize=(16, 4))\n",
    "  \n",
    "    x_filters = {}\n",
    "    ## For each filter: \n",
    "    for i, h in enumerate(filters): \n",
    "        \n",
    "        # pad the filter coefficients with zeros until we get the desired sequence length\n",
    "        x_zeros = np.zeros(seq_length - len(h))\n",
    "        x = np.concatenate([h, x_zeros])\n",
    "        \n",
    "        # Get the DFT outputs\n",
    "        mags, phases = get_dft_mag_phase(x, seq_length)\n",
    "        \n",
    "        # Plot the filter\n",
    "        sinusoid.scatter(time_steps, x)\n",
    "        sinusoid.plot(time_steps, x, label=repr(h))\n",
    "\n",
    "        # plot the magnitude response\n",
    "        fresponse.scatter(dft_freqs_filter, mags)\n",
    "        fresponse.plot(dft_freqs_filter, mags, label=repr(h))\n",
    "        fresponse.set(xlim=(-1,seq_length/2))\n",
    "        \n",
    "        # return the filters and the DFT responses just in case\n",
    "        x_filters = {'x':x, 'mags':mags, 'phases':phases, 'coeffs':h}\n",
    "\n",
    "    sinusoid.set_xlabel('Time(s)')\n",
    "    sinusoid.set_ylabel('Amplitude')\n",
    "    sinusoid.set_title('Zero padded filters of different shapes')\n",
    "    sinusoid.legend() \n",
    "    \n",
    "    fresponse.set_xlabel('Frequency (Hz)')\n",
    "    fresponse.set_ylabel('Magnitude')\n",
    "    fresponse.set_title('DFT magnitude response of ero padded filters of different shapes')\n",
    "    fresponse.legend()\n",
    "    \n",
    "    return x_filters\n"
   ]
  },
  {
   "cell_type": "code",
   "execution_count": null,
   "metadata": {
    "scrolled": true
   },
   "outputs": [],
   "source": [
    "h_plat = np.array([0.1, 0.2, 0.2, 0.2, 0.1])\n",
    "h_tri = np.array([0.04, 0.12, 0.15, 0.12, 0.01])\n",
    "h_rect = np.array([1/5, 1/5, 1/5, 1/5, 1/5])\n",
    "h_rect9 = np.array([1/9, 1/9, 1/9, 1/9, 1/9, 1/9, 1/9, 1/9, 1/9])\n",
    "## Try some others if you like!\n",
    "\n",
    "N=64\n",
    "f_s=64\n",
    "\n",
    "filter_dict = plot_filter_freq_responses(filters=[h_tri, h_plat, h_rect, h_rect9], sample_rate=f_s, seq_length=N)"
   ]
  },
  {
   "cell_type": "markdown",
   "metadata": {},
   "source": [
    "### Notes\n",
    "\n"
   ]
  },
  {
   "cell_type": "code",
   "execution_count": null,
   "metadata": {},
   "outputs": [],
   "source": []
  },
  {
   "cell_type": "markdown",
   "metadata": {},
   "source": [
    "## 7 Applying an FIR filter to an impulse train\n",
    "\n",
    "Now, finally we can look at the effect of applying an FIR filter to an impulse train.  Remember, we're using impulse trains to represent a sound source (i.e. vocal pulses at a specific frequency).  Eventually, we want to be able to define filters that capture the effects of the vocal tract.  \n",
    "\n",
    "First, here's a function that produces a sequence of pulses at a given frequency and sample rate. We'll then apply a triangular filter and look at what the frequency response is of the output is. "
   ]
  },
  {
   "cell_type": "code",
   "execution_count": null,
   "metadata": {},
   "outputs": [],
   "source": [
    "## Let's make an impulse train\n",
    "N=200\n",
    "f_s = 8000\n",
    "t_s = 1/f_s\n",
    "\n",
    "frequency = 200\n",
    "\n",
    "x_imp, time_steps = make_impulse_train(sample_rate=f_s, frequency=frequency, n_samples=N)\n"
   ]
  },
  {
   "cell_type": "code",
   "execution_count": null,
   "metadata": {},
   "outputs": [],
   "source": [
    "## Plot the impulse train made in the cell before\n",
    "fig, td = plt.subplots(figsize=(16, 4))\n",
    "td.scatter(time_steps, x_imp)\n",
    "td.plot(time_steps, x_imp)\n",
    "td.set_xlabel('Time (s)')\n",
    "td.set_ylabel('Amplitude')\n",
    "td.set_title('Impulse train')"
   ]
  },
  {
   "cell_type": "markdown",
   "metadata": {},
   "source": [
    "You should see an impulse train, with an impulse frequency of 200 Hz.  Let's see what happens when we apply the filter. "
   ]
  },
  {
   "cell_type": "code",
   "execution_count": null,
   "metadata": {},
   "outputs": [],
   "source": [
    "## define our FIR filter coefficients\n",
    "h_mov = np.array([0.1, 0.3, 0.5, 0.3, 0.1])\n",
    "\n",
    "#try this later!\n",
    "#h_mov = np.array([1])\n",
    "\n",
    "\n",
    "## Apply the filter to our impulse train\n",
    "y_mov = fir_filter(x_imp, h_mov)\n",
    "\n",
    "## plot the impulse train and the filtered version of it\n",
    "fig, td = plt.subplots(figsize=(16, 4))\n",
    "td.scatter(time_steps, x_imp)\n",
    "td.plot(time_steps, x_imp, label='impulse train')\n",
    "td.plot(time_steps, y_mov, label='filtered impulse train')\n",
    "td.set_xlabel('Time (s)')\n",
    "td.set_ylabel('Amplitude')\n",
    "td.legend()\n",
    "td.set_title('Impulse train and filtered impulse train')"
   ]
  },
  {
   "cell_type": "markdown",
   "metadata": {},
   "source": [
    "Here you should see our impulse train (red) and the filtered impulse train (blue).  The filtered version has smaller amplitude and a broader peak (more samples have non-zero value).  Also, the filtered peaks are slightly after the original impulses. \n",
    "\n",
    "Now let's look at the DFT output: "
   ]
  },
  {
   "cell_type": "code",
   "execution_count": null,
   "metadata": {},
   "outputs": [],
   "source": [
    "## Get the DFT the filter output\n",
    "mags, phases = get_dft_mag_phase(y_mov, N)\n",
    "\n",
    "## Plot the DFT frequencies rather than DFT output indices\n",
    "dft_freqs = get_dft_freqs_all(f_s, N)\n",
    "\n",
    "## Plot the magnitude spectrum\n",
    "fig, ax = plt.subplots(figsize=(16, 4))\n",
    "ax.scatter(dft_freqs[0:int(N/2)],mags[0:int(N/2)])\n",
    "ax.plot(dft_freqs[0:int(N/2)], mags[0:int(N/2)])\n"
   ]
  },
  {
   "cell_type": "markdown",
   "metadata": {},
   "source": [
    "### Exercises\n",
    "\n",
    "* What do the spikes in the DFT outputs represent? \n",
    "* What does the first spike after the 0 frequency one represent? \n",
    "* What does this filter appear to do?\n",
    "    * Remember applying the FIR filter in the time domain (via convolution) is the same as multiplying the DFT of the filter to the DFT of the input signal"
   ]
  },
  {
   "cell_type": "markdown",
   "metadata": {},
   "source": [
    "### Notes"
   ]
  },
  {
   "cell_type": "code",
   "execution_count": null,
   "metadata": {},
   "outputs": [],
   "source": []
  },
  {
   "cell_type": "markdown",
   "metadata": {},
   "source": [
    "### Exercises \n",
    "\n",
    "* What happens when the impulse train frequency doesn't fall on one of the bins? e.g. `frequency = 130`, for 200 samples, with sampling rate 8000 samples/second\n",
    "* Does the magnitude spectrum have the harmonic structure you'd expect? "
   ]
  },
  {
   "cell_type": "markdown",
   "metadata": {},
   "source": [
    "### Notes"
   ]
  },
  {
   "cell_type": "code",
   "execution_count": null,
   "metadata": {},
   "outputs": [],
   "source": []
  },
  {
   "cell_type": "markdown",
   "metadata": {},
   "source": [
    "* Next: [Infinite Impluse Response filters](./signals-2-3-iir-filters.ipynb)\n",
    "* Optional extension materials: [The moving average as a rectangular filter](./signals-2-4-rectangular-filters-extension.ipynb)\n"
   ]
  },
  {
   "cell_type": "code",
   "execution_count": null,
   "metadata": {},
   "outputs": [],
   "source": []
  }
 ],
 "metadata": {
  "kernelspec": {
   "display_name": "Python 3",
   "language": "python",
   "name": "python3"
  },
  "language_info": {
   "codemirror_mode": {
    "name": "ipython",
    "version": 3
   },
   "file_extension": ".py",
   "mimetype": "text/x-python",
   "name": "python",
   "nbconvert_exporter": "python",
   "pygments_lexer": "ipython3",
   "version": "3.8.11"
  }
 },
 "nbformat": 4,
 "nbformat_minor": 4
}
