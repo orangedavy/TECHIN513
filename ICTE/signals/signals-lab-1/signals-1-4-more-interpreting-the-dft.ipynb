{
 "cells": [
  {
   "cell_type": "markdown",
   "metadata": {},
   "source": [
    "#### _Speech Processing Labs: SIGNALS 1: More on Interpreting the DFT (Extension)_"
   ]
  },
  {
   "cell_type": "code",
   "execution_count": null,
   "metadata": {},
   "outputs": [],
   "source": [
    "## Run this first! \n",
    "%matplotlib inline\n",
    "import matplotlib.pyplot as plt\n",
    "import numpy as np\n",
    "\n",
    "import cmath\n",
    "from math import floor\n",
    "from matplotlib.animation import FuncAnimation\n",
    "from IPython.display import HTML\n",
    "plt.style.use('ggplot')\n",
    "\n",
    "from dspMisc import *"
   ]
  },
  {
   "cell_type": "markdown",
   "metadata": {},
   "source": [
    "# More on Interpreting the  DFT\n",
    "\n",
    "<div class=\"alert alert-success\">\n",
    "    <em> <strong>This notebook is extension material:</strong>  This notebook goes through DFT output frequencies and leakage in more detail than is strictly necessary for this course.  It's perfectly fine to skip it for now.  </em>\n",
    "</div>\n",
    "\n",
    "### Learning Outcomes\n",
    "* Understand how sampling rate effects the DFT output\n",
    "* Understand what the DFT leakage is.\n",
    "\n",
    "### Need to know\n",
    "* Topic Videos: Fourier Analysis, Frequency Domain\n",
    "* [Digital Signals: Sampling sinusoids](./signals-1-2-sampling-sinusoids.ipynb)\n",
    "* [The Discrete Fourier Transform](./signals-1-3-discrete-fourier-transform-in-detail.ipynb)\n",
    "\n",
    "\n",
    "\n"
   ]
  },
  {
   "cell_type": "markdown",
   "metadata": {},
   "source": [
    "\n",
    "<div class=\"alert alert-warning\">\n",
    "<strong>Equation alert</strong>: If you're viewing this on github, please note that the equation rendering is not always perfect. You should view the notebooks through a jupyter notebook server for an accurate view.\n",
    "</div>\n",
    "\n",
    "## A Very Quick Recap of the DFT\n",
    "\n",
    "The [previous notebook](./signals-1-3-discrete-fourier-transform-in-detail.ipynb) went through the mechanics of the Discrete Fourier Transform (DFT).  To summarize, the DFT input and output are broadly: \n",
    "\n",
    "* **Input:**  $N$ amplitude samples over time \n",
    "    * $x[n]$, for $n=0..N-1$ (i.e. a time series of $N$ samples)\n",
    "    \n",
    "    \n",
    "* **Output:** the dot product (i.e., the similiarity) between the input and $N$ sinusoids with different frequencies\n",
    "    * DFT[k] $= Me^{-j\\phi}$, i.e. a complex number (in polar form) with **magnitude** $M$ and **phase** angle $\\phi$\n",
    "    * The $N$ DFT outputs represent $N$ equally space frequencies between 0 and the sampling rate.\n",
    "\n",
    "     \n",
    "The outputs are calculated using the following formula for $k=0,...N-1$.   \n",
    "\n",
    "$$ \n",
    "\\begin{align}\n",
    "DFT[k] &= \\sum_{n=0}^{N-1} x[n] e^{-j \\frac{2\\pi nk}{N}} \\\\\n",
    "&= \\sum_{n=0}^{N-1} x[n]\\big[\\cos\\big(\\frac{2\\pi nk}{N} \\big) - j \\sin\\big(\\frac{2\\pi nk}{N} \\big) \\big]\n",
    "\\end{align}\n",
    "$$\n",
    "\n",
    "You can think DFT[k] as a **complex sinusoid**, which looks like an analogue clockhand (i.e. a vector) ticking (i.e., rotating) around a clockface (i.e. a circle), where the length of the hand is the **peak amplitude** of that wave, and how fast it goes around the clock is it's frequency.  Each of these DFT[k] 'clocks' corresponds to a sinusoid of a specific frequency.\n",
    "\n",
    "Each DFT[k] output essentially tells us whether the input signal has a sinusoidal component that matches the $k$th DFT complex sinusoid frequency. So, we talk about the DFT outputs as providing the **frequency response** of the input signal. \n",
    "\n",
    "Since the the DFT outputs are complex numbers, we can talk about them in terms of magnitude and phase angle: The **magnitude** of DFT[k] tells us how much we'd weight the $k$-th complex sinusoid if we were to try to reconstruct the original input by adding all the DFT complex sinusoids together.  The **phase angle** of DFT[k] tells use whether we need to shift that wave along the time axis. "
   ]
  },
  {
   "cell_type": "markdown",
   "metadata": {},
   "source": [
    "## The DFT Frequency Response:  Which Frequencies?\n",
    "\n",
    "In [the first notebook on interpreting the DFT](./signals-1-1-interpreting-the-discrete-fourier-transform.ipynb) we saw that for input of length $N$, the DFT **output analysis frequencies** are $N$ evenly space points between 0 Hz and the sampling rate. So, how can we see this from the DFT equation?  \n",
    "\n",
    "We can first note that DFT[0] (corresponding to a 0 Hz, i.e., a complex sinusoid but stuck at one point) is the average of the input sequence. This tells us  the amplitude of the waveform (i.e. whether it's centered above or below 0 in amplitude).  This is often referred to as the DC component ('Direct Current') in electrical engineering texts. \n",
    "\n",
    "Now, we can work out all the other output frequencies by noticing that DFT[1] represents a complex sinusoid that takes N equal steps to make one complete one full circle (clockwise starting from (1,0)).  So, $e^{-j 2\\pi n/N}$ in the equation represents the $n$th step around the circle. \n",
    "\n",
    "Let's denote the **sampling rate** as $f_s$ (samples/second).  We can then figure out the frequency of represented by DFT[1] by figuring out the time it takes to make one cycle (i.e., the period), which is the time it takes to make $N$ steps. \n",
    "\n",
    "* The time between each sample (i.e., the **sampling time**) is $t_s = 1/f_s$  (seconds)\n",
    "\n",
    "\n",
    "* So, $N$ samples takes $t_s \\times N$  (seconds x samples = seconds)\n",
    "  \n",
    "  \n",
    "* And it will take the $k=1$ complex sinusoid $T = t_s \\times N$  (seconds) to make 1 complete cycle\n",
    "    * This is the **period** or **wavelength** of the complex sinusoid\n",
    " \n",
    " \n",
    "* Thus, the **frequency** of the $k=1$ complex sinusoid is $f_{min} = 1/T = 1/(t_s N) $ (cycles/second) \n",
    "    * i.e., $f_{min} = f_s/N$\n",
    "\n",
    "So, the minimum frequency that we can analyse in an application of the DFT $f_{min}$ depends on the input size $N$ and the sampling rate $f_s$. \n",
    "\n",
    "\n",
    "From there we can see that DFT[k] represents a complex sinusoid that completes the circle $k$ times faster than the one corresponding to DFT[1]. That is, \n",
    "<div class=\"alert alert-success\">\n",
    "    The <b>frequency</b> associated with DFT[k] is: \n",
    "    $kf_{min}$ (cycles/second) = $kf_s/N$\n",
    "</div>\n",
    "\n",
    "\n",
    "Since  $k$ = 0,...,$N-1$, this is the same as saying we take taking N evenly space points between 0 Hz and the sampling rate, $f_s$, which is the shortcut we took in [the first notebook on the DFT](./signals-1-1-interpreting-the-discrete-fourier-transform.ipynb).  \n",
    "\n",
    "Thinking about this in terms of sampling rates and aliasing  explains why you get the mirroring effect in the DFT outputs: Once you get to half the sampling rate, your samples are too far apart (in time) to capture the actual frequency of the sinusoid, as we can't capture 2 points per cycle. Sinusoids of those higher frequencies become indistinguishable from their lower (mirror) counterpart.  So in analyzing what frequency components are in an input signal we only consider the first $N/2$ DFT outputs (corresponding to 0 to $f_s/2$ Hz, i.e. the Nyquist Frequency)  \n",
    "\n",
    "So, the important thing to remember is that the DFT outputs depend on: \n",
    "\n",
    "* The **number of samples** in the input sequence, $N$\n",
    "* The **sampling rate**, $f_s$ samples/second \n"
   ]
  },
  {
   "cell_type": "markdown",
   "metadata": {},
   "source": [
    "### Exercise\n",
    "Assume we have a sampling rate of $f_s = 32$ samples/second, and an input length of $N=16$. \n",
    "\n",
    "* What's the frequency associated with DFT[1]? \n",
    "* What's the frequency associated with DFT[5]?\n"
   ]
  },
  {
   "cell_type": "markdown",
   "metadata": {},
   "source": [
    "### Notes"
   ]
  },
  {
   "cell_type": "code",
   "execution_count": null,
   "metadata": {},
   "outputs": [],
   "source": []
  },
  {
   "cell_type": "markdown",
   "metadata": {},
   "source": [
    "## Leakage \n",
    "\n",
    "One of the main things to remember about the DFT is that you're calculating the correlation between the input and basis sinusoids with specific frequencies.  If your input exactly matches one of those basis sinusoid frequencies the magnitude response will show a positive magnitude for that  sinusoid and zero for everything else.  However, if the input frequency falls between output frequencies, then you'll see **spectral leakage**.  The DFT outputs close to the input frequency will also get positive magnitudes, with the DFT output closest to the input frequency getting the highest magnitude. \n",
    "\n",
    "The following code gives an example\n"
   ]
  },
  {
   "cell_type": "code",
   "execution_count": null,
   "metadata": {},
   "outputs": [],
   "source": [
    "## input size\n",
    "N=64\n",
    "\n",
    "## sampling rate\n",
    "f_s = 64\n",
    "\n",
    "freq1 = 4.5 ## In between DFT output frequencies \n",
    "freq2 = 20 ## One of the DFT outputs\n",
    "#freq2 = 6\n",
    "\n",
    "amplitude1 = 1\n",
    "amplitude2 = 0.5\n",
    "\n",
    "x1, time_steps = gen_sinusoid(frequency=freq1, phase=0, amplitude=amplitude1, sample_rate=f_s, seq_length=N, gen_function=np.cos)\n",
    "x2, time_steps = gen_sinusoid(frequency=freq2, phase=np.pi/2, amplitude=amplitude2, sample_rate=f_s, seq_length=N, gen_function=np.cos)\n",
    "x_compound = x1  + x2\n",
    "\n",
    "## Plot the input\n",
    "fig, timedom = plt.subplots(figsize=(16, 4))\n",
    "timedom.scatter(time_steps, x_compound, color='magenta')\n",
    "timedom.plot(time_steps, x_compound, color='magenta')\n",
    "timedom.set_xlabel(\"time (s)\")\n",
    "timedom.set_ylabel(\"Amplitude\")\n",
    "timedom.set_title(\"Leakage example (time domain)\")\n",
    "\n"
   ]
  },
  {
   "cell_type": "code",
   "execution_count": null,
   "metadata": {},
   "outputs": [],
   "source": [
    "## Do the DFT on the compound waveform as above: \n",
    "mags, phases = get_dft_mag_phase(x_compound, seq_len=N)\n",
    "dft_freqs = get_dft_freqs_all(sample_rate=f_s, seq_len=N)\n",
    "\n",
    "## Plot the magnitudes\n",
    "fig, fdom = plt.subplots(figsize=(16, 4))\n",
    "\n",
    "## Just plot the first N/2 frequencies since we know that they are the mirrored for k>N/2\n",
    "fdom.scatter(dft_freqs[:round(N/2)], mags[:round(N/2)])\n",
    "fdom.set_xlabel(\"Frequency (Hz)\")\n",
    "fdom.set_ylabel(\"Magnitude\")\n",
    "fdom.set_title(\"Leakage example: Magnitude response\")\n",
    "#print(mags)\n"
   ]
  },
  {
   "cell_type": "markdown",
   "metadata": {},
   "source": [
    "\n",
    "### Leakage as the normalized sinc function \n",
    "\n",
    "Leakage makes the DFT harder to interpret. However, we can derive the shape that leakage will have from the the DFT equation and some algebra about rectangular functions.  It turns out that leakage for a particular frequency follows the normalized **sinc** function: \n",
    "\n",
    "$$\n",
    "\\begin{align}\n",
    "X(m) &= \\Big|\\frac{AN}{2} \\cdot \\mathop{sinc}(c-m)\\Big|\\\\\n",
    "&= \\Big|\\frac{AN}{2} \\cdot \\frac{\\sin(\\pi(c-m))}{2\\pi(c-m)}\\Big|\\\\\n",
    "\\end{align}\n",
    "$$\n",
    "\n",
    "\n",
    "\n",
    "Where $A$ is the peak amplitude of the input, $N$ is the input sequence length, $c$ is the number of cycles completed in the input sequence time.  If $c$ is a whole number we just get the usual DFT response (i.e. a single spike at the corresponding frequency), but if $c$ is not a whole number, we get a spread across output frequency bins.\n",
    "\n",
    "The sinc function is a bit hard to think about from just the equation, but it's easy to recognize when plotted (as below)"
   ]
  },
  {
   "cell_type": "markdown",
   "metadata": {},
   "source": [
    "Let's check whether the sinc function matches what we get in the DFT. First we write a function to evaluate the leakage function in between our DFT outputs."
   ]
  },
  {
   "cell_type": "code",
   "execution_count": null,
   "metadata": {},
   "outputs": [],
   "source": [
    "## Calculate the approximated leakage as the sinc function\n",
    "def calc_leakage(freq,  sample_rate, seqlen, amplitude=1):\n",
    "    sequence_time = (1/sample_rate)*seqlen\n",
    "   \n",
    "    ## number of cycles in input for component\n",
    "    c = freq * sequence_time\n",
    "    print(\"c=\", c)\n",
    "    \n",
    "    ## Interpolate between DFT ouput indices\n",
    "    ms = np.arange(0, seqlen, 0.1)\n",
    "    \n",
    "    ## Approximated response - we could actually just return a function here, but \n",
    "    ## let's just keep things concrete for now.\n",
    "    leakage = np.abs(amplitude * seqlen * 0.5 * np.sinc((c-ms)))\n",
    "\n",
    "    return leakage, ms * (sample_rate/seqlen)\n",
    "\n",
    "\n"
   ]
  },
  {
   "cell_type": "markdown",
   "metadata": {},
   "source": [
    "Now let's plot the leakage predicted for our two input components separately (top) and added together (bottom)"
   ]
  },
  {
   "cell_type": "code",
   "execution_count": null,
   "metadata": {},
   "outputs": [],
   "source": [
    "## Calculate the leakage function for our know input wave components\n",
    "leakage1, ms = calc_leakage(freq1, f_s, N, amplitude=amplitude1)\n",
    "leakage2, ms = calc_leakage(freq2, f_s, N, amplitude=amplitude2)\n",
    "\n",
    "\n",
    "## Plot the magnitude response and the leakage function for each of our input components\n",
    "fig, fdom = plt.subplots(figsize=(16, 4))\n",
    "fdom.set(xlim=(-1, N/2), ylim=(-1, N))\n",
    "fdom.scatter(dft_freqs, mags)\n",
    "\n",
    "\n",
    "fdom.plot(ms, leakage1)\n",
    "fdom.plot(ms, leakage2)\n",
    "fdom.set_xlabel(\"Frequency (Hz)\")\n",
    "fdom.set_ylabel(\"Magnitude\")\n",
    "fdom.set_title(\"Leakage function for each input component frequency\")\n",
    "\n",
    "## Plot the magnitude response and the sum of the leakage functions\n",
    "fig, fdom = plt.subplots(figsize=(16, 4))\n",
    "fdom.set(xlim=(-1, N/2), ylim=(-1, N))\n",
    "fdom.scatter(dft_freqs, mags)\n",
    "fdom.plot(ms, leakage1 + leakage2, color='C5')\n",
    "fdom.set_xlabel(\"Frequency (Hz)\")\n",
    "fdom.set_ylabel(\"Magnitude\")\n",
    "fdom.set_title(\"Sum of leakage functions for input components\")\n",
    "\n",
    "## It fits, though not perfectly!"
   ]
  },
  {
   "cell_type": "markdown",
   "metadata": {},
   "source": [
    "In the top figure, you should see that peaks (**main lobes**) of each leakage function are aligned with our input component frequencies. The peaks are at the same points as the DFT outputs when the sinusoidal component has a frequency matching the DFT output frequency (i.e. 12 Hz).  Otherwise we see the spread of leakage around the input component frequency (i.e. around 4.5 Hz).  \n",
    "\n",
    "You'll also notice that our DFT magnitudes points don't always line up perfectly with our sinc curves.  Part of this is because the leakage function is an _approximation_.  Nevertheless, it's a very good approximation! "
   ]
  },
  {
   "cell_type": "markdown",
   "metadata": {},
   "source": [
    "### Exercise\n",
    "\n",
    "* What happens if the frequencies of the two components making the compound waveform are very close together? \n",
    "    * e.g. make `f_in2=6`\n",
    "* What if one of the components has a relatively small amplitude? \n",
    "    * e.g. change `amplitude` of the second input to 0.5"
   ]
  },
  {
   "cell_type": "markdown",
   "metadata": {},
   "source": [
    "### Notes"
   ]
  },
  {
   "cell_type": "code",
   "execution_count": null,
   "metadata": {},
   "outputs": [],
   "source": []
  },
  {
   "cell_type": "markdown",
   "metadata": {},
   "source": [
    "### Shaping the lobes\n",
    "The leakage sinc function has a peak around a specific frequency. If we want our DFT to be better able to distinguish between close frequencies, we need that peak, the **main lobe** to be narrower.  We also want the other peaks, the **side lobes** to be flatter.  We can achieve this using different **windowing methods** on our input.  This is why you see 'Hanning' as the default option for window method in the advanced spectrogram settings in praat.  \n",
    "\n",
    "We'll see some more examples of this when we look at different types of filters later.  But for now the main thing to observe is that leakage might give you the impression that specific frequency components are present in your waveform, when what's actually happening is that your waveform has frequencies that don't match the DFT sinusoids.  Another thing that can happen is that the peak for a low amplitude component gets subsumed into the main lobe of a nearby frequency component.  This might make you miss frequency components in your input! "
   ]
  },
  {
   "cell_type": "code",
   "execution_count": null,
   "metadata": {},
   "outputs": [],
   "source": []
  },
  {
   "cell_type": "markdown",
   "metadata": {},
   "source": [
    "## Extra: \n",
    "\n",
    "Here's the composition and decomposition for the compound waveform one you saw in Notebook 1! "
   ]
  },
  {
   "cell_type": "code",
   "execution_count": null,
   "metadata": {},
   "outputs": [],
   "source": [
    "N=1028\n",
    "f_s = 1028\n",
    "f_in1 = 8 ## In between DFT output frequencies\n",
    "f_in2 = 20  ## One of the DFT outputs\n",
    "f_in3 = 36  ## One of the DFT outputs\n",
    "\n",
    "\n",
    "x1, time_steps = gen_sinusoid(frequency=f_in1, phase=0, amplitude=0.5, sample_rate=f_s, seq_length=N, gen_function=np.cos)\n",
    "x2, time_steps = gen_sinusoid(frequency=f_in2, phase=np.pi/2, amplitude=1, sample_rate=f_s, seq_length=N, gen_function=np.cos)\n",
    "x3, time_steps = gen_sinusoid(frequency=f_in3, phase=0, amplitude=0.3, sample_rate=f_s, seq_length=N, gen_function=np.cos)\n",
    "\n",
    "\n",
    "x_compound = x1  + x2 + x3\n",
    "\n",
    "## Plot the input\n",
    "fig, timedom = plt.subplots(figsize=(16, 4))\n",
    "#timedom.scatter(time_steps, x_compound, color='magenta')\n",
    "#timedom.set(xlim=(0, 0.2))\n",
    "timedom.plot(time_steps, x_compound, color='magenta')"
   ]
  },
  {
   "cell_type": "code",
   "execution_count": null,
   "metadata": {},
   "outputs": [],
   "source": [
    "## Plot the input\n",
    "\n",
    "fig = plt.figure(figsize=(15,15))\n",
    "gs = fig.add_gridspec(3,2)\n",
    "\n",
    "ymax=2\n",
    "timedom = fig.add_subplot(gs[0, 0])\n",
    "timedom.set(xlim=(-0.1, 1), ylim=(-ymax,ymax))\n",
    "timedom.plot(time_steps, x_compound, color='magenta')\n",
    "timedom.set_title(\"waveform made from adding 3 sine waves\")\n",
    "\n",
    "\n",
    "\n",
    "s1 = fig.add_subplot(gs[0, 1])\n",
    "s1.set(xlim=(-0.1, 1), ylim=(-ymax,ymax))\n",
    "s1.plot(time_steps, x1)\n",
    "s1.set_title(\"component 1: 8 Hz\")\n",
    "\n",
    "s2 = fig.add_subplot(gs[1, 1])\n",
    "s2.set(xlim=(-0.1, 1), ylim=(-ymax,ymax))\n",
    "s2.plot(time_steps, x2)\n",
    "s2.set_title(\"component 2: 20 Hz\")\n",
    "\n",
    "\n",
    "\n",
    "s3 = fig.add_subplot(gs[2, 1])\n",
    "s3.set(xlim=(-0.1, 1), ylim=(-ymax,ymax))\n",
    "s3.plot(time_steps, x3)\n",
    "s3.set_title(\"component 3: 36 Hz\")\n",
    "\n",
    "\n",
    "#fig.savefig(\"../fig/compound_waveform.png\")"
   ]
  },
  {
   "cell_type": "code",
   "execution_count": null,
   "metadata": {},
   "outputs": [],
   "source": [
    "## Do the DFT on the compound waveform as above: \n",
    "mags, phases = get_dft_mag_phase(x_compound, seq_len=N)\n",
    "dft_freqs = get_dft_freqs_all(sample_rate=f_s, seq_len=N)\n",
    "\n",
    "## Plot the magnitudes\n",
    "fig,fdom = plt.subplots(figsize=(16, 4))\n",
    "fdom.set(xlim=(-1, N/2))\n",
    "## Just plot the first N/2 frequencies since we know that they are the mirrored for k>N/2\n",
    "fdom.scatter(dft_freqs[:round(N/2)], mags[:round(N/2)])\n",
    "fdom.set_xlabel(\"Frequency (Hz)\")\n",
    "fdom.set_ylabel(\"Magnitude\")\n",
    "fdom.set_title(\"Magnitude Response\")\n",
    "#print(mags)\n",
    "\n"
   ]
  },
  {
   "cell_type": "code",
   "execution_count": null,
   "metadata": {},
   "outputs": [],
   "source": []
  },
  {
   "cell_type": "code",
   "execution_count": null,
   "metadata": {},
   "outputs": [],
   "source": []
  },
  {
   "cell_type": "code",
   "execution_count": null,
   "metadata": {},
   "outputs": [],
   "source": []
  },
  {
   "cell_type": "code",
   "execution_count": null,
   "metadata": {},
   "outputs": [],
   "source": []
  }
 ],
 "metadata": {
  "kernelspec": {
   "display_name": "Python 3",
   "language": "python",
   "name": "python3"
  },
  "language_info": {
   "codemirror_mode": {
    "name": "ipython",
    "version": 3
   },
   "file_extension": ".py",
   "mimetype": "text/x-python",
   "name": "python",
   "nbconvert_exporter": "python",
   "pygments_lexer": "ipython3",
   "version": "3.8.11"
  }
 },
 "nbformat": 4,
 "nbformat_minor": 2
}
