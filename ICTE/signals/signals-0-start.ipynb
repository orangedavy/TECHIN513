{
 "cells": [
  {
   "cell_type": "markdown",
   "metadata": {},
   "source": [
    "#  _Speech Processing Labs: Signal Processing_ \n",
    "\n",
    "This repository includes lab notebooks for the University of Edinburgh course: Speech Processing (LASC11158/LASC10061). This directory contains labs for the signal processing component of the course.\n",
    "\n",
    "See the [how to start](../sp-m0-how-to-start.ipynb) notebook for more info on how to get the lab notebook repository and setting up interactive mode. \n"
   ]
  },
  {
   "cell_type": "markdown",
   "metadata": {},
   "source": [
    "## Signal Processing Labs with Python\n",
    "\n",
    "People taking the Speech Processing course come from lots of different backgrounds. While we assume everybody has a bit of programming experience, we've tried to design these labs so that you don't actually need to write code to work through them. Hopefully the code blocks have enough comments that you'll be able to follow even if you don't have much coding experience. Mostly you'll just need to change some variables here and there to do the exercises.  But, of course, you're welcome to play with the code to explore the topics we cover and to write your own code! \n"
   ]
  },
  {
   "cell_type": "markdown",
   "metadata": {},
   "source": [
    "##  List of Signals Notebooks \n",
    "\n",
    "The notebooks are divided into **essential** and **extensions** materials.  You should go through all the essential materials. The extension materials are there for you to deepen your understanding once you've gotten a good understanding the essenstial materials. They are generally more maths heavy (which may actually make them more accessible for some people!) but their contents is not examinable. \n",
    "\n",
    "### Analyzing Sounds in Time and Frequency\n",
    "\n",
    "#### Essential materials\n",
    "* [Interpreting the Discrete Fourier Transform](./signals-lab-1/signals-1-1-interpreting-the-discrete-fourier-transform.ipynb):\n",
    "* [Digital Signals: Sampling sinusoids](./signals-lab-1/signals-1-2-sampling-sinusoids.ipynb)\n",
    "\n",
    "#### Extension materials\n",
    "These notebooks provide more maths background for the concepts covered in the essential materials. The complex numbers and sinusoids notebook provides some background that might be useful for the 2nd notebook above.  The other 2 go into the maths of the Discrete Fourier Transform in more detail.  \n",
    "\n",
    "* [Complex numbers and sinusoids](./signals-lab-1/signals-1-2a-digital-signals-complex-numbers.ipynb)\n",
    "* [The Discrete Fourier Transform](./signals-lab-1/signals-1-3-discrete-fourier-transform-in-detail.ipynb)\n",
    "* [More on Interpreting the DFT](./signals-lab-1/signals-1-4-more-interpreting-the-dft.ipynb)\n",
    "\n",
    "### Source and Filter\n",
    "\n",
    "#### Essential materials\n",
    "* [Building the source: impulse trains](./signals-lab-2/signals-2-1-impulse-as-source.ipynb)\n",
    "* [Finite Impluse Response filters](./signals-lab-2/signals-2-2-fir-filters.ipynb)\n",
    "* [Infinite Impluse Response filters](./signals-lab-2/signals-2-3-iir-filters.ipynb)\n",
    "\n",
    "#### Extension materials\n",
    "\n",
    "The first of these notebooks shows how a moving average filter can be characterised as a rectangular filter (or window) and points out what some of the side-effects of that are for the short-time fourier transform. The second of these gives some (tedious) derivations for the IIR filters in IIR filter notebook and is really just here for completeness.\n",
    "\n",
    "* [The moving average as a rectangular filter](./signals-lab-2/signals-2-4-rectangular-filters-extension.ipynb)\n",
    "* [Derivations of example IIR filters](./signals-lab-2/signals-2-5-iir-filters-derivations.ipynb)\n",
    "\n"
   ]
  },
  {
   "cell_type": "markdown",
   "metadata": {},
   "source": [
    "\n",
    "\n",
    "## A note on NumPy and Matplotlib\n",
    "\n",
    "The main python packages we'll be using are [NumPy](https://numpy.org) and [Matplotlib](https://matplotlib.org). \n",
    "\n",
    "NumPy is _the_ python package for doing scientific computing.  That is, if you want to write programs that use vectors and matrices, you'll be using NumPy. It includes lots of efficient methods for calculating various types of functions (e.g. trig functions like sin, cos, exp) and applying them to variable sized vectors and matrices.  If you're used to using R or Matlab, you'll probably find it very familiar. If you go on to do more machine learning you'll definitely use NumPy (or packages based on it) a lot, so it's well worth getting to know.  But for this course, knowing the basics just make the code blocks a little more interpretable. \n",
    "\n",
    "Matplotlib is a comprehensive python visualization package that works well with NumPy. It is vast and complicated and we will not use that much of it's capabilities in these notebooks.  But again, you'll likely see this used in examples of plotting graphs with python in many speech processing related code bases. So, being able to recognize it's basic syntax will be helpful, but you definitely don't need to know much about this to use these notebooks.  \n",
    "\n",
    "If you want to know more, this machine learning tutorial conveniently covers jupyter, python, numpy and matplotlib: \n",
    "* [Python Numpy Tutorial (CNNs for visual recognition)](https://cs231n.github.io/python-numpy-tutorial/#jupyter-and-colab-notebooks)\n",
    " \n",
    "\n",
    "Some other numpy tutorials (there are many others):\n",
    "* [Official NumPy Getting Started](https://numpy.org/devdocs/user/quickstart.html)\n",
    "* [W3 School's interactive NumPy tutorial](https://www.w3schools.com/python/numpy_intro.asp)\n",
    "\n",
    "\n",
    "Some matplotlib tutorials: \n",
    "* [Official matplotlib user guide](https://matplotlib.org/users/index.html)\n",
    "* [Tutorial on Towards Data Science](https://towardsdatascience.com/matplotlib-tutorial-learn-basics-of-pythons-powerful-plotting-library-b5d1b8f67596)\n",
    "* [Matplotlib crash course](https://pythonprogramming.net/matplotlib-python-3-basics-tutorial/)\n"
   ]
  },
  {
   "cell_type": "markdown",
   "metadata": {},
   "source": [
    "\n",
    "## What now? \n",
    "\n",
    "As mentioned in the [how to start](../sp-m0-how-to-start.ipynb) notebook, these _signals_ labs **aren't** about coding (that's what the [CPSLP](http://www.drps.ed.ac.uk/21-22/dpt/cxlasc11096.htm) course is for). You don't need to understand the workings of the code and you definitely won't need to reproduce it. However, we do want you to get some exposure to how these abstract concepts get translated into concrete programming (and do so something a bit interactive with the computer and each other!).\n",
    "\n",
    "The main tasks for the labs are these:\n",
    "\n",
    "* Work through the notebooks marked as _essential_ in your timetabled lab\n",
    "* Discuss the exercises or any points of confusion with the tutors and/or your classmates\n",
    "\n",
    "The lab sessions are really there to give you a place to focus on this course.  If you don't finish all the exercises during the lab, that's ok! If you need to watch some of the course videos during the lab, that's also ok! Just try to keep on track.  There is no specific assignment for _phon_ and  _signals_ modules aside from the class test, but there are assignments for the _TTS_ and _ASR_ components of the course and you will want to draw on your phonetics and signal processing knowledge when doing those.  \n",
    "\n",
    "_Ok! [Let's get started](./signals-lab-1/signals-1-1-interpreting-the-discrete-fourier-transform.ipynb)!_"
   ]
  },
  {
   "cell_type": "code",
   "execution_count": null,
   "metadata": {},
   "outputs": [],
   "source": []
  }
 ],
 "metadata": {
  "kernelspec": {
   "display_name": "Python 3",
   "language": "python",
   "name": "python3"
  },
  "language_info": {
   "codemirror_mode": {
    "name": "ipython",
    "version": 3
   },
   "file_extension": ".py",
   "mimetype": "text/x-python",
   "name": "python",
   "nbconvert_exporter": "python",
   "pygments_lexer": "ipython3",
   "version": "3.11.0 (v3.11.0:deaf509e8f, Oct 24 2022, 14:43:23) [Clang 13.0.0 (clang-1300.0.29.30)]"
  },
  "vscode": {
   "interpreter": {
    "hash": "aee8b7b246df8f9039afb4144a1f6fd8d2ca17a180786b69acc140d282b71a49"
   }
  }
 },
 "nbformat": 4,
 "nbformat_minor": 4
}
