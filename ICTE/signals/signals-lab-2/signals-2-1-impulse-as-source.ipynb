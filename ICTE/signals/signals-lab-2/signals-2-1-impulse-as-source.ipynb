{
 "cells": [
  {
   "cell_type": "markdown",
   "metadata": {},
   "source": [
    "#### _Speech Processing Labs: SIGNALS 2: Building the Source_"
   ]
  },
  {
   "cell_type": "code",
   "execution_count": null,
   "metadata": {},
   "outputs": [],
   "source": [
    "## Run this first!\n",
    "%matplotlib inline\n",
    "import matplotlib.pyplot as plt\n",
    "import numpy as np\n",
    "\n",
    "import cmath\n",
    "from math import floor\n",
    "from matplotlib.animation import FuncAnimation\n",
    "from IPython.display import HTML\n",
    "plt.style.use('ggplot')\n",
    "\n",
    "from dspMisc import * "
   ]
  },
  {
   "cell_type": "markdown",
   "metadata": {},
   "source": [
    "# Building the Source\n",
    "\n",
    "### Learning Outcomes\n",
    "* Be able to describe what an impulse train is\n",
    "* Be able to explain why an impulse train is used to model the voice source\n",
    "* Be able to describe the frequency response of single impulse and and impulse train\n",
    "\n",
    "\n",
    "### Need to Know\n",
    "* Topic Videos: Harmonics, Impulse Train, Frequency Domain\n",
    "* [Interpreting the Discrete Fourier Transform](../signals-lab-1/signals-1-1-interpreting-the-discrete-fourier-transform.ipynb)\n",
    "\n",
    "\n",
    "\n"
   ]
  },
  {
   "cell_type": "markdown",
   "metadata": {},
   "source": [
    "## 1 A Single Impulse Response\n",
    "\n",
    "The previous notebooks looked at [the DFT and how to interpret it's outputs](../signals-lab-1/signals-1-1-interpreting-the-discrete-fourier-transform.ipynb). With an understanding of that, we can start thinking about how this ability to go from the time domain to the frequency domain (and back again) can help us build up a model of speech. \n",
    "\n",
    "Let's start simple: What happens when the input is just a single **impulse**? What can this tell us? \n",
    "\n",
    "The following code cells generate a single impulse in an input sequence of length `N=64`, given a specific sampling rate `f_s`.  As we saw previously, the DFT frequency resolution is completely determined by these two parameters. \n"
   ]
  },
  {
   "cell_type": "code",
   "execution_count": null,
   "metadata": {},
   "outputs": [],
   "source": [
    "## Set the number of samples N, sampling rate f_s\n",
    "## As usual all our interpretation of the DFT outputs will depend on the values of these parameters\n",
    "\n",
    "N=64\n",
    "\n",
    "#sampling rate: \n",
    "f_s = 64\n",
    "\n",
    "## sample time\n",
    "t_s = 1/f_s\n",
    "\n",
    "## Check our parameters\n",
    "print(\"Number of samples: N = %d\" % N)\n",
    "print(\"sampling rate: f_s = %f\\nsampling time: t_s: %f\" % (f_s, t_s))\n",
    "\n"
   ]
  },
  {
   "cell_type": "code",
   "execution_count": null,
   "metadata": {},
   "outputs": [],
   "source": [
    "## indices of input sequence of size N\n",
    "nsteps = np.array(range(N))\n",
    "\n",
    "## the sequence of time steps given the sampling rate \n",
    "time_steps = t_s * nsteps\n",
    "\n",
    "## Now let's create an impulse response\n",
    "#  First, we create a sequence of length N but all zeros\n",
    "x_impulse = np.zeros(N)\n",
    "\n",
    "#  And then set a single element to be 1, i.e. a single impulse\n",
    "x_impulse[1]=1\n",
    "\n",
    "## Now, we plot it:\n",
    "fig, timedom = plt.subplots(figsize=(16, 4))\n",
    "timedom.scatter(time_steps, x_impulse, color='magenta')\n",
    "timedom.plot(time_steps, x_impulse, color='magenta')\n",
    "\n",
    "timedom.set_ylabel(\"Amplitude\")\n",
    "timedom.set_xlabel(\"Time (s)\")\n",
    "timedom.set_title(\"A single impulse as input\")\n",
    "\n"
   ]
  },
  {
   "cell_type": "markdown",
   "metadata": {},
   "source": [
    "The plot above shows a time vs amplitude graph of input $x[n]$, where all but 1 of the $N=64$ input points are zero, and $x[1]=1$. \n",
    "\n",
    "Now let's look at the DFT of this single impulse."
   ]
  },
  {
   "cell_type": "code",
   "execution_count": null,
   "metadata": {},
   "outputs": [],
   "source": [
    "## Now let's look at the DFT outputs of the impulse: \n",
    "mag_impulse, phase_impulse = get_dft_mag_phase(x_impulse, N)\n",
    "\n",
    "## Note: in this case N=f_s so the DFT output frequencies are the same as the DFT output indices\n",
    "## We'll look at cases where this differs later\n",
    "dft_freqs = get_dft_freqs_all(f_s, N)\n",
    "\n",
    "## plot the magnitudes, but this time we're going to need to zoom in a bit on the y-axis: \n",
    "fig, fdom = plt.subplots(figsize=(16, 4))\n",
    "fdom.set(ylim=(-1, 4))\n",
    "fdom.plot([0,np.max(dft_freqs)], [0,0], color='grey')\n",
    "fdom.scatter(dft_freqs, mag_impulse)\n",
    "fdom.set_xlabel(\"Frequency (Hz)\")\n",
    "fdom.set_ylabel(\"Magnitude\")\n",
    "\n",
    "## Plot the phases\n",
    "fig, fdom = plt.subplots(figsize=(16, 4))\n",
    "fdom.plot([0,np.max(dft_freqs)], [0,0], color='grey')\n",
    "fdom.scatter(dft_freqs, phase_impulse)\n",
    "fdom.set_xlabel(\"Frequency (Hz)\")\n",
    "fdom.set_ylabel(\"Phase angle (radians)\")\n",
    "\n",
    "## You should see that magnitudes for all the bins is one (you might need to change the y axis limit)"
   ]
  },
  {
   "cell_type": "markdown",
   "metadata": {},
   "source": [
    "### Exercise: \n",
    "**Question**\n",
    "\n",
    "* What does the magnitude spectrum show? \n",
    "* What does the phase spectrum show? \n",
    "* How might this be useful for modelling the vocal source? \n"
   ]
  },
  {
   "cell_type": "markdown",
   "metadata": {},
   "source": [
    "### Notes"
   ]
  },
  {
   "cell_type": "code",
   "execution_count": null,
   "metadata": {},
   "outputs": [],
   "source": []
  },
  {
   "cell_type": "markdown",
   "metadata": {},
   "source": [
    "## 2 From Impulse to Impulse Train\n",
    "\n",
    "The DFT analysis above showed us that a single impulse can potentially carry any frequency! \n",
    "This might not seem very useful at first, but actually we can use this to start making a model of the voice source that we can shape in the way we want. The first thing is to add a **periodic** element.  To do this we'll make an **impulse train**: a sequence `x` with value 1 every `n_period` samples, and zero otherwise. \n",
    "\n",
    "We should note though that not all speech sounds are periodic.  For example, fricatives like /s/ and /sh/ are more like white noise. We'll have to model these in other ways.  \n",
    "\n",
    "Now let's make an impulse train with `N=64` samples, a sampling rate of `f_s=64` samples per second, and an impulse period `n_period=4`:"
   ]
  },
  {
   "cell_type": "code",
   "execution_count": null,
   "metadata": {},
   "outputs": [],
   "source": [
    "## Let's keep the number of samples and the sampling rate the same as above\n",
    "N=64\n",
    "f_s = 64\n",
    "t_s = 1/f_s\n",
    "nsteps = np.array(range(N))\n",
    "time_steps = t_s * nsteps\n",
    "\n",
    "## Now let's create an impulse response:\n",
    "\n",
    "# create a sequence of length N but all zeros\n",
    "x_impulse_train = np.zeros(N)\n",
    "\n",
    "# set the impulse period to be 1 impulse every n_period samples\n",
    "n_period = 4\n",
    "\n",
    "# Find the indices which will carry the impulses, i.e. every n_period-th one starting from 0 to N\n",
    "impulse_indices = np.arange(0, N, n_period)\n",
    "\n",
    "## Set the impulses\n",
    "x_impulse_train[impulse_indices] = 1\n",
    "\n",
    "## Plot it!\n",
    "fig, timedom = plt.subplots(figsize=(16, 4))\n",
    "timedom.scatter(time_steps, x_impulse_train, color='magenta')\n",
    "timedom.plot(time_steps, x_impulse_train, color='magenta')\n",
    "timedom.set_ylabel(\"Amplitude\")\n",
    "timedom.set_xlabel(\"Time (s)\")\n",
    "timedom.set_title(\"An impulse train: an impulse every %d samples\" % n_period)"
   ]
  },
  {
   "cell_type": "markdown",
   "metadata": {},
   "source": [
    "You should see a repeated sequence over 1 second where every 4th sample has amplitude 1, and all the rest have value 0.  \n",
    "\n",
    "### DFT of an impulse train\n",
    "\n",
    "Now let's look at the DFT of this impulse train."
   ]
  },
  {
   "cell_type": "code",
   "execution_count": null,
   "metadata": {},
   "outputs": [],
   "source": [
    "##  Get the DFT outputs: magnitude and phase\n",
    "mag_impulse_train, phase_impulse_train = get_dft_mag_phase(x_impulse_train, N)\n",
    "\n",
    "## Get the DFT output frequencies, for plotting\n",
    "dft_freqs = get_dft_freqs_all(f_s, N)\n",
    "\n",
    "## plot the magnitudes, but this time we're going to need to zoom in a bit on the y-axis: \n",
    "fig, fdom = plt.subplots(figsize=(16, 4))\n",
    "fdom.set(ylim=(-1, N), xlim=(-1, N/2))\n",
    "fdom.scatter(dft_freqs, mag_impulse_train)\n",
    "fdom.set_xlabel(\"Frequency (Hz)\")\n",
    "fdom.set_ylabel(\"Magnitude\")\n",
    "fdom.set_title(\"Impulse Train Magnitude Response (First N/2 DFT outputs)\")\n",
    "\n",
    "## Plot the phases\n",
    "fig, fdom = plt.subplots(figsize=(16, 4))\n",
    "fdom.set(ylim=(-4,4), xlim=(-1, N/2))\n",
    "fdom.scatter(dft_freqs, phase_impulse_train)\n",
    "fdom.set_xlabel(\"Frequency (Hz)\")\n",
    "fdom.set_ylabel(\"Phase (radians)\")\n",
    "fdom.set_title(\"Impulse Train Phase Response (First N/2 DFT outputs)\")\n"
   ]
  },
  {
   "cell_type": "markdown",
   "metadata": {},
   "source": [
    "The magnitude (top) plot indicates that the impulse train has frequency components at multiples of 16 Hz.\n",
    "The phase plot (bottom) doesn't show a phase shift.  This also makes sense since our input sequence started with a 1, so acts like cosine with no phase shift. \n",
    "\n",
    "**Note** We only plotted the first $N/2$ DFT outputs since we saw previously that DFT outputs are symmetrical around $N/2$. \n"
   ]
  },
  {
   "cell_type": "markdown",
   "metadata": {},
   "source": [
    "### Exercise \n",
    "\n",
    "* What is the relationship between the non-zero magnitudes in the example above? \n",
    "    * What's the fundamental frequency of the impulse train? \n",
    "* What DFT output frequencies have non-zero magnitudes if you you change `n_period` to `8`?  \n",
    "* What happens when the frequency doesn't exactly match one of the DFT outputs? \n",
    "    * e.g. try `n_period = 5`"
   ]
  },
  {
   "cell_type": "markdown",
   "metadata": {},
   "source": [
    "### Notes"
   ]
  },
  {
   "cell_type": "code",
   "execution_count": null,
   "metadata": {},
   "outputs": [],
   "source": []
  },
  {
   "cell_type": "markdown",
   "metadata": {},
   "source": [
    "## 3 Impulse train fundamental frequency\n",
    "\n",
    "Since we eventually want to model the vocal source, we want to be able to create impulse trains with specific fundamental frequencies ($F_0$). As usual for digital signal processing, the actual sequence we generate to represent this will depend on the sample rate. \n",
    "\n",
    "The following cell defines a function to create impulse trains varying the sample rate, desired frequency, and number of samples. We'll use this later to see how this interacts with different types of filters. \n"
   ]
  },
  {
   "cell_type": "code",
   "execution_count": null,
   "metadata": {},
   "outputs": [],
   "source": [
    "def make_impulse_train(sample_rate, frequency, n_samples):    \n",
    "    # make an arrange of n_samples, all zeros to start\n",
    "    x = np.zeros(n_samples)\n",
    "    \n",
    "    # Determine where the impulses go based on the sample rate\n",
    "    # The time between samples: sample_time = 1/sample_rate\n",
    "    \n",
    "    #A frequency of f cycles/second means the wavelength=1/f\n",
    "    # So samples_per_cycle = wavelength/t_s = 1/frequency / 1/sample_rate = sample_rate/frequency\n",
    "    \n",
    "    ## We need to round to the nearest integer\n",
    "    samples_per_cycle = round(sample_rate/frequency)\n",
    "    \n",
    "    # Set indices for impulses\n",
    "    impulse_positions = np.arange(0, n_samples, samples_per_cycle)\n",
    "    #print(\"impulse_positions:\", impulse_positions)\n",
    "    # set the impulses\n",
    "    x[impulse_positions] = 1\n",
    "    \n",
    "    ## return the time steps associated with the impulse train samples\n",
    "    nsteps = np.array(range(n_samples))\n",
    "    time_steps = (1/sample_rate) * nsteps   \n",
    "    \n",
    "    return x, time_steps"
   ]
  },
  {
   "cell_type": "code",
   "execution_count": null,
   "metadata": {},
   "outputs": [],
   "source": [
    "## Set the number of samples and sampling rate\n",
    "N = 64\n",
    "f_s = 64\n",
    "\n",
    "## set our desired impulse train frequency\n",
    "freq = 12\n",
    "\n",
    "x_impulse_train, time_steps = make_impulse_train(sample_rate=f_s, frequency=freq, n_samples=N)\n",
    "\n",
    "fig, timedom = plt.subplots(figsize=(16, 4))\n",
    "timedom.scatter(time_steps, x_impulse_train, color='magenta')\n",
    "timedom.plot(time_steps, x_impulse_train, color='magenta')\n",
    "\n"
   ]
  },
  {
   "cell_type": "markdown",
   "metadata": {},
   "source": [
    "### Exercise\n",
    "\n",
    "Try changing the frequency of the impulse train. \n",
    "* What's the highest frequency you can actually generate if the sample rate equals 64? \n"
   ]
  },
  {
   "cell_type": "markdown",
   "metadata": {},
   "source": [
    "### Notes"
   ]
  },
  {
   "cell_type": "code",
   "execution_count": null,
   "metadata": {},
   "outputs": [],
   "source": []
  },
  {
   "cell_type": "markdown",
   "metadata": {},
   "source": [
    "### Next: Filters\n",
    "\n",
    "Now that we've made a (sort of) source, we want to create a filter that can alter input (impulse train) so that the output looks the way we want it.  In class you've seen two types of filters: \n",
    "\n",
    "* [Finite Impluse Response (FIR) filters](./signals-2-2-fir-filters.ipynb)\n",
    "* [Infinite Impluse Response (IIR) filters](./signals-2-3-iir-filters.ipynb)\n",
    "\n",
    "Both perform a transform on an input sequence $x[n]$ to give us some desired output sequence $y[n]$.  The difference between the two types of filters is basically whether we only use the inputs to derive each output $y[n]$ (FIR), or whether we also use previous outputs (IIR). \n",
    "\n",
    "The next notebook illustrates some of the properties of [FIR filters](./signals-2-2-fir-filters.ipynb). "
   ]
  },
  {
   "cell_type": "code",
   "execution_count": null,
   "metadata": {},
   "outputs": [],
   "source": []
  }
 ],
 "metadata": {
  "kernelspec": {
   "display_name": "Python 3",
   "language": "python",
   "name": "python3"
  },
  "language_info": {
   "codemirror_mode": {
    "name": "ipython",
    "version": 3
   },
   "file_extension": ".py",
   "mimetype": "text/x-python",
   "name": "python",
   "nbconvert_exporter": "python",
   "pygments_lexer": "ipython3",
   "version": "3.8.11"
  }
 },
 "nbformat": 4,
 "nbformat_minor": 4
}
