{
 "cells": [
  {
   "cell_type": "markdown",
   "metadata": {},
   "source": [
    "#### _Speech Processing Labs: SIGNALS 2: Moving Average as Rectangular Filter (Extension)_"
   ]
  },
  {
   "cell_type": "code",
   "execution_count": null,
   "metadata": {},
   "outputs": [],
   "source": [
    "%matplotlib inline\n",
    "import matplotlib.pyplot as plt\n",
    "import numpy as np\n",
    "\n",
    "import cmath\n",
    "from math import floor\n",
    "from matplotlib.animation import FuncAnimation\n",
    "from IPython.display import HTML\n",
    "plt.style.use('ggplot')\n",
    "\n",
    "from dspMisc import *"
   ]
  },
  {
   "cell_type": "markdown",
   "metadata": {},
   "source": [
    "# The Moving Average Filter as a Rectangular Filter\n",
    "\n",
    "<div class=\"alert alert-success\">\n",
    "<em>This notebook illustrates how we can use the convolution theorem understand why the moving average type filters act like low pass filters, and also the connection with leakage in the DFT magnitude response we saw previously.  <b>This is optional extension material</b>. \n",
    "    \n",
    "If you want to see an example of the convolution theorem working in the frequency domain, you can just run the code and have a look at the graph at the end entitled 'Frequency response after applying 5-point weighted average filter'</em>\n",
    "</div>\n",
    "\n",
    "### Learning Outcomes\n",
    "* Understand how the moving average filter relates to a rectangular FIR filter\n",
    "\n",
    "### Need to know\n",
    "* Topic Videos: Spectral Envelope, Filter, Impulse Train\n",
    "* [FIR filters](./signals-2-2-fir-filters.ipynb)\n",
    "\n",
    "<div class=\"alert alert-warning\">\n",
    "<strong>Equation alert</strong>: If you're viewing this on github, please note that the equation rendering is not always perfect. You should view the notebooks through a jupyter notebook server for an accurate view.\n",
    "</div>\n"
   ]
  },
  {
   "cell_type": "markdown",
   "metadata": {},
   "source": [
    "The convolution theorem tells us that, if we know the frequency response of an FIR filter, we know how it will affect the frequency response of it's input (we just multiply the individual frequency response together). \n",
    "\n",
    "To understand what filter frequency response will look like, it's helpful to first observe that our unweighted moving average filter is pretty much a rectangular window function.  It's easy to see what this means when we plot it. The following function allows us to generate rectangular functions:"
   ]
  },
  {
   "cell_type": "code",
   "execution_count": null,
   "metadata": {},
   "outputs": [],
   "source": [
    "def gen_rect_window(start_index, end_index, sample_rate=64, seq_length=64): \n",
    "    nsteps = np.array(range(seq_length))\n",
    "    t_s = 1/sample_rate\n",
    "    time_steps = t_s * nsteps\n",
    "\n",
    "    ## Let's make a rectangular window\n",
    "    x_rect = np.zeros(seq_length)\n",
    "    x_rect[start_index:end_index] = 1\n",
    "    \n",
    "    return x_rect, time_steps\n"
   ]
  },
  {
   "cell_type": "markdown",
   "metadata": {},
   "source": [
    "## A noisy sample\n",
    "\n",
    "As an example, let's make a noisy sample `x_noisy`.  This is made up of 4 Hz and 24 Hz cosine functions, which a sampling rate of `f_s=64` Hz.  We take `N=64` samples as input.   "
   ]
  },
  {
   "cell_type": "code",
   "execution_count": null,
   "metadata": {},
   "outputs": [],
   "source": [
    "## Set the number of samples N, sampling rate f_s (hence sampling time t_s)\n",
    "N=64\n",
    "f_s = 64\n",
    "t_s = 1/f_s\n",
    "\n",
    "print(\"sampling rate: f_s = %f\\nsampling time: t_s: %f\" % (f_s, t_s))\n",
    "\n",
    "## make some sinusoids: \n",
    "## Since the sample rate and sequence length is the same, the generated time steps will match for \n",
    "## x1 and x2\n",
    "x1, time_steps = gen_sinusoid(frequency=4, phase=0, amplitude=1, sample_rate=f_s, seq_length=N, gen_function=np.cos)\n",
    "x2, time_steps = gen_sinusoid(frequency=24, phase=0, amplitude=1, sample_rate=f_s, seq_length=N, gen_function=np.cos)\n",
    "\n",
    "# add them up!\n",
    "x_noisy = x1 + x2\n",
    "\n",
    "## Plot the compound sinusoid we've just created:\n",
    "fig, timedom = plt.subplots(figsize=(16, 4))\n",
    "timedom.plot(time_steps, x_noisy, color='magenta')\n",
    "timedom.set_xlabel('Time (s)')\n",
    "timedom.set_ylabel('Amplitude')"
   ]
  },
  {
   "cell_type": "markdown",
   "metadata": {},
   "source": [
    "### Apply a moving average filter to this input \n"
   ]
  },
  {
   "cell_type": "code",
   "execution_count": null,
   "metadata": {},
   "outputs": [],
   "source": [
    "## The 5-point moving average coefficients\n",
    "h_avg = np.array([1/5, 1/5, 1/5, 1/5, 1/5])\n",
    "\n",
    "## Apply this to x_noisy\n",
    "y_avg = fir_filter(x_noisy, h_avg)\n",
    "\n",
    "## Plot the filter outputs\n",
    "fig, timedom = plt.subplots(figsize=(16, 4))\n",
    "\n",
    "## The original \"noisy\" input\n",
    "timedom.plot(time_steps, x_noisy, color='magenta', label='input x_noisy')\n",
    "timedom.scatter(time_steps, x_noisy, color='magenta')\n",
    "\n",
    "## The 5-point moving average\n",
    "timedom.plot(time_steps, y_avg, color='blue', label='unweighted average: y_avg')\n",
    "timedom.scatter(time_steps, y_avg, color='blue')\n",
    "timedom.legend()\n",
    "timedom.set_xlabel('Time (s)')\n",
    "timedom.set_ylabel('Amplitude')"
   ]
  },
  {
   "cell_type": "markdown",
   "metadata": {},
   "source": [
    "###  Now, we make a rectangular window"
   ]
  },
  {
   "cell_type": "code",
   "execution_count": null,
   "metadata": {
    "scrolled": true
   },
   "outputs": [],
   "source": [
    "## Make rectangular window\n",
    "N=64\n",
    "K=16\n",
    "f_s=64\n",
    "start_index=24\n",
    "end_index=start_index+K\n",
    "\n",
    "x_rect, time_steps = gen_rect_window(start_index=start_index, end_index=end_index, sample_rate=f_s, seq_length=N)\n",
    "\n",
    "fig, timedom = plt.subplots(figsize=(16, 4))\n",
    "timedom.scatter(time_steps, x_rect, color='magenta')\n",
    "timedom.plot(time_steps, x_rect, color='magenta')\n",
    "timedom.set_xlabel('Time (s)')\n",
    "timedom.set_ylabel('Amplitude')\n",
    "timedom.set_title('a rectangular window')"
   ]
  },
  {
   "cell_type": "markdown",
   "metadata": {},
   "source": [
    "You should see a sequence with 64 point where the mmiddle 16 points have value 1 and the rest have value 0  (i.e., it looks like a rectangle in the middle)."
   ]
  },
  {
   "cell_type": "markdown",
   "metadata": {},
   "source": [
    "### Now, let's  look at the frequency response of the rectangular window"
   ]
  },
  {
   "cell_type": "code",
   "execution_count": null,
   "metadata": {},
   "outputs": [],
   "source": [
    "## Now we do the DFT on the rectangular function:\n",
    "\n",
    "## get the magnitudes and phases\n",
    "mags_rect, phases_rect = get_dft_mag_phase(x_rect, N)\n",
    "\n",
    "## the DFT output frequencies\n",
    "dft_freqs_rect = get_dft_freqs_all(f_s, N)\n",
    "\n",
    "## let's just look at the magnitudes\n",
    "fig, fdom = plt.subplots(figsize=(16, 4))\n",
    "fdom.set(xlim=(-1, N/2))\n",
    "fdom.scatter(dft_freqs_rect, mags_rect)\n",
    "fdom.set_xlabel(\"Frequency (Hz)\")\n",
    "fdom.set_ylabel('Magnitude')\n",
    "fdom.set_title('Frequency response of rectangular window')\n",
    "## Looks leaky! "
   ]
  },
  {
   "cell_type": "markdown",
   "metadata": {},
   "source": [
    "### Leaky windows? \n",
    "\n",
    "The plot of the frequency magnitude response of our rectangular window has the hallmarks of leakiness. That is, the frequency response looks scalloped, with the biggest peak occuring around 0Hz. That is, it looks like a low pass filter!  \n",
    "\n",
    "With a bit of algebra we can derive the frequency for any $m$ (not just the DFT output bins indices) to be the following:  \n",
    "\n",
    "If $x[n]$ is a rectangular function of N samples with $K$ continugous samples of value 1 (starting at index $n_0$), we can figure out what the DFT output will be:\n",
    "\n",
    "$$X[m] = e^{i(2\\pi m/N)(n_0-(K-1)/2)} . \\frac{\\sin(2\\pi mK/2N)}{\\sin(2\\pi m /2N)}$$\n",
    "\n",
    "This is called the **Dirichlet kernel**. It has the **sinc** shape we saw when we looked at spectral leakage. \n",
    "\n",
    "How is this useful?  Since we know what the frequency response of a rectangular window is, we know what convolving this with different input sequences will look like in the frequency domain.  We just multiply the frequency magnitude responses together. \n",
    "\n",
    "<div class=\"alert alert-success\">\n",
    "On a more general note, this sort of convolution with a (short) window is how we do frequency analysis of speech: we taking windows of speech (aka frames) through time and and apply the DFT to get a frequency response.  A rectangular window is the simplest type of window we can take.  The equation above tells us that the sinc shaped response is an inherent part of using this sort of window.  In fact, we can use other window types (e.g. Hanning) to make the main lobes shaper and the sidelobes flatter, but we never really get away from this sinc shape in real world applications.  This is a key component of this sort of <strong>short term analysis</strong>.  \n",
    "\n",
    "  </div>\n",
    "\n",
    "Let's write this up in a function: "
   ]
  },
  {
   "cell_type": "code",
   "execution_count": null,
   "metadata": {},
   "outputs": [],
   "source": [
    "def gen_rect_response(n_0, K, N, stepsize=0.01, polar=True, amplitude=1):\n",
    "    ms = np.arange(0.01, N, stepsize)\n",
    "    qs = 2*np.pi*ms/N \n",
    "\n",
    "    ## Infact, we can work the frequency response to be the Dirichlet Kernel:\n",
    "    response = (np.exp(-1j*qs*(n_0-(K-1)/2)) * np.sin(qs*K/2))/np.sin(qs/2) \n",
    "    \n",
    "    if polar: \n",
    "        response_polar = [cmath.polar(z) for z in response]\n",
    "        mags = np.array([m for m, _ in response_polar]) * amplitude\n",
    "        phases = np.array([ph if round(mag) > 0 else 0 for mag, ph in response_polar])\n",
    "        return (mags, phases, ms)\n",
    "        \n",
    "    return response, ms\n",
    "    "
   ]
  },
  {
   "cell_type": "markdown",
   "metadata": {},
   "source": [
    "Now we can plot the dirichlet kernel with the leaky looking DFT magnitudes we calculated earlier for our rectangular window.  "
   ]
  },
  {
   "cell_type": "code",
   "execution_count": null,
   "metadata": {
    "scrolled": true
   },
   "outputs": [],
   "source": [
    "## Overlay the dirichlet kernel onto the DFT magnitudes we calculated earlier\n",
    "## You should be able to see that the DFT magnitudes appear as discrete samples of the Dirichlet Kernel\n",
    "\n",
    "mags_rect, phases_rect = get_dft_mag_phase(x_rect, N)\n",
    "mags_rect_sinc , _ , ms = response = gen_rect_response(start_index, K, N)\n",
    "\n",
    "fig, ax = plt.subplots(figsize=(16, 4))\n",
    "ax.scatter(dft_freqs_rect, mags_rect, label='rectangular window')\n",
    "ax.plot((f_s/N)*ms, mags_rect_sinc, color='C2', label='dirichlet')\n",
    "ax.set(xlim=(-1,N/2))\n",
    "ax.set_xlabel('Frequency (Hz)')\n",
    "ax.set_ylabel('Magnitude')\n",
    "ax.set_title('Frequency response of a rectangular sequence, %d samples with %d contiguous ones' % (N, K))"
   ]
  },
  {
   "cell_type": "markdown",
   "metadata": {},
   "source": [
    "You should be able to see that the DFT magnitudes appear as discrete samples of the sinc shaped Dirichlet Kernel\n",
    "\n",
    "\n"
   ]
  },
  {
   "cell_type": "markdown",
   "metadata": {},
   "source": [
    "### The unweighted average filter as a rectangular function\n",
    "\n",
    "We can think of our 5-point unweighted average filter as a 5-point input sequence with all values set to 1/5.  We can then deduce that the frequency response of the filter will have the same shape as the frequency response of a rectangular window of all ones, but scaled down by 1/5.  \n",
    "\n",
    "Now let's check: "
   ]
  },
  {
   "cell_type": "code",
   "execution_count": null,
   "metadata": {
    "scrolled": true
   },
   "outputs": [],
   "source": [
    "N_h=5 \n",
    "f_s=64\n",
    "start_index=0\n",
    "end_index=N_h - start_index\n",
    "\n",
    "## A 5 point rectangular window of all ones\n",
    "h_avg, time_steps = gen_rect_window(start_index=start_index, end_index=end_index, sample_rate=f_s, seq_length=N_h)\n",
    "h_avg = h_avg/N_h\n",
    "\n",
    "fig, td = plt.subplots(figsize=(16, 4))\n",
    "td.scatter(time_steps, h_avg, color='magenta')\n",
    "td.plot(time_steps, h_avg, color='magenta')\n",
    "td.set_xlabel('Time (s)')\n",
    "td.set_ylabel('Amplitude')\n",
    "td.set_title('5 point unweighted average as a rectangular function')\n",
    "\n",
    "## Not very exciting looking! \n",
    "print(\"h_avg:\", h_avg)"
   ]
  },
  {
   "cell_type": "markdown",
   "metadata": {},
   "source": [
    "You should just see 5 point in a row, all with value 1/5.  Now, we can plot the DFT magnitude response, as well as it's idealized continuous version: "
   ]
  },
  {
   "cell_type": "code",
   "execution_count": null,
   "metadata": {
    "scrolled": true
   },
   "outputs": [],
   "source": [
    "## Get the frequency magnitude response for our rectangular function\n",
    "mags_h_avg, phases_h_avg = get_dft_mag_phase(h_avg, N_h)\n",
    "\n",
    "## Get the continuous \n",
    "rect_mags_h_avg, _ , ms = gen_rect_response(start_index, N_h, N_h, amplitude=np.max(h_avg)) \n",
    "\n",
    "\n",
    "## x-axis as frequencies rather than indices\n",
    "ms_freqs_h_avg = (f_s/N_h) * ms\n",
    "dft_freqs_h_avg = (f_s/N_h) * np.arange(N_h)\n",
    "\n",
    "## Plot the frequency magnitude response\n",
    "fig, fd = plt.subplots(figsize=(16, 4))\n",
    "fd.set(xlim=(-1, N/2))\n",
    "fd.scatter(dft_freqs_h_avg, mags_h_avg)\n",
    "fd.set_xlabel('Frequency (Hz)')\n",
    "fd.set_ylabel('Magnitude')\n",
    "fd.set_title('Frequency response of 5-point unweighter average filter')\n",
    "#fd.scatter(dft_freqs_rect, mags_rect)\n",
    "\n",
    "fd.plot(ms_freqs_h_avg, rect_mags_h_avg, color=\"C2\")"
   ]
  },
  {
   "cell_type": "markdown",
   "metadata": {},
   "source": [
    "You should see $floor(N/2) = 2$ points, with a main lobe peaking at 0 Hz, and side lobes peaking between each of the DFT output frequencies.  \n",
    "So,  DFT frequencies sit exactly at the zeros of this function when the windown size K is the same as the number of samples. \n"
   ]
  },
  {
   "cell_type": "markdown",
   "metadata": {},
   "source": [
    "### Matching the filter and input size with zero padding\n",
    "\n",
    "The theorem we saw above told us that we could calculate the frequency response of applying the FIR filter to an input sequence (via convolution) by multiplying the DFT outputs of the filter and the input sequence.  \n",
    "\n",
    "Now, the x-axis range matches our that of our noisy input sequence because that is determined by the sampling rate. However, the filter frequency response we have above only has 5 outputs, while our input sample size was 64 because the number of DFT outputs is determined by the number of samples we put into the DFT.  \n",
    "\n",
    "To get things in the right form, we need to do some **zero padding** of the filter. We'll see that this basically gives us more samples of the Dirichlet Kernel corresponding to the filter frequency response. \n",
    "\n"
   ]
  },
  {
   "cell_type": "code",
   "execution_count": null,
   "metadata": {
    "scrolled": true
   },
   "outputs": [],
   "source": [
    "N=64\n",
    "K=5\n",
    "f_s=64\n",
    "start_index=0\n",
    "end_index=K\n",
    "\n",
    "## Make a rectangular filter: K ones at the start\n",
    "h_avg_pad, time_steps = gen_rect_window(start_index=start_index, end_index=end_index, sample_rate=f_s, seq_length=N)\n",
    "\n",
    "## Divide by K to make it an average\n",
    "h_avg_pad = h_avg_pad/K\n",
    "\n",
    "## Plot the filter\n",
    "fig, td = plt.subplots(figsize=(16, 4))\n",
    "td.scatter(time_steps, h_avg_pad, color='magenta')\n",
    "td.plot(time_steps, h_avg_pad, color='magenta')\n",
    "td.set_xlabel('Time (s)')\n",
    "td.set_title('5 point unweighted average FIR filter padded with zeros')\n",
    "\n",
    "#print(\"N=%d, K=%d, start=%d, end=%d\" % (N, K, start_index, end_index))\n",
    "\n",
    "\n"
   ]
  },
  {
   "cell_type": "code",
   "execution_count": null,
   "metadata": {},
   "outputs": [],
   "source": [
    "## Get the frequency magnitude response for our rectangular function\n",
    "mags_havg, phases_havg = get_dft_mag_phase(h_avg_pad, N)\n",
    "\n",
    "## Plot the frequency magnitude response \n",
    "## x-axis as actual frequencies rather that DFT indices\n",
    "dft_freqs_havg = (f_s/N) * np.arange(N)\n",
    "\n",
    "fig, fd = plt.subplots(figsize=(16, 4))\n",
    "fd.set(xlim=(-1,N/2))\n",
    "fd.scatter(dft_freqs_havg, mags_havg)\n",
    "fd.set_xlabel('Frequency (Hz)')\n",
    "fd.set_ylabel('Magnitude')\n",
    "fd.set_title('Magnitude response of 5-point unweighter average filter zero padded to 64 samples')"
   ]
  },
  {
   "cell_type": "markdown",
   "metadata": {},
   "source": [
    "You should be able to see more clearly in the frequency response graph that the zero padding doesn't change doesnt change the basic shape of the filter's frequency response, we just get a finer grained representation in terms of samples (red dots). "
   ]
  },
  {
   "cell_type": "markdown",
   "metadata": {},
   "source": [
    "### Calculate the input and filter frequency responses"
   ]
  },
  {
   "cell_type": "code",
   "execution_count": null,
   "metadata": {},
   "outputs": [],
   "source": [
    "## Now let's calculate frequency responses of the original input\n",
    "mags, phases = get_dft_mag_phase(x_noisy, N)\n",
    "\n",
    "## ...  the filter\n",
    "mags_filter, phases_filter = get_dft_mag_phase(h_avg_pad, N)\n",
    "\n",
    "## ... and the filtered output that we calculated above\n",
    "mags_avg, phases_avg = get_dft_mag_phase(y_avg, N)\n",
    "\n",
    "## Plot with actual frequencies on the x-axis\n",
    "dft_freqs = get_dft_freqs_all(f_s, N)"
   ]
  },
  {
   "cell_type": "code",
   "execution_count": null,
   "metadata": {
    "scrolled": true
   },
   "outputs": [],
   "source": [
    "## plot frequency responses\n",
    "\n",
    "fig, fd = plt.subplots(figsize=(16, 4))\n",
    "fd.set(xlim=(-1,N/2), ylim=(-1, N))\n",
    "\n",
    "# DFT(input)\n",
    "fd.scatter(dft_freqs, mags, color='magenta', label='DFT(input)')\n",
    "\n",
    "# DFT(filter) * DFT(input)\n",
    "fd.scatter(dft_freqs, mags_filter*mags, color='blue', label='DFT(filter).DFT(input)')\n",
    "\n",
    "# DFT(filtered input)\n",
    "fd.scatter(dft_freqs, mags_avg, color='red', label='DFT(filter*input)')\n",
    "fd.set_xlabel('Frequency (Hz)')\n",
    "fd.set_ylabel('Magnitude')\n",
    "fd.set_title('Frequency response after applying 5-point weighted average filter')\n",
    "fd.legend()"
   ]
  },
  {
   "cell_type": "markdown",
   "metadata": {},
   "source": [
    "You should see that the results from multiplying the DFT magnitudes from the input and the filter (blue) is (more or less) the same as the DFT of applying the filter in th time domain via convolution (red)\n",
    "\n",
    "* Notice that there are some differences between the results from the time domain application of the filter (red) and the frequency domain multiplication (blue).  In particular there appears to be some leakage in the time-domain convolution case, possibly due to floating point errors."
   ]
  },
  {
   "cell_type": "markdown",
   "metadata": {},
   "source": [
    "### Exercise\n",
    "\n",
    "* Try changing the frequency of the second cosine component of our compound wave in the code below. \n",
    "    * Does the amount of attenuation of the high frequency component change as suggested by the DFT of the filter? \n",
    "    * e.g. try 26 Hz vs 19 Hz\n",
    "* What does this tell you about how well this low pass filter get's rid of high frequency noise?\n",
    "\n"
   ]
  },
  {
   "cell_type": "code",
   "execution_count": null,
   "metadata": {
    "scrolled": true
   },
   "outputs": [],
   "source": [
    "## Change the frequency of x2\n",
    "\n",
    "x1, time_steps = gen_sinusoid(frequency=4, phase=0, amplitude=1, sample_rate=f_s, seq_length=N, gen_function=np.cos)\n",
    "x2, time_steps = gen_sinusoid(frequency=19, phase=0, amplitude=1, sample_rate=f_s, seq_length=N, gen_function=np.cos)\n",
    "\n",
    "# add them up!\n",
    "x_noisy = x1 + x2\n",
    "\n",
    "## Now let's calculate frequency responses of the original input\n",
    "mags, phases = get_dft_mag_phase(x_noisy, N)\n",
    "\n",
    "## ...  the filter\n",
    "mags_filter, phases_filter = get_dft_mag_phase(h_avg_pad, N)\n",
    "\n",
    "## Plot with actual frequencies on the x-axis\n",
    "dft_freqs = get_dft_freqs_all(f_s, N)\n",
    "\n",
    "## plot frequency responses\n",
    "\n",
    "fig, fd = plt.subplots(figsize=(16, 4))\n",
    "\n",
    "fd.set(xlim=(-1,N/2), ylim=(-1, N))\n",
    "\n",
    "\n",
    "# DFT(input)\n",
    "fd.scatter(dft_freqs, mags, color='magenta', label='DFT(input)')\n",
    "\n",
    "# DFT(filter) * DFT(input)\n",
    "fd.scatter(dft_freqs, mags_filter*mags, color='blue', label='DFT(filter)*DFT(input)')\n",
    "\n",
    "fd.set_xlabel('Frequency (Hz)')\n",
    "fd.set_ylabel('Magnitude')\n",
    "fd.set_title('Frequency response after applying 5-point weighted average filter')\n",
    "fd.legend()"
   ]
  },
  {
   "cell_type": "markdown",
   "metadata": {},
   "source": [
    "### Notes"
   ]
  },
  {
   "cell_type": "code",
   "execution_count": null,
   "metadata": {},
   "outputs": [],
   "source": []
  },
  {
   "cell_type": "code",
   "execution_count": null,
   "metadata": {},
   "outputs": [],
   "source": []
  }
 ],
 "metadata": {
  "kernelspec": {
   "display_name": "Python 3",
   "language": "python",
   "name": "python3"
  },
  "language_info": {
   "codemirror_mode": {
    "name": "ipython",
    "version": 3
   },
   "file_extension": ".py",
   "mimetype": "text/x-python",
   "name": "python",
   "nbconvert_exporter": "python",
   "pygments_lexer": "ipython3",
   "version": "3.8.11"
  }
 },
 "nbformat": 4,
 "nbformat_minor": 4
}
