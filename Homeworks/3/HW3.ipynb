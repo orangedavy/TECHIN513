{
  "cells": [
    {
      "cell_type": "markdown",
      "metadata": {
        "id": "JLRJNDGiPU37"
      },
      "source": [
        "## TECHIN 513 - Basic ML\n",
        "\n",
        "**Instructions**\n",
        "\n",
        "Install the required packages (scikit-learn, TensorFlow, Keras, PyTorch, and, pandas) if they are not already installed."
      ]
    },
    {
      "cell_type": "code",
      "execution_count": 110,
      "metadata": {
        "id": "JVHNfDPhPjyw"
      },
      "outputs": [],
      "source": [
        "# Task 0: Import necessary packages\n",
        "\n",
        "import tqdm\n",
        "import numpy as np\n",
        "import pandas as pd\n",
        "import torch as tc\n",
        "import torchvision as tv\n",
        "import tensorflow as tf\n",
        "from tensorflow import keras\n",
        "from keras.utils import to_categorical\n",
        "from keras.models import Sequential\n",
        "from keras.layers import Dense\n",
        "from matplotlib import pyplot as plt\n",
        "from sklearn.datasets import load_iris\n",
        "from sklearn.model_selection import train_test_split\n",
        "from sklearn.ensemble import RandomForestClassifier"
      ]
    },
    {
      "cell_type": "code",
      "execution_count": 60,
      "metadata": {},
      "outputs": [],
      "source": [
        "# Task 1: Load the Iris dataset\n",
        "\n",
        "iris = load_iris()\n",
        "X = iris.data\n",
        "y = iris.target"
      ]
    },
    {
      "cell_type": "code",
      "execution_count": 61,
      "metadata": {},
      "outputs": [],
      "source": [
        "# Task 2: Split the data into training and testing sets\n",
        "# use train_test_split function to split the data with test_size = 0.2 and random_state = 42\n",
        "\n",
        "X_train, X_test, y_train, y_test = train_test_split(X, y, test_size=0.2, random_state=0)"
      ]
    },
    {
      "cell_type": "code",
      "execution_count": 62,
      "metadata": {},
      "outputs": [
        {
          "data": {
            "text/html": [
              "<style>#sk-container-id-3 {color: black;background-color: white;}#sk-container-id-3 pre{padding: 0;}#sk-container-id-3 div.sk-toggleable {background-color: white;}#sk-container-id-3 label.sk-toggleable__label {cursor: pointer;display: block;width: 100%;margin-bottom: 0;padding: 0.3em;box-sizing: border-box;text-align: center;}#sk-container-id-3 label.sk-toggleable__label-arrow:before {content: \"▸\";float: left;margin-right: 0.25em;color: #696969;}#sk-container-id-3 label.sk-toggleable__label-arrow:hover:before {color: black;}#sk-container-id-3 div.sk-estimator:hover label.sk-toggleable__label-arrow:before {color: black;}#sk-container-id-3 div.sk-toggleable__content {max-height: 0;max-width: 0;overflow: hidden;text-align: left;background-color: #f0f8ff;}#sk-container-id-3 div.sk-toggleable__content pre {margin: 0.2em;color: black;border-radius: 0.25em;background-color: #f0f8ff;}#sk-container-id-3 input.sk-toggleable__control:checked~div.sk-toggleable__content {max-height: 200px;max-width: 100%;overflow: auto;}#sk-container-id-3 input.sk-toggleable__control:checked~label.sk-toggleable__label-arrow:before {content: \"▾\";}#sk-container-id-3 div.sk-estimator input.sk-toggleable__control:checked~label.sk-toggleable__label {background-color: #d4ebff;}#sk-container-id-3 div.sk-label input.sk-toggleable__control:checked~label.sk-toggleable__label {background-color: #d4ebff;}#sk-container-id-3 input.sk-hidden--visually {border: 0;clip: rect(1px 1px 1px 1px);clip: rect(1px, 1px, 1px, 1px);height: 1px;margin: -1px;overflow: hidden;padding: 0;position: absolute;width: 1px;}#sk-container-id-3 div.sk-estimator {font-family: monospace;background-color: #f0f8ff;border: 1px dotted black;border-radius: 0.25em;box-sizing: border-box;margin-bottom: 0.5em;}#sk-container-id-3 div.sk-estimator:hover {background-color: #d4ebff;}#sk-container-id-3 div.sk-parallel-item::after {content: \"\";width: 100%;border-bottom: 1px solid gray;flex-grow: 1;}#sk-container-id-3 div.sk-label:hover label.sk-toggleable__label {background-color: #d4ebff;}#sk-container-id-3 div.sk-serial::before {content: \"\";position: absolute;border-left: 1px solid gray;box-sizing: border-box;top: 0;bottom: 0;left: 50%;z-index: 0;}#sk-container-id-3 div.sk-serial {display: flex;flex-direction: column;align-items: center;background-color: white;padding-right: 0.2em;padding-left: 0.2em;position: relative;}#sk-container-id-3 div.sk-item {position: relative;z-index: 1;}#sk-container-id-3 div.sk-parallel {display: flex;align-items: stretch;justify-content: center;background-color: white;position: relative;}#sk-container-id-3 div.sk-item::before, #sk-container-id-3 div.sk-parallel-item::before {content: \"\";position: absolute;border-left: 1px solid gray;box-sizing: border-box;top: 0;bottom: 0;left: 50%;z-index: -1;}#sk-container-id-3 div.sk-parallel-item {display: flex;flex-direction: column;z-index: 1;position: relative;background-color: white;}#sk-container-id-3 div.sk-parallel-item:first-child::after {align-self: flex-end;width: 50%;}#sk-container-id-3 div.sk-parallel-item:last-child::after {align-self: flex-start;width: 50%;}#sk-container-id-3 div.sk-parallel-item:only-child::after {width: 0;}#sk-container-id-3 div.sk-dashed-wrapped {border: 1px dashed gray;margin: 0 0.4em 0.5em 0.4em;box-sizing: border-box;padding-bottom: 0.4em;background-color: white;}#sk-container-id-3 div.sk-label label {font-family: monospace;font-weight: bold;display: inline-block;line-height: 1.2em;}#sk-container-id-3 div.sk-label-container {text-align: center;}#sk-container-id-3 div.sk-container {/* jupyter's `normalize.less` sets `[hidden] { display: none; }` but bootstrap.min.css set `[hidden] { display: none !important; }` so we also need the `!important` here to be able to override the default hidden behavior on the sphinx rendered scikit-learn.org. See: https://github.com/scikit-learn/scikit-learn/issues/21755 */display: inline-block !important;position: relative;}#sk-container-id-3 div.sk-text-repr-fallback {display: none;}</style><div id=\"sk-container-id-3\" class=\"sk-top-container\"><div class=\"sk-text-repr-fallback\"><pre>RandomForestClassifier(random_state=0)</pre><b>In a Jupyter environment, please rerun this cell to show the HTML representation or trust the notebook. <br />On GitHub, the HTML representation is unable to render, please try loading this page with nbviewer.org.</b></div><div class=\"sk-container\" hidden><div class=\"sk-item\"><div class=\"sk-estimator sk-toggleable\"><input class=\"sk-toggleable__control sk-hidden--visually\" id=\"sk-estimator-id-3\" type=\"checkbox\" checked><label for=\"sk-estimator-id-3\" class=\"sk-toggleable__label sk-toggleable__label-arrow\">RandomForestClassifier</label><div class=\"sk-toggleable__content\"><pre>RandomForestClassifier(random_state=0)</pre></div></div></div></div></div>"
            ],
            "text/plain": [
              "RandomForestClassifier(random_state=0)"
            ]
          },
          "execution_count": 62,
          "metadata": {},
          "output_type": "execute_result"
        }
      ],
      "source": [
        "# Task 3: Train a Random Forest Classifier on the training data\n",
        "# import RandomForestClassifier from sklearn and fit it with training data\n",
        "\n",
        "clf = RandomForestClassifier(random_state=0)\n",
        "clf.fit(X_train, y_train)"
      ]
    },
    {
      "cell_type": "code",
      "execution_count": 63,
      "metadata": {},
      "outputs": [
        {
          "name": "stdout",
          "output_type": "stream",
          "text": [
            "Accuracy of Random Forest Classifier: 100.00%\n"
          ]
        }
      ],
      "source": [
        "# Task 4: Evaluate the classifier on the testing data\n",
        "# use clf.score function to evaluate the classifier on the testing data\n",
        "# print the accuracy of the classifier\n",
        "\n",
        "accuracy = clf.score(X_test, y_test)\n",
        "print(f\"Accuracy of Random Forest Classifier: {accuracy:.2%}\")"
      ]
    },
    {
      "cell_type": "code",
      "execution_count": 68,
      "metadata": {},
      "outputs": [],
      "source": [
        "# Task 5: Load the MNIST dataset\n",
        "# use keras.datasets.mnist.load_data() to load the dataset\n",
        "\n",
        "(X_train, y_train), (X_test, y_test) = keras.datasets.mnist.load_data()"
      ]
    },
    {
      "cell_type": "code",
      "execution_count": null,
      "metadata": {},
      "outputs": [],
      "source": [
        "# Task 6: Preprocess the data\n",
        "# normalize the data by dividing by 255.0\n",
        "# use to_categorical from keras.utils to one-hot encode the labels\n",
        "\n",
        "X_train, X_test = X_train/255.0 , X_test/255.0  # normalization\n",
        "y_train = tf.keras.utils.to_categorical(y_train)  # one-hot encoding vector\n",
        "y_test = tf.keras.utils.to_categorical(y_test)\n",
        "\n",
        "num_pixels = 28 * 28  # flatten input vector to square of size of data\n",
        "X_train = X_train.reshape(X_train.shape[0], num_pixels)  # reshape training data\n",
        "X_test = X_test.reshape(X_test.shape[0], num_pixels)"
      ]
    },
    {
      "cell_type": "code",
      "execution_count": 70,
      "metadata": {},
      "outputs": [
        {
          "name": "stdout",
          "output_type": "stream",
          "text": [
            "Epoch 1/15\n",
            "   7/1688 [..............................] - ETA: 16s - loss: 2.2803 - accuracy: 0.0759 "
          ]
        },
        {
          "name": "stderr",
          "output_type": "stream",
          "text": [
            "2023-02-25 16:09:00.856251: I tensorflow/core/grappler/optimizers/custom_graph_optimizer_registry.cc:113] Plugin optimizer for device_type GPU is enabled.\n"
          ]
        },
        {
          "name": "stdout",
          "output_type": "stream",
          "text": [
            "1686/1688 [============================>.] - ETA: 0s - loss: 0.4937 - accuracy: 0.8532"
          ]
        },
        {
          "name": "stderr",
          "output_type": "stream",
          "text": [
            "2023-02-25 16:09:13.868434: I tensorflow/core/grappler/optimizers/custom_graph_optimizer_registry.cc:113] Plugin optimizer for device_type GPU is enabled.\n"
          ]
        },
        {
          "name": "stdout",
          "output_type": "stream",
          "text": [
            "1688/1688 [==============================] - 14s 8ms/step - loss: 0.4934 - accuracy: 0.8533 - val_loss: 0.2534 - val_accuracy: 0.9230\n",
            "Epoch 2/15\n",
            "1688/1688 [==============================] - 14s 8ms/step - loss: 0.2831 - accuracy: 0.9186 - val_loss: 0.2149 - val_accuracy: 0.9373\n",
            "Epoch 3/15\n",
            "1688/1688 [==============================] - 13s 8ms/step - loss: 0.2443 - accuracy: 0.9292 - val_loss: 0.1870 - val_accuracy: 0.9462\n",
            "Epoch 4/15\n",
            "1688/1688 [==============================] - 13s 8ms/step - loss: 0.2216 - accuracy: 0.9348 - val_loss: 0.1872 - val_accuracy: 0.9463\n",
            "Epoch 5/15\n",
            "1688/1688 [==============================] - 14s 8ms/step - loss: 0.2072 - accuracy: 0.9386 - val_loss: 0.1699 - val_accuracy: 0.9520\n",
            "Epoch 6/15\n",
            "1688/1688 [==============================] - 15s 9ms/step - loss: 0.1961 - accuracy: 0.9412 - val_loss: 0.1722 - val_accuracy: 0.9490\n",
            "Epoch 7/15\n",
            "1688/1688 [==============================] - 15s 9ms/step - loss: 0.1871 - accuracy: 0.9437 - val_loss: 0.1574 - val_accuracy: 0.9547\n",
            "Epoch 8/15\n",
            "1688/1688 [==============================] - 14s 9ms/step - loss: 0.1795 - accuracy: 0.9464 - val_loss: 0.1539 - val_accuracy: 0.9582\n",
            "Epoch 9/15\n",
            "1688/1688 [==============================] - 14s 8ms/step - loss: 0.1733 - accuracy: 0.9489 - val_loss: 0.1509 - val_accuracy: 0.9542\n",
            "Epoch 10/15\n",
            "1688/1688 [==============================] - 14s 8ms/step - loss: 0.1667 - accuracy: 0.9502 - val_loss: 0.1589 - val_accuracy: 0.9547\n",
            "Epoch 11/15\n",
            "1688/1688 [==============================] - 14s 8ms/step - loss: 0.1624 - accuracy: 0.9510 - val_loss: 0.1594 - val_accuracy: 0.9532\n",
            "Epoch 12/15\n",
            "1688/1688 [==============================] - 14s 8ms/step - loss: 0.1566 - accuracy: 0.9520 - val_loss: 0.1578 - val_accuracy: 0.9530\n",
            "Epoch 13/15\n",
            "1688/1688 [==============================] - 14s 8ms/step - loss: 0.1525 - accuracy: 0.9537 - val_loss: 0.1512 - val_accuracy: 0.9568\n",
            "Epoch 14/15\n",
            "1688/1688 [==============================] - 14s 8ms/step - loss: 0.1491 - accuracy: 0.9544 - val_loss: 0.1560 - val_accuracy: 0.9555\n",
            "Epoch 15/15\n",
            "1688/1688 [==============================] - 14s 8ms/step - loss: 0.1462 - accuracy: 0.9556 - val_loss: 0.1477 - val_accuracy: 0.9592\n"
          ]
        }
      ],
      "source": [
        "# Task 7: Define and train a simple neural network using Keras\n",
        "# use Sequential model from keras.models\n",
        "# use Dense layer from keras.layers\n",
        "# use 'adam' as optimizer and 'categorical_crossentropy' as loss function\n",
        "# use model.fit to train the model\n",
        "\n",
        "# define sequential model with keras\n",
        "model = tf.keras.Sequential()\n",
        "\n",
        "# add three Dense layers with varying units and activation methods\n",
        "model.add(tf.keras.layers.Dense(10, activation='relu', input_dim = num_pixels))\n",
        "model.add(tf.keras.layers.Dense(30, activation='relu'))\n",
        "model.add(tf.keras.layers.Dense(10, activation='softmax'))\n",
        "\n",
        "# define optimizer, loss function and metrics\n",
        "model.compile(loss='categorical_crossentropy', optimizer='adam', metrics='accuracy')\n",
        "\n",
        "# store training epoch info in history\n",
        "history = model.fit(X_train, y_train, epochs=15, batch_size=32, validation_split=0.1)"
      ]
    },
    {
      "cell_type": "code",
      "execution_count": 72,
      "metadata": {},
      "outputs": [
        {
          "name": "stdout",
          "output_type": "stream",
          "text": [
            "313/313 [==============================] - 2s 7ms/step - loss: 0.1761 - accuracy: 0.9482\n",
            "Test Loss: 0.18\n",
            "Test Accuracy: 94.82%\n"
          ]
        },
        {
          "data": {
            "image/png": "[encoded data removed]",
            "text/plain": [
              "<Figure size 640x480 with 2 Axes>"
            ]
          },
          "metadata": {},
          "output_type": "display_data"
        }
      ],
      "source": [
        "# Task 8: Evaluate the neural network on the testing data\n",
        "# use model.evaluate to get the test loss and test accuracy\n",
        "\n",
        "# plot loss change in training\n",
        "plt.subplot(2, 1, 1)\n",
        "plt.plot(history.history['loss'])\n",
        "plt.plot(history.history['val_loss'])\n",
        "plt.legend(['loss', 'val_loss'])\n",
        "plt.title('Loss')\n",
        "plt.xlabel('epoch')\n",
        "\n",
        "# plot accuracy change in training\n",
        "plt.subplot(2, 1, 2)\n",
        "plt.plot(history.history['accuracy'])\n",
        "plt.plot(history.history['val_accuracy'])\n",
        "plt.legend(['acc', 'val_acc'])\n",
        "plt.title('Accuracy')\n",
        "plt.xlabel('epoch')\n",
        "\n",
        "plt.suptitle('Training Performance over Epoch')\n",
        "plt.tight_layout()\n",
        "\n",
        "# evaluate trained model with test data\n",
        "loss, accuracy = model.evaluate(X_test, y_test)\n",
        "print(f\"Test Loss: {loss:.2f}\")\n",
        "print(f\"Test Accuracy: {accuracy:.2%}\")"
      ]
    },
    {
      "cell_type": "code",
      "execution_count": 107,
      "metadata": {},
      "outputs": [],
      "source": [
        "# Task 9: Define a simple linear regression model using PyTorch\n",
        "# create a class LinearRegression that inherits from nn.Module\n",
        "# define the constructor and forward function\n",
        "\n",
        "# prepare the training and testing datasets\n",
        "data = pd.read_csv('exp_vs_salary_Data.csv')\n",
        "train, test = train_test_split(data, test_size=0.2)\n",
        "# convert training data into tensors\n",
        "X_train = tc.Tensor([[x] for x in list(train.YearsExperience)])\n",
        "y_train = tc.FloatTensor([[x] for x in list(train.Salary)])\n",
        "# convert testing data into tensors\n",
        "X_test = tc.Tensor([[x] for x in list(test.YearsExperience)])\n",
        "y_test = tc.FloatTensor([[x] for x in list(test.Salary)])\n",
        "\n",
        "# define the linear regression model\n",
        "class LinearRegression(tc.nn.Module):\n",
        "    # define constructor function\n",
        "    def __init__(self, in_size, out_size):\n",
        "        super().__init__()  # inherit from parent class\n",
        "        self.linear = tc.nn.Linear(in_features=in_size, out_features=out_size)\n",
        "    # define forward function\n",
        "    def forward(self, X):\n",
        "        pred = self.linear(X)\n",
        "        return(pred)"
      ]
    },
    {
      "cell_type": "code",
      "execution_count": 109,
      "metadata": {},
      "outputs": [
        {
          "name": "stdout",
          "output_type": "stream",
          "text": [
            "The initial parameters are: weight -0.73; bias 0.58.\n"
          ]
        },
        {
          "name": "stderr",
          "output_type": "stream",
          "text": [
            "100%|██████████| 50/50 [00:00<00:00, 11636.62it/s]"
          ]
        },
        {
          "name": "stdout",
          "output_type": "stream",
          "text": [
            "Epoch 1/50 - loss: 5828349952.0\n",
            "Epoch 2/50 - loss: 927003968.0\n",
            "Epoch 3/50 - loss: 248123728.0\n",
            "Epoch 4/50 - loss: 153457584.0\n",
            "Epoch 5/50 - loss: 139627664.0\n",
            "Epoch 6/50 - loss: 136987984.0\n",
            "Epoch 7/50 - loss: 135902464.0\n",
            "Epoch 8/50 - loss: 135037936.0\n",
            "Epoch 9/50 - loss: 134209784.0\n",
            "Epoch 10/50 - loss: 133392440.0\n",
            "Epoch 11/50 - loss: 132582336.0\n",
            "Epoch 12/50 - loss: 131778952.0\n",
            "Epoch 13/50 - loss: 130982168.0\n",
            "Epoch 14/50 - loss: 130191872.0\n",
            "Epoch 15/50 - loss: 129408088.0\n",
            "Epoch 16/50 - loss: 128630664.0\n",
            "Epoch 17/50 - loss: 127859584.0\n",
            "Epoch 18/50 - loss: 127094848.0\n",
            "Epoch 19/50 - loss: 126336352.0\n",
            "Epoch 20/50 - loss: 125584040.0\n",
            "Epoch 21/50 - loss: 124837944.0\n",
            "Epoch 22/50 - loss: 124097896.0\n",
            "Epoch 23/50 - loss: 123363928.0\n",
            "Epoch 24/50 - loss: 122635928.0\n",
            "Epoch 25/50 - loss: 121913912.0\n",
            "Epoch 26/50 - loss: 121197768.0\n",
            "Epoch 27/50 - loss: 120487512.0\n",
            "Epoch 28/50 - loss: 119783048.0\n",
            "Epoch 29/50 - loss: 119084352.0\n",
            "Epoch 30/50 - loss: 118391328.0\n",
            "Epoch 31/50 - loss: 117704056.0\n",
            "Epoch 32/50 - loss: 117022344.0\n",
            "Epoch 33/50 - loss: 116346232.0\n",
            "Epoch 34/50 - loss: 115675640.0\n",
            "Epoch 35/50 - loss: 115010520.0\n",
            "Epoch 36/50 - loss: 114350880.0\n",
            "Epoch 37/50 - loss: 113696568.0\n",
            "Epoch 38/50 - loss: 113047656.0\n",
            "Epoch 39/50 - loss: 112404032.0\n",
            "Epoch 40/50 - loss: 111765696.0\n",
            "Epoch 41/50 - loss: 111132552.0\n",
            "Epoch 42/50 - loss: 110504568.0\n",
            "Epoch 43/50 - loss: 109881752.0\n",
            "Epoch 44/50 - loss: 109264024.0\n",
            "Epoch 45/50 - loss: 108651328.0\n",
            "Epoch 46/50 - loss: 108043680.0\n",
            "Epoch 47/50 - loss: 107440968.0\n",
            "Epoch 48/50 - loss: 106843224.0\n",
            "Epoch 49/50 - loss: 106250312.0\n",
            "Epoch 50/50 - loss: 105662312.0\n",
            "The optimized parameters are: weight 12608.59; bias 6329.09.\n"
          ]
        },
        {
          "name": "stderr",
          "output_type": "stream",
          "text": [
            "\n"
          ]
        }
      ],
      "source": [
        "# Task 10: Train the linear regression model on some dummy data and print the weight and bias\n",
        "# create an instance of LinearRegression\n",
        "# use nn.MSELoss as criterion, optim.SGD as optimizer\n",
        "# use model.parameters() as input for optimizer\n",
        "# use optimizer.step() and criterion to update the model weight and bias\n",
        "\n",
        "model = LinearRegression(1, 1)  # create an instance of class\n",
        "[weight, bias] = model.parameters()  # print initial weights and biases\n",
        "print(f\"The initial parameters are: weight {weight.item():.2f}; bias {bias.item():.2f}.\")\n",
        "\n",
        "loss_fun = tc.nn.MSELoss()  # define MSE loss function\n",
        "optimizer = tc.optim.SGD(model.parameters(), lr=0.01)  # define SGD optimizer with learning rate\n",
        "\n",
        "epochs = 50  # define number of epochs\n",
        "losses = []  # initiate list for losses\n",
        "\n",
        "# train the linear regression model\n",
        "for i in tqdm.trange(1, epochs + 1):  # repeat for given epochs\n",
        "\n",
        "    y_pred = model.forward(X_train)  # generate prediction\n",
        "    loss = loss_fun(y_pred, y_train)  # calculate loss\n",
        "    print(f\"Epoch {i}/{epochs} - loss: {loss.item()}\")  # print current loss\n",
        "    losses.append(loss)  # record loss\n",
        "\n",
        "    optimizer.zero_grad()  # reset gradients\n",
        "    loss.backward()  # compute gradients\n",
        "    optimizer.step()  # update parameters with gradients\n",
        "\n",
        "# print optimized weights and biases\n",
        "[weight, bias] = model.parameters()\n",
        "print(f\"The optimized parameters are: weight {weight.item():.2f}; bias {bias.item():.2f}.\")"
      ]
    },
    {
      "attachments": {},
      "cell_type": "markdown",
      "metadata": {},
      "source": [
        "# Bonus"
      ]
    },
    {
      "cell_type": "code",
      "execution_count": null,
      "metadata": {},
      "outputs": [],
      "source": [
        "# Bonus Task: Implement a Convolutional Neural Network to classify the CIFAR-10 dataset\n",
        "# use torchvision.datasets.CIFAR10 to load the dataset\n",
        "# create a class CNN that inherit from nn.Module\n",
        "# define the constructor, forward function and the network architecture \n",
        "# use CrossEntropyLoss as criterion, optim.SGD as optimizer\n",
        "# use model.parameters() as input for optimizer\n",
        "# use optimizer.step() and criterion to update the model weight and bias"
      ]
    },
    {
      "cell_type": "code",
      "execution_count": 181,
      "metadata": {},
      "outputs": [],
      "source": [
        "# preparing data\n",
        "\n",
        "# load cifar10 dataset\n",
        "\n",
        "transform = tv.transforms.Compose(\n",
        "    [tv.transforms.ToTensor(),\n",
        "     tv.transforms.Normalize((0.5, 0.5, 0.5), (0.5, 0.5, 0.5))])\n",
        "\n",
        "batch_size = 4\n",
        "\n",
        "trainset = tv.datasets.CIFAR10(root='data/', train=True, transform=transform)\n",
        "trainloader = tc.utils.data.DataLoader(trainset, batch_size=batch_size, shuffle=True)\n",
        "testset = tv.datasets.CIFAR10(root='data/', train=False, transform=transform)\n",
        "testloader = tc.utils.data.DataLoader(testset, batch_size=batch_size, shuffle=False)"
      ]
    },
    {
      "cell_type": "code",
      "execution_count": 182,
      "metadata": {},
      "outputs": [],
      "source": [
        "# create CNN class\n",
        "\n",
        "# define cnn model\n",
        "class CNN(tc.nn.Module):\n",
        "\n",
        "    # define constructor function\n",
        "    def __init__(self):\n",
        "        super(CNN, self).__init__()\n",
        "\n",
        "        # convolution 1\n",
        "        self.cnn1 = tc.nn.Conv2d(in_channels=3, out_channels=6, kernel_size=5)\n",
        "        self.relu1 = tc.nn.ReLU()\n",
        "\n",
        "        # max pool 1\n",
        "        self.pool = tc.nn.MaxPool2d(kernel_size=2)\n",
        "\n",
        "        # convolution 2\n",
        "        self.cnn2 = tc.nn.Conv2d(in_channels=6, out_channels=16, kernel_size=5)\n",
        "        self.relu2 = tc.nn.ReLU()\n",
        "\n",
        "        # # max pool 2\n",
        "        # self.maxpool2 = tc.nn.MaxPool2d(kernel_size=2)\n",
        "\n",
        "        # fully connected 1, 2, 3\n",
        "        self.fc1 = tc.nn.Linear(16 * 5 * 5, 120)\n",
        "        self.fc2 = tc.nn.Linear(120, 84)\n",
        "        self.fc3 = tc.nn.Linear(84, 10)\n",
        "\n",
        "    # define forward function\n",
        "    def forward(self, x):\n",
        "\n",
        "        # convolution and max pool\n",
        "        x = self.pool(tc.nn.functional.relu(self.cnn1(x)))\n",
        "        x = self.pool(tc.nn.functional.relu(self.cnn2(x)))\n",
        "\n",
        "        # flatten all dimensions except batch\n",
        "        x = tc.flatten(x, 1)\n",
        "\n",
        "        # linear function\n",
        "        x = tc.nn.functional.relu(self.fc1(x))\n",
        "        x = tc.nn.functional.relu(self.fc2(x))\n",
        "        x = self.fc3(x)\n",
        "        \n",
        "        return x"
      ]
    },
    {
      "cell_type": "code",
      "execution_count": 183,
      "metadata": {},
      "outputs": [],
      "source": [
        "# instantiate cnn model class\n",
        "model = CNN()\n",
        "\n",
        "# instantiate loss class\n",
        "criterion = tc.nn.CrossEntropyLoss()\n",
        "\n",
        "# instantiate optimizer class with parameters as input\n",
        "optimizer = tc.optim.SGD(model.parameters(), lr=0.01)"
      ]
    },
    {
      "cell_type": "code",
      "execution_count": 184,
      "metadata": {},
      "outputs": [
        {
          "name": "stderr",
          "output_type": "stream",
          "text": [
            "  0%|          | 0/20 [00:00<?, ?it/s]"
          ]
        },
        {
          "name": "stdout",
          "output_type": "stream",
          "text": [
            "Epoch 1/20, Batch  2000] - loss: 2.20\n",
            "Epoch 1/20, Batch  4000] - loss: 1.88\n",
            "Epoch 1/20, Batch  6000] - loss: 1.68\n",
            "Epoch 1/20, Batch  8000] - loss: 1.59\n",
            "Epoch 1/20, Batch 10000] - loss: 1.51\n",
            "Epoch 1/20, Batch 12000] - loss: 1.47\n"
          ]
        },
        {
          "name": "stderr",
          "output_type": "stream",
          "text": [
            "  5%|▌         | 1/20 [00:21<06:47, 21.46s/it]"
          ]
        },
        {
          "name": "stdout",
          "output_type": "stream",
          "text": [
            "Epoch 2/20, Batch  2000] - loss: 1.39\n",
            "Epoch 2/20, Batch  4000] - loss: 1.35\n",
            "Epoch 2/20, Batch  6000] - loss: 1.32\n",
            "Epoch 2/20, Batch  8000] - loss: 1.32\n",
            "Epoch 2/20, Batch 10000] - loss: 1.28\n",
            "Epoch 2/20, Batch 12000] - loss: 1.28\n"
          ]
        },
        {
          "name": "stderr",
          "output_type": "stream",
          "text": [
            " 10%|█         | 2/20 [00:42<06:23, 21.30s/it]"
          ]
        },
        {
          "name": "stdout",
          "output_type": "stream",
          "text": [
            "Epoch 3/20, Batch  2000] - loss: 1.21\n",
            "Epoch 3/20, Batch  4000] - loss: 1.20\n",
            "Epoch 3/20, Batch  6000] - loss: 1.23\n",
            "Epoch 3/20, Batch  8000] - loss: 1.20\n",
            "Epoch 3/20, Batch 10000] - loss: 1.20\n",
            "Epoch 3/20, Batch 12000] - loss: 1.17\n"
          ]
        },
        {
          "name": "stderr",
          "output_type": "stream",
          "text": [
            " 15%|█▌        | 3/20 [01:06<06:24, 22.63s/it]"
          ]
        },
        {
          "name": "stdout",
          "output_type": "stream",
          "text": [
            "Epoch 4/20, Batch  2000] - loss: 1.11\n",
            "Epoch 4/20, Batch  4000] - loss: 1.12\n",
            "Epoch 4/20, Batch  6000] - loss: 1.12\n",
            "Epoch 4/20, Batch  8000] - loss: 1.11\n",
            "Epoch 4/20, Batch 10000] - loss: 1.10\n",
            "Epoch 4/20, Batch 12000] - loss: 1.12\n"
          ]
        },
        {
          "name": "stderr",
          "output_type": "stream",
          "text": [
            " 20%|██        | 4/20 [01:33<06:27, 24.23s/it]"
          ]
        },
        {
          "name": "stdout",
          "output_type": "stream",
          "text": [
            "Epoch 5/20, Batch  2000] - loss: 1.02\n",
            "Epoch 5/20, Batch  4000] - loss: 1.02\n",
            "Epoch 5/20, Batch  6000] - loss: 1.06\n",
            "Epoch 5/20, Batch  8000] - loss: 1.06\n",
            "Epoch 5/20, Batch 10000] - loss: 1.03\n",
            "Epoch 5/20, Batch 12000] - loss: 1.06\n"
          ]
        },
        {
          "name": "stderr",
          "output_type": "stream",
          "text": [
            " 25%|██▌       | 5/20 [01:56<05:54, 23.62s/it]"
          ]
        },
        {
          "name": "stdout",
          "output_type": "stream",
          "text": [
            "Epoch 6/20, Batch  2000] - loss: 0.97\n",
            "Epoch 6/20, Batch  4000] - loss: 0.97\n",
            "Epoch 6/20, Batch  6000] - loss: 0.99\n",
            "Epoch 6/20, Batch  8000] - loss: 0.96\n",
            "Epoch 6/20, Batch 10000] - loss: 1.00\n",
            "Epoch 6/20, Batch 12000] - loss: 0.99\n"
          ]
        },
        {
          "name": "stderr",
          "output_type": "stream",
          "text": [
            " 30%|███       | 6/20 [02:16<05:16, 22.58s/it]"
          ]
        },
        {
          "name": "stdout",
          "output_type": "stream",
          "text": [
            "Epoch 7/20, Batch  2000] - loss: 0.89\n",
            "Epoch 7/20, Batch  4000] - loss: 0.92\n",
            "Epoch 7/20, Batch  6000] - loss: 0.95\n",
            "Epoch 7/20, Batch  8000] - loss: 0.94\n",
            "Epoch 7/20, Batch 10000] - loss: 0.95\n",
            "Epoch 7/20, Batch 12000] - loss: 0.95\n"
          ]
        },
        {
          "name": "stderr",
          "output_type": "stream",
          "text": [
            " 35%|███▌      | 7/20 [02:37<04:46, 22.00s/it]"
          ]
        },
        {
          "name": "stdout",
          "output_type": "stream",
          "text": [
            "Epoch 8/20, Batch  2000] - loss: 0.85\n",
            "Epoch 8/20, Batch  4000] - loss: 0.90\n",
            "Epoch 8/20, Batch  6000] - loss: 0.88\n",
            "Epoch 8/20, Batch  8000] - loss: 0.89\n",
            "Epoch 8/20, Batch 10000] - loss: 0.91\n",
            "Epoch 8/20, Batch 12000] - loss: 0.91\n"
          ]
        },
        {
          "name": "stderr",
          "output_type": "stream",
          "text": [
            " 40%|████      | 8/20 [02:58<04:20, 21.68s/it]"
          ]
        },
        {
          "name": "stdout",
          "output_type": "stream",
          "text": [
            "Epoch 9/20, Batch  2000] - loss: 0.80\n",
            "Epoch 9/20, Batch  4000] - loss: 0.84\n",
            "Epoch 9/20, Batch  6000] - loss: 0.85\n",
            "Epoch 9/20, Batch  8000] - loss: 0.88\n",
            "Epoch 9/20, Batch 10000] - loss: 0.90\n",
            "Epoch 9/20, Batch 12000] - loss: 0.90\n"
          ]
        },
        {
          "name": "stderr",
          "output_type": "stream",
          "text": [
            " 45%|████▌     | 9/20 [03:19<03:56, 21.54s/it]"
          ]
        },
        {
          "name": "stdout",
          "output_type": "stream",
          "text": [
            "Epoch 10/20, Batch  2000] - loss: 0.81\n",
            "Epoch 10/20, Batch  4000] - loss: 0.81\n",
            "Epoch 10/20, Batch  6000] - loss: 0.83\n",
            "Epoch 10/20, Batch  8000] - loss: 0.84\n",
            "Epoch 10/20, Batch 10000] - loss: 0.83\n",
            "Epoch 10/20, Batch 12000] - loss: 0.87\n"
          ]
        },
        {
          "name": "stderr",
          "output_type": "stream",
          "text": [
            " 50%|█████     | 10/20 [03:41<03:37, 21.78s/it]"
          ]
        },
        {
          "name": "stdout",
          "output_type": "stream",
          "text": [
            "Epoch 11/20, Batch  2000] - loss: 0.75\n",
            "Epoch 11/20, Batch  4000] - loss: 0.81\n",
            "Epoch 11/20, Batch  6000] - loss: 0.80\n",
            "Epoch 11/20, Batch  8000] - loss: 0.80\n",
            "Epoch 11/20, Batch 10000] - loss: 0.83\n",
            "Epoch 11/20, Batch 12000] - loss: 0.83\n"
          ]
        },
        {
          "name": "stderr",
          "output_type": "stream",
          "text": [
            " 55%|█████▌    | 11/20 [04:11<03:36, 24.09s/it]"
          ]
        },
        {
          "name": "stdout",
          "output_type": "stream",
          "text": [
            "Epoch 12/20, Batch  2000] - loss: 0.74\n",
            "Epoch 12/20, Batch  4000] - loss: 0.74\n",
            "Epoch 12/20, Batch  6000] - loss: 0.79\n",
            "Epoch 12/20, Batch  8000] - loss: 0.80\n",
            "Epoch 12/20, Batch 10000] - loss: 0.81\n",
            "Epoch 12/20, Batch 12000] - loss: 0.82\n"
          ]
        },
        {
          "name": "stderr",
          "output_type": "stream",
          "text": [
            " 60%|██████    | 12/20 [04:33<03:06, 23.36s/it]"
          ]
        },
        {
          "name": "stdout",
          "output_type": "stream",
          "text": [
            "Epoch 13/20, Batch  2000] - loss: 0.69\n",
            "Epoch 13/20, Batch  4000] - loss: 0.76\n",
            "Epoch 13/20, Batch  6000] - loss: 0.76\n",
            "Epoch 13/20, Batch  8000] - loss: 0.77\n",
            "Epoch 13/20, Batch 10000] - loss: 0.80\n",
            "Epoch 13/20, Batch 12000] - loss: 0.78\n"
          ]
        },
        {
          "name": "stderr",
          "output_type": "stream",
          "text": [
            " 65%|██████▌   | 13/20 [04:54<02:38, 22.64s/it]"
          ]
        },
        {
          "name": "stdout",
          "output_type": "stream",
          "text": [
            "Epoch 14/20, Batch  2000] - loss: 0.69\n",
            "Epoch 14/20, Batch  4000] - loss: 0.73\n",
            "Epoch 14/20, Batch  6000] - loss: 0.73\n",
            "Epoch 14/20, Batch  8000] - loss: 0.73\n",
            "Epoch 14/20, Batch 10000] - loss: 0.77\n",
            "Epoch 14/20, Batch 12000] - loss: 0.81\n"
          ]
        },
        {
          "name": "stderr",
          "output_type": "stream",
          "text": [
            " 70%|███████   | 14/20 [05:14<02:12, 22.00s/it]"
          ]
        },
        {
          "name": "stdout",
          "output_type": "stream",
          "text": [
            "Epoch 15/20, Batch  2000] - loss: 0.65\n",
            "Epoch 15/20, Batch  4000] - loss: 0.69\n",
            "Epoch 15/20, Batch  6000] - loss: 0.72\n",
            "Epoch 15/20, Batch  8000] - loss: 0.75\n",
            "Epoch 15/20, Batch 10000] - loss: 0.76\n",
            "Epoch 15/20, Batch 12000] - loss: 0.76\n"
          ]
        },
        {
          "name": "stderr",
          "output_type": "stream",
          "text": [
            " 75%|███████▌  | 15/20 [05:35<01:48, 21.71s/it]"
          ]
        },
        {
          "name": "stdout",
          "output_type": "stream",
          "text": [
            "Epoch 16/20, Batch  2000] - loss: 0.65\n",
            "Epoch 16/20, Batch  4000] - loss: 0.67\n",
            "Epoch 16/20, Batch  6000] - loss: 0.70\n",
            "Epoch 16/20, Batch  8000] - loss: 0.72\n",
            "Epoch 16/20, Batch 10000] - loss: 0.75\n",
            "Epoch 16/20, Batch 12000] - loss: 0.75\n"
          ]
        },
        {
          "name": "stderr",
          "output_type": "stream",
          "text": [
            " 80%|████████  | 16/20 [05:56<01:26, 21.56s/it]"
          ]
        },
        {
          "name": "stdout",
          "output_type": "stream",
          "text": [
            "Epoch 17/20, Batch  2000] - loss: 0.64\n",
            "Epoch 17/20, Batch  4000] - loss: 0.65\n",
            "Epoch 17/20, Batch  6000] - loss: 0.68\n",
            "Epoch 17/20, Batch  8000] - loss: 0.72\n",
            "Epoch 17/20, Batch 10000] - loss: 0.74\n",
            "Epoch 17/20, Batch 12000] - loss: 0.72\n"
          ]
        },
        {
          "name": "stderr",
          "output_type": "stream",
          "text": [
            " 85%|████████▌ | 17/20 [06:17<01:04, 21.44s/it]"
          ]
        },
        {
          "name": "stdout",
          "output_type": "stream",
          "text": [
            "Epoch 18/20, Batch  2000] - loss: 0.63\n",
            "Epoch 18/20, Batch  4000] - loss: 0.67\n",
            "Epoch 18/20, Batch  6000] - loss: 0.70\n",
            "Epoch 18/20, Batch  8000] - loss: 0.70\n",
            "Epoch 18/20, Batch 10000] - loss: 0.71\n",
            "Epoch 18/20, Batch 12000] - loss: 0.73\n"
          ]
        },
        {
          "name": "stderr",
          "output_type": "stream",
          "text": [
            " 90%|█████████ | 18/20 [06:40<00:43, 21.79s/it]"
          ]
        },
        {
          "name": "stdout",
          "output_type": "stream",
          "text": [
            "Epoch 19/20, Batch  2000] - loss: 0.61\n",
            "Epoch 19/20, Batch  4000] - loss: 0.64\n",
            "Epoch 19/20, Batch  6000] - loss: 0.67\n",
            "Epoch 19/20, Batch  8000] - loss: 0.67\n",
            "Epoch 19/20, Batch 10000] - loss: 0.69\n",
            "Epoch 19/20, Batch 12000] - loss: 0.74\n"
          ]
        },
        {
          "name": "stderr",
          "output_type": "stream",
          "text": [
            " 95%|█████████▌| 19/20 [07:02<00:21, 21.90s/it]"
          ]
        },
        {
          "name": "stdout",
          "output_type": "stream",
          "text": [
            "Epoch 20/20, Batch  2000] - loss: 0.61\n",
            "Epoch 20/20, Batch  4000] - loss: 0.64\n",
            "Epoch 20/20, Batch  6000] - loss: 0.66\n",
            "Epoch 20/20, Batch  8000] - loss: 0.68\n",
            "Epoch 20/20, Batch 10000] - loss: 0.67\n",
            "Epoch 20/20, Batch 12000] - loss: 0.72\n"
          ]
        },
        {
          "name": "stderr",
          "output_type": "stream",
          "text": [
            "100%|██████████| 20/20 [07:23<00:00, 22.18s/it]\n"
          ]
        }
      ],
      "source": [
        "# train cnn model\n",
        "\n",
        "epochs = 20  # define training epochs\n",
        "\n",
        "for epoch in tqdm.trange(1, epochs + 1):\n",
        "\n",
        "    running_loss = 0  # initiate local loss\n",
        "    for i, (images, labels) in enumerate(trainloader, 0):\n",
        "    \n",
        "        # load training images\n",
        "        images = images.requires_grad_()\n",
        "\n",
        "        # generate prediction by forward pass\n",
        "        outputs = model(images)\n",
        "\n",
        "        # reset gradients w.r.t. parameters\n",
        "        optimizer.zero_grad()\n",
        "\n",
        "        # calculate loss: softmax -> cross entropy loss\n",
        "        loss = criterion(outputs, labels)\n",
        "\n",
        "        # compute gradients w.r.t. parameters\n",
        "        loss.backward()\n",
        "\n",
        "        # update parameters\n",
        "        optimizer.step()\n",
        "\n",
        "        # print statistics\n",
        "        running_loss += loss.item()\n",
        "        if i % 2000 == 1999:    # print every 500 mini-batches\n",
        "            print(f\"Epoch {epoch}/{epochs}, Batch{i + 1:6d}] - loss: {running_loss / 2000:.2f}\")\n",
        "            running_loss = 0.0"
      ]
    },
    {
      "cell_type": "code",
      "execution_count": 186,
      "metadata": {},
      "outputs": [
        {
          "name": "stdout",
          "output_type": "stream",
          "text": [
            "Accuracy of the network on the 10000 test images: 10 %\n"
          ]
        },
        {
          "ename": "",
          "evalue": "",
          "output_type": "error",
          "traceback": [
            "\u001b[1;31mThe Kernel crashed while executing code in the the current cell or a previous cell. Please review the code in the cell(s) to identify a possible cause of the failure. Click <a href='https://aka.ms/vscodeJupyterKernelCrash'>here</a> for more info. View Jupyter <a href='command:jupyter.viewOutput'>log</a> for further details."
          ]
        }
      ],
      "source": [
        "# evaluate cnn model\n",
        "\n",
        "# instantiate model class for training\n",
        "model = CNN()\n",
        "\n",
        "with tc.no_grad():\n",
        "\n",
        "    correct = 0  # number of correctly categorized\n",
        "    total = 0  # number of categorized in total\n",
        "    for images, labels in testloader:\n",
        "        \n",
        "        # run images to calculate outputs\n",
        "        outputs = model(images)\n",
        "\n",
        "        # pick class with highest energy as prediction\n",
        "        _, predicted = tc.max(outputs.data, 1)\n",
        "\n",
        "        # update stats\n",
        "        total += labels.size(0)\n",
        "        correct += (predicted == labels).sum().item()\n",
        "\n",
        "print(f\"Accuracy of the network on the 10000 test images: {100 * correct // total} %\")"
      ]
    }
  ],
  "metadata": {
    "colab": {
      "provenance": []
    },
    "kernelspec": {
      "display_name": ".venv",
      "language": "python",
      "name": "python3"
    },
    "language_info": {
      "codemirror_mode": {
        "name": "ipython",
        "version": 3
      },
      "file_extension": ".py",
      "mimetype": "text/x-python",
      "name": "python",
      "nbconvert_exporter": "python",
      "pygments_lexer": "ipython3",
      "version": "3.9.6"
    },
    "vscode": {
      "interpreter": {
        "hash": "462fde504c74e5557efcaf5f84bcddb56358020e7b674006592085ee6e6e5198"
      }
    }
  },
  "nbformat": 4,
  "nbformat_minor": 0
}
