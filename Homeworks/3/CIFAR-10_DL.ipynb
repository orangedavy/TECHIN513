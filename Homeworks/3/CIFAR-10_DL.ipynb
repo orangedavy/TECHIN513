{
  "cells": [
    {
      "cell_type": "code",
      "execution_count": 25,
      "metadata": {
        "id": "kRYvsoHsDum_"
      },
      "outputs": [],
      "source": [
        "import os\n",
        "import math\n",
        "import torch\n",
        "import random \n",
        "import torchvision\n",
        "import numpy as np \n",
        "import pandas as pd \n",
        "from torch import nn\n",
        "import torch.optim as optim\n",
        "from torchvision import transforms\n",
        "from collections import defaultdict\n",
        "from tqdm.autonotebook import tqdm\n",
        "from sklearn.model_selection import train_test_split\n",
        "import torch.nn as nn\n",
        "from torchvision.utils import make_grid as mgd"
      ]
    },
    {
      "cell_type": "markdown",
      "metadata": {
        "id": "PmoSjPDni1Cd"
      },
      "source": [
        "Loading the dataset\n"
      ]
    },
    {
      "cell_type": "code",
      "execution_count": 26,
      "metadata": {
        "colab": {
          "base_uri": "https://localhost:8080/"
        },
        "id": "Zj6DtvzVDxZW",
        "outputId": "cbdf8065-f241-4d44-a798-c425c57fd7ed"
      },
      "outputs": [
        {
          "name": "stdout",
          "output_type": "stream",
          "text": [
            "Files already downloaded and verified\n",
            "Files already downloaded and verified\n"
          ]
        }
      ],
      "source": [
        "train_dataset = torchvision.datasets.CIFAR10(root='data/', train=True, download=True, transform = transforms.ToTensor())\n",
        "test_dataset = torchvision.datasets.CIFAR10(root='data/', download=True, train=False, transform = transforms.ToTensor())"
      ]
    },
    {
      "cell_type": "code",
      "execution_count": 27,
      "metadata": {
        "id": "C5oiyqVTEGhd"
      },
      "outputs": [],
      "source": [
        "epc = 0\n",
        "iter = 1\n",
        "size_img = 28\n",
        "\n",
        "dims = 3\n",
        "layer1 = 32\n",
        "layer2 = 64"
      ]
    },
    {
      "cell_type": "code",
      "execution_count": 28,
      "metadata": {
        "id": "1oqPQdH8elLt"
      },
      "outputs": [],
      "source": [
        "configs = {'random_seed' : 42, 'val_size' : 5000, 'train_size' : 45000, 'pin_memory':True,'optimizer':'Adam','batch_size':64,'lr':0.001 }"
      ]
    },
    {
      "cell_type": "code",
      "execution_count": 29,
      "metadata": {
        "id": "TqX2sPL4DxF5"
      },
      "outputs": [],
      "source": [
        "torch.manual_seed(42)\n",
        "my_list = [45000,5000]\n",
        "train_ds, val_ds = torch.utils.data.random_split(train_dataset, my_list)"
      ]
    },
    {
      "cell_type": "code",
      "execution_count": 30,
      "metadata": {
        "id": "i1Vf83-0f_A7"
      },
      "outputs": [],
      "source": [
        "zer = 0\n",
        "one = 1\n",
        "two = 2"
      ]
    },
    {
      "cell_type": "code",
      "execution_count": 31,
      "metadata": {
        "id": "s7NsGN7YjXtk"
      },
      "outputs": [],
      "source": [
        "train_data = torch.utils.data.DataLoader(train_ds, configs['batch_size'], shuffle = True, pin_memory = configs['pin_memory'], num_workers = one+one)\n",
        "val_data = torch.utils.data.DataLoader(val_ds, configs['batch_size'], shuffle = True, pin_memory = configs['pin_memory'], num_workers = one+one)"
      ]
    },
    {
      "cell_type": "code",
      "execution_count": 32,
      "metadata": {
        "id": "P9dQ4YJADw-3"
      },
      "outputs": [],
      "source": [
        "def GPU_IsAvailable():\n",
        "    if torch.cuda.is_available():\n",
        "        temp = torch.device('cuda')\n",
        "        return temp\n",
        "    else:\n",
        "        tmp1 = torch.device('cpu')\n",
        "        return tmp1"
      ]
    },
    {
      "cell_type": "code",
      "execution_count": 33,
      "metadata": {
        "id": "j68x0ulxDw6R"
      },
      "outputs": [],
      "source": [
        "class Data_loader():\n",
        "    def __init__(self, device, dl):\n",
        "        self.dl = dl\n",
        "        self.device = device\n",
        "        \n",
        "    def __iter__(self):\n",
        "        for b in self.dl: \n",
        "            variable = GPU_Calculate(b, self.device)\n",
        "            yield variable\n",
        "\n",
        "    def __len__(self):\n",
        "        var = len(self.dl)\n",
        "        return var"
      ]
    },
    {
      "cell_type": "code",
      "execution_count": 34,
      "metadata": {
        "id": "zP5nvxxSDw3o"
      },
      "outputs": [],
      "source": [
        "class Class1(nn.Module):\n",
        "    \n",
        "    def train_func(self, batch, num_vals):\n",
        "        images, labels = batch \n",
        "        out = self(images)                  \n",
        "        loss = torch.nn.functional.cross_entropy(out, labels) \n",
        "        return loss\n",
        "    \n",
        "    def val_func(self, batch, batch_s, num_vals):\n",
        "        images, labels = batch\n",
        "        batch_s = batch_s + num_vals\n",
        "        out = self(images)                   \n",
        "        loss = torch.nn.functional.cross_entropy(out, labels)   \n",
        "        acc = calc(out, labels)        \n",
        "        loss_calc = loss.detach()\n",
        "        return {'val_loss': loss_calc, 'val_acc': acc}\n",
        "        \n",
        "    def valid_func(self, outputs, idx):\n",
        "        batch_losses = list()\n",
        "        batch_accs = list()\n",
        "        for i in outputs:\n",
        "            var6= i['val_loss']\n",
        "            var7=i['val_acc']\n",
        "            batch_losses.append(var6)\n",
        "            batch_accs.append(var7)\n",
        "        epoch_loss = torch.stack(batch_losses).mean()   \n",
        "        epoch_acc = torch.stack(batch_accs).mean()      \n",
        "        epochs_loss = epoch_loss.item()\n",
        "        return {'val_loss': epochs_loss, 'val_acc': epoch_acc.item()}\n",
        "    \n",
        "    def func(self, epoch, result, idx):\n",
        "        print(\"Epoch [{}], Training_loss: {:.5f}, Validation_loss: {:.5f}, Validation_accuracy: {:.5f}\".format(\n",
        "            epoch, result['train_loss'], result['val_loss'], result['val_acc']))"
      ]
    },
    {
      "cell_type": "code",
      "execution_count": 35,
      "metadata": {
        "id": "oDdTUAnPjppj"
      },
      "outputs": [],
      "source": [
        "def calc(outputs, labels):\n",
        "    d1, d2 = torch.max(outputs, dim=1)\n",
        "    d3 = len(d2)\n",
        "    temp = torch.sum(d2 == labels).item()\n",
        "    var1 = d3\n",
        "    return torch.tensor(temp/var1)"
      ]
    },
    {
      "cell_type": "code",
      "execution_count": 36,
      "metadata": {
        "id": "Ck6SsRQJjr5h"
      },
      "outputs": [],
      "source": [
        "def GPU_Calculate(data, device):\n",
        "    if isinstance(data, (list,tuple)):\n",
        "        ar = [y for y in data]\n",
        "        tmp = [GPU_Calculate(i, device) for i in data]\n",
        "        return tmp\n",
        "    else:\n",
        "      tmp1 = data.to(device, non_blocking=True)\n",
        "      return tmp1"
      ]
    },
    {
      "cell_type": "code",
      "execution_count": 37,
      "metadata": {
        "id": "FKh7MgW8ihhU"
      },
      "outputs": [],
      "source": [
        "channel = 3\n",
        "num = 28\n",
        "@torch.no_grad()\n",
        "def evaluate(model, val_loader, dt_load):\n",
        "    model.eval()\n",
        "    outputs = []\n",
        "    for i in val_loader:\n",
        "      temp = model.val_func(i, num, channel)\n",
        "      outputs.append(temp)\n",
        "    \n",
        "    var3 = model.valid_func(outputs, num)\n",
        "    return var3\n",
        "\n",
        "def fit(epochs, lr, model, train_loader, val_loader):\n",
        "    lst1 = list()\n",
        "    lst2 = list()\n",
        "    opt_func = optim.Adam\n",
        "    optimizer = opt_func(model.parameters(), lr)\n",
        "    for epoch in range(epochs):\n",
        "        lst3 = []\n",
        "        # Training Phase \n",
        "        model.train()\n",
        "        for batch in train_loader:\n",
        "            loss = model.train_func(batch, num)\n",
        "            lst3.append(loss)\n",
        "            loss.backward()\n",
        "            optimizer.step()\n",
        "            optimizer.zero_grad()\n",
        "        # Validation phase\n",
        "        result = evaluate(model, val_loader, epc)\n",
        "        result['train_loss'] = torch.stack(lst3).mean().item()\n",
        "        model.func(epoch, result, channel)\n",
        "        lst1.append(result)\n",
        "    return lst1"
      ]
    },
    {
      "cell_type": "markdown",
      "metadata": {
        "id": "EkIP_nvrj5UY"
      },
      "source": [
        "Ques-1\n",
        "\n",
        "Part1 Conv->Pool->Conv->Pool->Conv->Pool"
      ]
    },
    {
      "cell_type": "code",
      "execution_count": 38,
      "metadata": {
        "id": "5Iw0xZ03inRY"
      },
      "outputs": [],
      "source": [
        "two = 2\n",
        "one=1\n",
        "class CnnModel1_2(Class1):\n",
        "    def __init__(self):\n",
        "        super().__init__()\n",
        "        self.network = nn.Sequential(\n",
        "            nn.Conv2d(dims, 32, kernel_size=dims, stride=one, padding=one),\n",
        "            nn.ReLU(),\n",
        "            nn.MaxPool2d(two, two),\n",
        "\n",
        "            nn.Conv2d(32, 64, kernel_size=dims, stride=one, padding=one),\n",
        "            nn.ReLU(),\n",
        "            nn.MaxPool2d(two, two), \n",
        "\n",
        "            nn.Conv2d(64, 128, kernel_size=dims, stride=one, padding=one),\n",
        "            nn.ReLU(),\n",
        "            nn.MaxPool2d(two, two),\n",
        "\n",
        "            nn.Flatten(), \n",
        "            nn.Linear(4*4*128, 10))\n",
        "        \n",
        "    def forward(self,x):\n",
        "      x = self.network(x)\n",
        "      return x"
      ]
    },
    {
      "cell_type": "code",
      "execution_count": 39,
      "metadata": {
        "id": "0NGbwO5Biv1O"
      },
      "outputs": [],
      "source": [
        "two = 2\n",
        "four =4\n",
        "one=1\n",
        "class CnnModel1_4(Class1):\n",
        "    def __init__(self):\n",
        "        super().__init__()\n",
        "        self.network = nn.Sequential(\n",
        "            nn.Conv2d(dims, 32, kernel_size=dims, stride=one, padding=one),\n",
        "            nn.ReLU(),\n",
        "            nn.MaxPool2d(four,four),\n",
        "\n",
        "            nn.Conv2d(32, 64, kernel_size=dims, stride=one, padding=one),\n",
        "            nn.ReLU(),\n",
        "            nn.MaxPool2d(two, two), \n",
        "\n",
        "            nn.Conv2d(64, 128, kernel_size=dims, stride=one, padding=one),\n",
        "            nn.ReLU(),\n",
        "            nn.MaxPool2d(two, two),\n",
        "\n",
        "            nn.Flatten(), \n",
        "            nn.Linear(2*2*128, 10))\n",
        "        \n",
        "    def forward(self,x):\n",
        "      x = self.network(x)\n",
        "      return x"
      ]
    },
    {
      "cell_type": "markdown",
      "metadata": {
        "id": "iXttFb_Gj_Du"
      },
      "source": [
        "CNN MODEL 1_2"
      ]
    },
    {
      "cell_type": "code",
      "execution_count": 40,
      "metadata": {
        "id": "EDLjNmjhjvqY"
      },
      "outputs": [],
      "source": [
        "model1_2 = CnnModel1_2()"
      ]
    },
    {
      "cell_type": "code",
      "execution_count": 41,
      "metadata": {
        "colab": {
          "base_uri": "https://localhost:8080/"
        },
        "id": "8NCsALBzjvoe",
        "outputId": "6d9b1ef6-45bf-4d62-e8bf-c7edab253cab"
      },
      "outputs": [
        {
          "data": {
            "text/plain": [
              "CnnModel1_2(\n",
              "  (network): Sequential(\n",
              "    (0): Conv2d(3, 32, kernel_size=(3, 3), stride=(1, 1), padding=(1, 1))\n",
              "    (1): ReLU()\n",
              "    (2): MaxPool2d(kernel_size=2, stride=2, padding=0, dilation=1, ceil_mode=False)\n",
              "    (3): Conv2d(32, 64, kernel_size=(3, 3), stride=(1, 1), padding=(1, 1))\n",
              "    (4): ReLU()\n",
              "    (5): MaxPool2d(kernel_size=2, stride=2, padding=0, dilation=1, ceil_mode=False)\n",
              "    (6): Conv2d(64, 128, kernel_size=(3, 3), stride=(1, 1), padding=(1, 1))\n",
              "    (7): ReLU()\n",
              "    (8): MaxPool2d(kernel_size=2, stride=2, padding=0, dilation=1, ceil_mode=False)\n",
              "    (9): Flatten(start_dim=1, end_dim=-1)\n",
              "    (10): Linear(in_features=2048, out_features=10, bias=True)\n",
              "  )\n",
              ")"
            ]
          },
          "execution_count": 41,
          "metadata": {},
          "output_type": "execute_result"
        }
      ],
      "source": [
        "train_data1_2 = Data_loader(GPU_IsAvailable(), train_data)\n",
        "val_data1_2 = Data_loader(GPU_IsAvailable(), val_data)\n",
        "GPU_Calculate(model1_2, GPU_IsAvailable())"
      ]
    },
    {
      "cell_type": "code",
      "execution_count": 42,
      "metadata": {
        "colab": {
          "base_uri": "https://localhost:8080/"
        },
        "id": "U6tWJRAhjvj1",
        "outputId": "d56c957d-5fbb-4700-bb57-0e686496fbfb"
      },
      "outputs": [
        {
          "name": "stdout",
          "output_type": "stream",
          "text": [
            "Epoch [0], Training_loss: 1.52832, Validation_loss: 1.28186, Validation_accuracy: 0.54371\n",
            "Epoch [1], Training_loss: 1.13929, Validation_loss: 1.05653, Validation_accuracy: 0.62955\n",
            "Epoch [2], Training_loss: 0.97536, Validation_loss: 0.92289, Validation_accuracy: 0.67544\n",
            "Epoch [3], Training_loss: 0.87015, Validation_loss: 0.90130, Validation_accuracy: 0.68295\n",
            "Epoch [4], Training_loss: 0.79441, Validation_loss: 0.85406, Validation_accuracy: 0.71025\n",
            "Epoch [5], Training_loss: 0.73143, Validation_loss: 0.82590, Validation_accuracy: 0.70570\n",
            "Epoch [6], Training_loss: 0.66695, Validation_loss: 0.83552, Validation_accuracy: 0.71301\n",
            "Epoch [7], Training_loss: 0.61766, Validation_loss: 0.79420, Validation_accuracy: 0.73358\n",
            "Epoch [8], Training_loss: 0.57824, Validation_loss: 0.81997, Validation_accuracy: 0.71776\n",
            "Epoch [9], Training_loss: 0.53421, Validation_loss: 0.80596, Validation_accuracy: 0.72369\n",
            "Epoch [10], Training_loss: 0.49484, Validation_loss: 0.79746, Validation_accuracy: 0.72903\n",
            "Epoch [11], Training_loss: 0.44924, Validation_loss: 0.81618, Validation_accuracy: 0.73418\n",
            "Epoch [12], Training_loss: 0.42049, Validation_loss: 0.81858, Validation_accuracy: 0.74288\n",
            "Epoch [13], Training_loss: 0.38407, Validation_loss: 0.86613, Validation_accuracy: 0.72429\n",
            "Epoch [14], Training_loss: 0.35522, Validation_loss: 0.90320, Validation_accuracy: 0.73259\n",
            "Epoch [15], Training_loss: 0.32100, Validation_loss: 0.94486, Validation_accuracy: 0.73259\n",
            "Epoch [16], Training_loss: 0.29867, Validation_loss: 1.01554, Validation_accuracy: 0.72013\n",
            "Epoch [17], Training_loss: 0.26667, Validation_loss: 1.03187, Validation_accuracy: 0.72706\n",
            "Epoch [18], Training_loss: 0.24942, Validation_loss: 1.07264, Validation_accuracy: 0.72547\n",
            "Epoch [19], Training_loss: 0.22264, Validation_loss: 1.07717, Validation_accuracy: 0.73141\n"
          ]
        }
      ],
      "source": [
        "# Training on 20 Epochs\n",
        "num_epochs = 20\n",
        "lr = configs['lr']\n",
        "history = fit(num_epochs, lr, model1_2, train_data1_2, val_data1_2)"
      ]
    },
    {
      "cell_type": "code",
      "execution_count": 43,
      "metadata": {
        "colab": {
          "base_uri": "https://localhost:8080/",
          "height": 295
        },
        "id": "bRBD6wxQjvhc",
        "outputId": "99f42163-fc5a-44bb-b64a-c67c51e50f16"
      },
      "outputs": [
        {
          "data": {
            "image/png": "[encoded data removed]",
            "text/plain": [
              "<Figure size 432x288 with 1 Axes>"
            ]
          },
          "metadata": {
            "needs_background": "light"
          },
          "output_type": "display_data"
        }
      ],
      "source": [
        "import matplotlib\n",
        "train_losses = [x.get('train_loss') for x in history]\n",
        "val_losses = [x['val_loss'] for x in history]\n",
        "\n",
        "matplotlib.pyplot.plot(train_losses, '-bx')\n",
        "matplotlib.pyplot.plot(val_losses, '-yx')\n",
        "matplotlib.pyplot.xlabel('Epoch')\n",
        "matplotlib.pyplot.ylabel('Loss')\n",
        "matplotlib.pyplot.legend(['Training', 'Validation'])\n",
        "matplotlib.pyplot.title('Loss vs. Number of epochs')"
      ]
    },
    {
      "cell_type": "code",
      "execution_count": 44,
      "metadata": {
        "colab": {
          "base_uri": "https://localhost:8080/",
          "height": 295
        },
        "id": "howftshPjvfW",
        "outputId": "36beec7a-0626-476c-c564-e6d65d75ecd1"
      },
      "outputs": [
        {
          "data": {
            "image/png": "[encoded data removed]",
            "text/plain": [
              "<Figure size 432x288 with 1 Axes>"
            ]
          },
          "metadata": {
            "needs_background": "light"
          },
          "output_type": "display_data"
        }
      ],
      "source": [
        "accuracies = [x['val_acc'] for x in history]\n",
        "matplotlib.pyplot.plot(accuracies, '-yx')\n",
        "matplotlib.pyplot.xlabel('Epoch')\n",
        "matplotlib.pyplot.ylabel('Accuracy')\n",
        "matplotlib.pyplot.title('Accuracy vs. Number of epochs');"
      ]
    }
  ],
  "metadata": {
    "accelerator": "GPU",
    "colab": {
      "collapsed_sections": [],
      "machine_shape": "hm",
      "name": "Q_3.ipynb",
      "provenance": []
    },
    "kernelspec": {
      "display_name": "Python 3",
      "name": "python3"
    },
    "language_info": {
      "name": "python"
    }
  },
  "nbformat": 4,
  "nbformat_minor": 0
}
