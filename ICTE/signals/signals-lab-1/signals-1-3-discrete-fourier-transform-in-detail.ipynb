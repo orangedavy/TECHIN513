{
 "cells": [
  {
   "cell_type": "markdown",
   "metadata": {},
   "source": [
    "#### _Speech Processing Labs: Signals 1: The Discrete Fourier Transform in Detail (Extension)_"
   ]
  },
  {
   "cell_type": "code",
   "execution_count": null,
   "metadata": {},
   "outputs": [],
   "source": [
    "## Run this first! \n",
    "%matplotlib inline\n",
    "import matplotlib.pyplot as plt\n",
    "import numpy as np\n",
    "\n",
    "import cmath\n",
    "from math import floor\n",
    "from matplotlib.animation import FuncAnimation\n",
    "from IPython.display import HTML\n",
    "plt.style.use('ggplot')\n",
    "\n",
    "## some helper functions:\n",
    "from dspMisc import *"
   ]
  },
  {
   "cell_type": "markdown",
   "metadata": {},
   "source": [
    "# The Discrete Fourier Transform in Detail\n",
    "\n",
    "<div class=\"alert alert-success\">\n",
    "    <em> <strong>This notebook is extension material:</strong>  This notebook goes through the DFT equation in quite a lot of detail - more than is strictly necessary for this course.  It's perfectly fine to skip it for now or to just have a skim over the visualizations.  </em>\n",
    "</div>\n",
    "\n",
    "\n",
    "### Learning Outcomes\n",
    "* Understand the DFT equation: what input does it take and what outputs does it produce.\n",
    "\n",
    "### Need to know\n",
    "* Topic Videos: Series Expansion, Fourier Analysis, Frequency Domain\n",
    "* Vector operations: dot product\n",
    "* [Digital Signals: Sampling sinusoids](./signals-1-2-sampling-sinusoids.ipynb)\n"
   ]
  },
  {
   "cell_type": "markdown",
   "metadata": {},
   "source": [
    "\n",
    "Do you remember learning a bunch of math (trig, algebra, calculus) in high-school and thinking you'll never have to use this? While you might not use it directly, a lot of the technology you use everyday depends on it.  Pretty much all current speech technology depends on the Fourier Transform in some way! It has been (and continues to be) used to solve problems in many different fields from from image processing to quantum mechanics\n",
    "\n",
    "In the [previous notebook](./signals-1-2-sampling-sinusoids.ipynb), you looked at how you can add 'pure' sinusoids together to form complicated waveforms. The Fourier Transform gives us a way of doing the opposite: taking sequence of measurements over time (like a speech wave) and decomposing it into sinusoids of different frequencies, magnitudes, and phases. \n",
    "\n",
    "Since we are interested in digital signals (i.e. measurement over discrete time steps), we'll need to use the **Discrete Fourier Transform**.  This makes it possible to actually do these calculations on a computer, but it does also lead to some unexpected side-effects, which are good to be aware of. \n",
    "\n",
    "<div class=\"alert alert-warning\">\n",
    "<strong>Equation alert</strong>: If you're viewing this on github, please note that the equation rendering is not always perfect. You should view the notebooks through a jupyter notebook server for an accurate view.\n",
    "</div>"
   ]
  },
  {
   "cell_type": "markdown",
   "metadata": {},
   "source": [
    "##  The DFT equation \n",
    "\n",
    "You can think of the DFT as a machine that takes $N$ amplitude samples over time and returns the frequency spectrum of the input signal (just like you when you view a spectral slice in praat).\n",
    "\n",
    "You can treat this as a black box as we did in the [previous notebook](signals-1-1-interpreting-the-discrete-fourier-transform.ipynb). But, now that we've gone through complex numbers, complex sinusoids, etc we can look at how the machine works. We characterise the DFT in terms of: \n",
    "\n",
    "* Input: $x[n]$, for $n=0..N-1$ (i.e. a time series of $N$ samples)\n",
    "* Output: N complex numbers $\\mapsto$ magnitude and phases of specific complex sinusoids:\n",
    "\n",
    "$$ \n",
    "\\begin{align}\n",
    "DFT[k] &= \\sum_{n=0}^{N-1} x[n] e^{-j \\frac{2\\pi n}{N} k} \\\\\n",
    "\\text{ or equivalently, } DFT[k] &= \\sum_{n=0}^{N-1} x[n]\\big[\\cos(\\frac{2\\pi n}{N} k) - j \\sin(\\frac{2\\pi n}{N} k) \\big] \n",
    "\\end{align}\n",
    "$$\n",
    "\n",
    "Where the second version is due to Euler's formula.\n",
    "\n",
    "You'll usually see DFT output written as $X[k]$ in signal processing textbooks, but we'll just say $DFT[k]$ to be a bit more transparent (and reduce the probability of typos!)\n",
    "\n",
    "Notice the $-j$ in the complex sinusoid! This means as $n$ increases the 'clockhand' of the sinusoid is rotating clockwise (unlike the examples we saw in the previous notebooks)! \n"
   ]
  },
  {
   "cell_type": "markdown",
   "metadata": {},
   "source": [
    "## The DFT Step-by-Step\n",
    "\n",
    "But what does the DFT do for us? Very broadly, the DFT takes a series of $N$ values in time as input (e.g. waveform amplitudes over time for our sound waves) and outputs the **correlations** between the input and $N$ pure **cosine** waves with specific frequencies.  That is, it tells you how you would weight (and shift) these cosine waves so that you can add them all up and recover the original input. \n",
    "\n",
    "_Now let's break the equation down for different values of k!_ \n",
    "\n",
    "### The DFT for $k=0$\n",
    "Let's first look at the DFT for $k=0$: \n",
    "\n",
    "$$ \n",
    "\\begin{align}\n",
    "DFT[0] = \\sum_{n=0}^{N-1} x[n] e^{-j \\frac{2\\pi n}{N} 0} \n",
    "\\end{align}\n",
    "$$\n",
    "\n",
    "This is usually referred to as the **bias** term (in electrical engineering this is often referred to as the DC=Direct Current component).  It tells us whether the input function is shifted up or down the amplitude axis (in a time v amplitude plot of the waveform). \n",
    "\n",
    "### Exercise: \n",
    "\n",
    "* Q: Why doesn't DFT[0] tell us anything about the frequency of the input? "
   ]
  },
  {
   "cell_type": "code",
   "execution_count": null,
   "metadata": {},
   "outputs": [],
   "source": []
  },
  {
   "cell_type": "markdown",
   "metadata": {},
   "source": [
    "### The DFT for $k=1$: \n",
    "\n",
    "Now we can start to look at the correlation between the input sequence and some complex sinusoids of different frequencies.  For $k=1$, we have: \n",
    "\n",
    "$$ DFT[1] = \\sum_{n=0}^{N-1} x[n] e^{-j \\frac{2 \\pi n}{N}}$$\n",
    "\n",
    "\n",
    "\n",
    "Each of the $e^{j 2\\pi n/N}$ terms in the sum is a step of $2\\pi n/N$ radians around the circle.  That is, our $k=1$ complex sinusoid $e^{-j \\frac{2 \\pi}{N}n}$ makes completes 1 full circle every $N$ time steps. \n"
   ]
  },
  {
   "cell_type": "markdown",
   "metadata": {},
   "source": [
    "Let's plot the the $k=1$ sinusoid for $N=16$: "
   ]
  },
  {
   "cell_type": "code",
   "execution_count": null,
   "metadata": {},
   "outputs": [],
   "source": [
    "## plot complex numbers in the DFT[1] equation\n",
    "N=16\n",
    "\n",
    "## make an array of N steps: 0,...,N\n",
    "nsteps = np.array(range(N))\n",
    "tsteps = 2*np.pi*nsteps/N\n",
    "Tmin = np.min(tsteps)\n",
    "Tmax = np.max(tsteps)\n",
    "\n",
    "## Corresponding complex numbers z[n] = e^{j 2 pi n/N}\n",
    "zn_k1 = np.exp(-1j*2*np.pi*nsteps/N) \n"
   ]
  },
  {
   "cell_type": "code",
   "execution_count": null,
   "metadata": {},
   "outputs": [],
   "source": [
    "## Plot the complex sinusoid (phasor) corresponding to DFT[k=1] \n",
    "\n",
    "X_k1, Y_k1, fig, phasor, iproj, rproj = plot_phasor_static(zn_k1, tsteps, plot_real=True, plot_imag=True)\n"
   ]
  },
  {
   "cell_type": "markdown",
   "metadata": {},
   "source": [
    "These plots show static plots of: \n",
    "* top left: The complex sinusoid, shows as N points around the unit circle\n",
    "* top right: A sine wave: the vertical projection of the complex sinusoid vector unrolled in time\n",
    "* bottom left: A cosine wave: the horizontal projection of the complex sinusoid vector unrolled in time\n",
    "\n",
    "\n",
    "To see the relationship with time a bit more clearly, the following gives an animation: "
   ]
  },
  {
   "cell_type": "code",
   "execution_count": null,
   "metadata": {},
   "outputs": [],
   "source": [
    "## Animate the sinusoid! \n",
    "phasor1_vid = get_phasor_animation(X_k1, Y_k1, tsteps, phasor, iproj, rproj, fig)\n",
    "phasor1_vid"
   ]
  },
  {
   "cell_type": "markdown",
   "metadata": {},
   "source": [
    "What this animation shows is that for $k=1$, the $e^{-j 2\\pi kn/N}$ terms in the DFT represent $N$ evenly space samples around the unit circle aka one period of a sinusoid. So, The term $x[n] e^{-j2\\pi n/N}$ represents multiplying the $n$th step around the unit circle with the $n$th input value.\n",
    "\n",
    "\n"
   ]
  },
  {
   "cell_type": "markdown",
   "metadata": {},
   "source": [
    "### Exercise\n",
    "\n",
    "We saw from Euler's formula previously that projecting the complex sinusoid (left fig) onto the imaginary (vertical) axis, would give us a sine wave, i.e. $\\sin(t)$.  This isn't quite what we see above.  Instead the sinusoid on the right, looks like the mirror image of $\\sin(t)$, i.e. $-\\sin(t)$.  Why is this?  "
   ]
  },
  {
   "cell_type": "markdown",
   "metadata": {},
   "source": [
    "### Notes"
   ]
  },
  {
   "cell_type": "code",
   "execution_count": null,
   "metadata": {},
   "outputs": [],
   "source": []
  },
  {
   "cell_type": "markdown",
   "metadata": {},
   "source": [
    "So, we can interpret the DFT as taking the dot product between the input and a complex sinusoid of a specific frequency.  That is, it tells us if the input sequence has an underlying sinusoidal component with that specific frequency. \n",
    "\n"
   ]
  },
  {
   "cell_type": "markdown",
   "metadata": {},
   "source": [
    "### The dot product with the input $x[n]$\n",
    "It's useful at this point to break the DFT equation into two parts using Euler's rule. This esssentially gives us two dot products (i.e. elementwise multiplication and summation). This allows us to calculate the real and imaginary components of the DFT output separately as a dot product with a cosine (the real part) and a dot product with a sine (the imaginary part): \n",
    "\n",
    "\n",
    "$$ \n",
    "\\begin{align}\n",
    "DFT[1] &= \\sum_{n=0}^{N-1} x[n] \\big(\\cos(2\\pi n/N) -j\\sin(2\\pi n/N)\\big)\\\\\n",
    "&= \\sum_{n=0}^{N-1} x[n] \\cos(2\\pi n/N) - j \\sum_{n=0}^{N-1} x[n] \\sin(2\\pi n/N)\n",
    "\\end{align}\n",
    "$$\n",
    "\n",
    "\n",
    "\n",
    "\n",
    "\n"
   ]
  },
  {
   "cell_type": "markdown",
   "metadata": {},
   "source": [
    "### Example: \n",
    "Let's look at what's happening in these sum terms using a simple sampled square wave with the same period as the $k=1$ sinusoid for input.  The following visualizes the second sum (i.e. the dot product with $\\sin(2\\pi n/N)$)."
   ]
  },
  {
   "cell_type": "code",
   "execution_count": null,
   "metadata": {},
   "outputs": [],
   "source": [
    "\n",
    "## Make the background and plot the k=1 sinusoid (phasor)\n",
    "X_k1, Y_k1, fig, phasor, iproj, rproj = plot_phasor_static(zn_k1, tsteps, plot_real=True, plot_imag=True)\n",
    "\n",
    "## Now, let's say our input x looks like this square wave: \n",
    "xn = np.array([-1]*8 + [1]*8)\n",
    "\n",
    "## Exercise: Try some other inputs later\n",
    "#xn = np.array([-1, -1,-1,-1, 1, 1,1,1]*2)\n",
    "#xn = np.array([-1]*4 + [1]*8 + [-1]*4)\n",
    "#xn = np.array([1] + [-1, -1,-1, 1, 1,1,1]*2 + [-1])\n",
    "#xn = zn_imag_k1\n",
    "#xn = np.concatenate([Ys[np.arange(0, 16, 2)], Ys[np.arange(0, 16, 2)]])\n",
    "#xn = np.array([1] + [-1, -1,-1, 1, 1,1,1]*2 + [-1])\n",
    "\n",
    "\n",
    "print(\"x[n]:\", xn)\n",
    "\n",
    "## Plot the input x[n]:\n",
    "\n",
    "# with respect to the imaginary component (top right)\n",
    "iproj.scatter(tsteps, xn, color='C1')\n",
    "\n",
    "# and the real component (bottom left)\n",
    "rproj.scatter(xn, tsteps, color='C1')\n",
    "\n",
    "## Do the elementwise multiplication of input (xn) and the k=1 phasor (zn_k1)\n",
    "xn_times_zn = xn * zn_k1\n",
    "\n",
    "## Get the real and imaginary parts\n",
    "real_xn_zn = np.real(xn_times_zn)\n",
    "imag_xn_zn = np.imag(xn_times_zn)\n",
    "\n",
    "## Plot the imaginary parts = x[n]*sin(theta) (top right) in yellow\n",
    "iproj.plot(tsteps, imag_xn_zn, color='C4')\n",
    "iproj.scatter(tsteps, imag_xn_zn, color='C4', s=100, alpha=0.5)\n",
    "\n",
    "## Plot the real parts = x[n]*cos(theta) (bottom left) in yello\n",
    "rproj.plot(real_xn_zn, tsteps,  color='C4')\n",
    "rproj.scatter(real_xn_zn, tsteps, color='C4', s=100, alpha=0.5)"
   ]
  },
  {
   "cell_type": "markdown",
   "metadata": {},
   "source": [
    "In the plot above, you can see that: \n",
    "* The grey dots show our samples from the $k=1$ sinusoid (top left), and projected imaginary component, i.e. the sine in the DFT sum (top right), and the projected real component, i.e. the cosine (bottom left) \n",
    "* The blue dots show our input sequence (top right and bottom left)\n",
    "* the yellow dots show the element wise multiplication of the sinusoid values and the input, projected on the imaginary and real axes.  \n",
    "\n",
    "Let's just look at the imaginary (sine) part of the $x[n] \\cdot z_1[n]$ multiplication (i.e., `xn_times_zn`): \n",
    "When we multiply the values in both sequences together, we can see that (1)  the values in the input and complex sinusoid don't exactly match, but (2) they are always the same sign. That is, the input and the sine component of the $k=1$ complex sinusoid are correlated to some extent. In this case, this means that the multiplication terms (in yellow) in this case are all positive. So, adding them all up will give us a positive term for the imaginary component of the DFT.  \n",
    "\n",
    "We can also see that, even though we basically chose this example to match the sine component, we do also get a positive correlation with the real (cos) component.  \n",
    "\n",
    "The following cell shows that you get the same result from doing the dot products with the real (cos) and imaginary (sin) parts of the complex sinusoid separately, or doing the dot product with the complex sinusoid and then projecting the real and imaginary parts. \n"
   ]
  },
  {
   "cell_type": "code",
   "execution_count": null,
   "metadata": {},
   "outputs": [],
   "source": [
    "## The dot product: sum all the elementwise multiplications\n",
    "dft_1_real = np.sum(real_xn_zn)\n",
    "dft_1_imag = np.sum(imag_xn_zn)\n",
    "\n",
    "\n",
    "print(\"* projection and then two separate products: DFT[k] = %f + i%f\" %(dft_1_real, dft_1_imag))\n",
    "\n",
    "## check these are the samef\n",
    "dft_1 = np.sum(xn*zn_k1)\n",
    "print(\"* one dot product and then projection: DFT[k] = %f + i%f\" %(dft_1.real, dft_1.imag))"
   ]
  },
  {
   "cell_type": "markdown",
   "metadata": {},
   "source": [
    "### Exercise: Change the input\n",
    "What happens when we change the input `xn` so that:\n",
    "\n",
    "* it has a different period\n",
    "* exactly matches the sine component of the k=1 complex sinusoid\n",
    "* is out of phase with the sine component of the k=1 complex sinusoid\n",
    "* has a different magnitude\n",
    "* something else ...\n",
    "\n",
    "There are some commented out options that you can try in the cell above"
   ]
  },
  {
   "cell_type": "markdown",
   "metadata": {},
   "source": [
    "### Notes"
   ]
  },
  {
   "cell_type": "code",
   "execution_count": null,
   "metadata": {},
   "outputs": [],
   "source": []
  },
  {
   "cell_type": "markdown",
   "metadata": {},
   "source": [
    "### Example: Phase shifted input\n",
    "\n",
    "Let's see what happens when our input matches the imaginary component of $k=1$ complex sinusoid but has its phase shifted a bit.  Remember, we can shift the start point of our complex sinusoid by multiplying the whole complex sinusoid sequence a complex number. \n",
    "\n",
    "$$ \\sin(\\theta + \\phi) = Imag(e^{j\\phi}e^{j\\theta}) = Imag(e^{j\\theta+\\phi})$$"
   ]
  },
  {
   "cell_type": "code",
   "execution_count": null,
   "metadata": {},
   "outputs": [],
   "source": [
    "## Let's generate our DFT[1] complex sinusoid for an input of N=16 points:\n",
    "N=16\n",
    "\n",
    "## make an array of N steps: 0,...,N\n",
    "nsteps = np.array(range(N))\n",
    "tsteps = 2*np.pi*nsteps/N\n",
    "\n",
    "## The k=1 complex sinusoid: \n",
    "zn_k1 = np.exp(-1j*tsteps) "
   ]
  },
  {
   "cell_type": "markdown",
   "metadata": {},
   "source": [
    "Now let's create an input that's the same as the sine component of the DFT[1] complex sinusoid, but shifted by $\\pi/3$ radians. "
   ]
  },
  {
   "cell_type": "code",
   "execution_count": null,
   "metadata": {
    "scrolled": true
   },
   "outputs": [],
   "source": [
    "## Plot the DFT[1] complex sinusoid\n",
    "X_k1, Y_k1, fig, phasor, iproj, rproj = plot_phasor_static(zn_k1, tsteps, plot_real=False, plot_imag=True)\n",
    "\n",
    "## Now, for the input let's use a phase shifted version of the sine component of our phasor, zn (defined above)\n",
    "# Remember that multiplying a complex number by e^{j theta} rotates it by theta degrees \n",
    "# (anticlockwise if theta is positive) \n",
    "# So to shift the whole sequence we just multiply everything in the sequence by the same complex number\n",
    "\n",
    "## For this example, let's shift our -sin(2 pi n/N) by pi/3\n",
    "zn_shift = np.exp(1j*np.pi/3) * zn_k1\n",
    "\n",
    "## And take as input just the imaginary component of this shifted sine wave\n",
    "xn = np.imag(zn_shift)\n",
    "\n",
    "## Plot the phase shifted sine wave it in blue! \n",
    "iproj.scatter(2*np.pi*nsteps/N, xn, color='C1')\n",
    "iproj.plot(2*np.pi*nsteps/N, xn, color='C1')\n"
   ]
  },
  {
   "cell_type": "markdown",
   "metadata": {},
   "source": [
    "In the plot above, you should see the input (in blue) is the same as the sine component of the $k=1$ complex sinusoid but *phase shifted*. By multiplying everything by $e^{j\\pi/3}$ _delays_ the our $-sin(\\theta)$ function by $\\pi/3$ seconds (in this example we're assuming that it takes $\\theta$ seconds to travel $\\theta$ degrees around the complex sinusoid). \n",
    "\n",
    "Now let's see how this effects the DFT output: "
   ]
  },
  {
   "cell_type": "code",
   "execution_count": null,
   "metadata": {},
   "outputs": [],
   "source": [
    " ## Elementwise multiplication of the input and the k=1 sinusoid\n",
    "xn_times_zn = xn * zn_k1\n",
    "\n",
    "## Add it all up to get the dot product\n",
    "dft_1 = np.sum(xn_times_zn)\n",
    "\n",
    "print(\"DFT[1] = %f + i%f\" %(dft_1.real, dft_1.imag))\n",
    "print(\"in polar coordinates: magnitude=%f, phase=%f\" %cmath.polar(dft_1))\n",
    "\n",
    "## Plot the sequence of multiplications (yellow)\n",
    "iproj.plot(2*np.pi*nsteps/N, np.imag(xn_times_zn), color='C4')\n",
    "iproj.scatter(2*np.pi*nsteps/N, np.imag(xn_times_zn), color='C4')\n",
    "fig"
   ]
  },
  {
   "cell_type": "markdown",
   "metadata": {},
   "source": [
    "The result of the DFT is 6.93 + j4, which in polar coordinates has a magnitude=8 and phase angle=0.52  \n",
    "\n",
    "* Non-zero magnitude means that the input has a frequency component that matches the frequency of the $k=1$ complex sinusoid\n",
    "* Non-zero phase means that the input is like the $k=1$ complex sinusoid in frequency, but starting from a different starting angle.  "
   ]
  },
  {
   "cell_type": "markdown",
   "metadata": {},
   "source": [
    "### How does the detected phase angle relate to the phase we used to shift the input? \n",
    "\n",
    "When we convert the $DFT[1]$ output to polar coordinates we can, as before, interpret $DFT[1]$ as a scaling (magnitude) and rotation (phase) factor. \n",
    "The bigger the magnitude, the bigger the amplitude of this frequency component in the input. We can think of the phase angle as rotating the starting position of the DFT[1] complex sinusoid 'clock hand' by that angle. When we convert this to time vs amplitude, this essentially means starting from a future point in the sinusoid for positive phase (or a past point for negative phase) relative to the direction the complex sinusoid is rotating. \n",
    "\n",
    "###  DFT phase is relative to cosine! \n",
    "\n",
    "An important thing to note is that the phase output of the DFT is relative to the **cosine** function with the same frequency as the complex sinusoid. This is why the phase value we calculated isn't actually the same as the angle we used to shift the input sequence ($\\pi/3=1.047$ radians), since that input sequence was actually based on a sine function.   \n",
    "\n",
    "\n"
   ]
  },
  {
   "cell_type": "markdown",
   "metadata": {},
   "source": [
    "### Exercise (optional) \n",
    "\n",
    "\n",
    "\n",
    "Show that our input above $-\\sin(t-\\pi/3)$ is the same as a cosine wave with the phase shift derived above $\\pi/6$.\n",
    "You'll need to use these trig identities: \n",
    "$$ \\cos(\\alpha - \\pi/2) = \\sin(\\alpha) $$\n",
    "$$\\sin(t+\\pi) = -\\sin(t)$$\n",
    "\n",
    "**Note** We definitely won't be asking you do these sorts of calculations for assessment, but going through it will help consolidate your intutions about sinusoids and the relationship between cosine and sine waves.\n",
    "\n",
    "\n"
   ]
  },
  {
   "cell_type": "markdown",
   "metadata": {},
   "source": [
    "### Notes\n"
   ]
  },
  {
   "cell_type": "code",
   "execution_count": null,
   "metadata": {},
   "outputs": [],
   "source": []
  },
  {
   "cell_type": "markdown",
   "metadata": {},
   "source": [
    "Even if you don't do the exercise above, we can see that shifting a cosine function by the DFT output phase gives us the same sinusoid as our input. \n",
    "\n",
    "That is: \n",
    "$$ \\cos(t + \\pi/6) = -\\sin(t-\\pi/3)$$\n",
    "\n",
    "just by plotting them:\n"
   ]
  },
  {
   "cell_type": "code",
   "execution_count": null,
   "metadata": {},
   "outputs": [],
   "source": [
    "## Plot the input from above and the equivalent cos and sin function based on DFT phase output. \n",
    "_, _, fig, phasor, iproj, rproj = plot_phasor_static(zn_k1, tsteps, plot_real=False, plot_imag=True)\n",
    "\n",
    "\n",
    "#fig, phasor, iproj, rproj = create_phasor_iproj_bkg(Tmin, Tmax, ymax=1.5)\n",
    "#phasor.scatter(zn_real_k1, zn_imag_k1)\n",
    "\n",
    "## Our input (C1=blue)\n",
    "tsteps = 2*np.pi*nsteps/N\n",
    "iproj.scatter(tsteps, xn, color='C1', s=300)\n",
    "iproj.plot(tsteps, xn, color='C1')\n",
    "\n",
    "## cos(t + pi/6) (C0=red)\n",
    "iproj.scatter(tsteps, np.cos(tsteps+np.pi/6), color='C0', s=200)\n",
    "iproj.plot(tsteps, np.cos(tsteps+np.pi/6), color='C0')\n",
    "\n",
    "## -sin(t-pi/3) (C5=green)\n",
    "iproj.scatter(tsteps, -np.sin(tsteps-np.pi/3), color='C5', s=80)\n",
    "iproj.plot(tsteps, -np.sin(tsteps-np.pi/3), color='C5')"
   ]
  },
  {
   "cell_type": "markdown",
   "metadata": {},
   "source": [
    "In the plot above, you should see:\n",
    "* the DFT[1] sinusoid in grey, i.e. $-\\sin(t)$\n",
    "* Our phase shifted input in blue\n",
    "* The phase shift determined by DFT[1] applied as a cosine wave: $\\cos(t + \\pi/6)$ in red\n",
    "* Our phase shifted input generated directly using the `np.sin` function: $-\\sin(t-\\pi/3)$ in green\n",
    "\n",
    "You should see is that that the last three functions are all the same! We can always write a sine wave as a cosine wave with a phase shift. "
   ]
  },
  {
   "cell_type": "markdown",
   "metadata": {},
   "source": [
    "### The DFT for k = 2 and beyond\n",
    "\n",
    "We can think of DFT[2] as representing the contribution of a complex sinusoid that spins around the unit circle\n",
    "twice as fast as the $k=1$ DFT complex sinusoid:\n",
    "\n",
    "* For $k=2$, Each $e^{i \\frac{2\\pi n}{N}k}$ is a step of $\\frac{2\\pi}{N}\\times 2$ radians around the unit circle\n",
    "    * i.e. we only sample every second point compared to the $k=1$ case.\n",
    "    \n",
    "* This means it only takes half the time to make a full cycle. So, this complex sinusoid represents a sinusoid with twice the frequency of the one for $k=1$\n"
   ]
  },
  {
   "cell_type": "markdown",
   "metadata": {},
   "source": [
    "### Exercise:\n",
    "Plot sinusoids for different values of `k` using the code below\n",
    "* What happens when $k=N/2$?\n",
    "* What happens when $k > N/2$? \n",
    "* What if you increase $N$?\n",
    "* How many actual frequencies can the DFT actually tell us about? \n",
    "* How does this relate to the aliasing problem we saw in the previously? "
   ]
  },
  {
   "cell_type": "code",
   "execution_count": null,
   "metadata": {
    "scrolled": false
   },
   "outputs": [],
   "source": [
    "## Plot the complex sinusoid (referred to as phasor below) and sinusoid for different values of k\n",
    "\n",
    "## Number of samples\n",
    "N=16\n",
    "\n",
    "## DFT output we're looking at: a sinusoid with k times the freq of the k=1 phasor\n",
    "k=2\n",
    "\n",
    "## indices of points in sample\n",
    "nsteps = np.array(range(N))\n",
    "\n",
    "## times of samples\n",
    "tsteps = 2*np.pi*nsteps/N\n",
    "\n",
    "## N sample values of the kth DFT phasor\n",
    "zn_k = np.exp(k*-1j*tsteps) \n",
    "\n",
    "X_k, Y_k, fig, phasor, iproj, rproj = plot_phasor_static(zn_k, tsteps, plot_real=False, plot_imag=True)\n"
   ]
  },
  {
   "cell_type": "code",
   "execution_count": null,
   "metadata": {
    "scrolled": true
   },
   "outputs": [],
   "source": [
    "kphasor_anim= get_phasor_animation(X_k, Y_k, tsteps, phasor, iproj, rproj, fig)\n",
    "kphasor_anim"
   ]
  },
  {
   "cell_type": "markdown",
   "metadata": {},
   "source": [
    "### Notes"
   ]
  },
  {
   "cell_type": "code",
   "execution_count": null,
   "metadata": {},
   "outputs": [],
   "source": []
  },
  {
   "cell_type": "markdown",
   "metadata": {},
   "source": [
    "## The full DFT\n",
    "\n",
    "Now that we've seen what happens when we calculate the individual DFT components, lets do the whole thing!\n",
    "\n",
    "We need\n",
    "\n",
    "\n",
    "1. **Input:** a sequence of $N$ samples\n",
    "1. generate $N$ complex sinusoids, with $N$ sampled points\n",
    "1. generate $N$ dot products between the input and the complex sinusoids\n",
    "1. **Output:** $N$ complex numbers representing magnitude and phase \n",
    "\n",
    "The magnitudes and phases give us the decomposition of the input into pure cosine waves\n",
    "\n"
   ]
  },
  {
   "cell_type": "markdown",
   "metadata": {},
   "source": [
    "### Set the input $x[n]$\n",
    "\n",
    "Let's use the same input as above $x[n] = -\\sin(2\\pi n/N -\\pi/3)$"
   ]
  },
  {
   "cell_type": "code",
   "execution_count": null,
   "metadata": {},
   "outputs": [],
   "source": [
    "## 1) Input: -sin(t-pi/3) as above\n",
    "N=16\n",
    "nsteps = np.array(range(N))\n",
    "theta_step = 2*np.pi/N\n",
    "theta_steps = theta_step * nsteps\n",
    "\n",
    "## set the phase shift\n",
    "phase_in = np.pi/3\n",
    "\n",
    "## set the input as -sin with phase shift\n",
    "x = -np.sin(theta_steps-phase_in) \n",
    "\n",
    "## Plot the input x\n",
    "fig, tdom = plt.subplots(figsize=(16, 4))\n",
    "tdom.scatter(tsteps, x, color='magenta')\n",
    "tdom.plot(tsteps, x, color='magenta')\n"
   ]
  },
  {
   "cell_type": "markdown",
   "metadata": {},
   "source": [
    "You should see the input (16 points), `x`, plotted in magenta "
   ]
  },
  {
   "cell_type": "markdown",
   "metadata": {},
   "source": [
    "### Generate complex sinusoids\n",
    "<a name=\"genphasors\"></a>\n",
    "Let's use some functions to generate all the DFT phasors in one go: "
   ]
  },
  {
   "cell_type": "code",
   "execution_count": null,
   "metadata": {},
   "outputs": [],
   "source": [
    "## 2) Generate the complex sinusoids (called phasors here)\n",
    "# Given a sequence length N, return dictionary representing N DFT outputs\n",
    "# the kth element of the return dictionary contains the complex numbers sampled around the unit circle after \n",
    "# N steps, their real and imaginary parts, and the angles of those complex numbers (magnitude is always 1)\n",
    "def get_dft_phasors(N, centered=False):\n",
    "    \n",
    "    ## N input steps, N phasors\n",
    "    nsteps = np.array(range(N))\n",
    "    \n",
    "    ## DFT works for negatively indexed samples, i.e. x[-n], but we don't need this right now! \n",
    "    if centered:\n",
    "        nsteps = nsteps - floor(N/2)\n",
    "        print(nsteps)\n",
    "    \n",
    "    # We know the smallest step around the unit circle we can take is 2pi/N\n",
    "    theta_step = 2*np.pi/N\n",
    "    # And we're going to take N steps\n",
    "    theta_steps = theta_step * nsteps\n",
    "    \n",
    "    ## Generate N phasors\n",
    "    phasors = {}\n",
    "    for k in range(N):\n",
    "        ## samples around the unit circle\n",
    "        zs = np.exp(k*-1j*theta_steps) \n",
    "        real = np.real(zs)\n",
    "        imag = np.imag(zs)    \n",
    "        \n",
    "        ## Since we're here, let's return all these things for convenience\n",
    "        # zs: the phasor samples, real: the real component, imag: the imaginary component\n",
    "        # theta_steps: the angles for each phasor sample, theta_step: the smallest angle step size\n",
    "        \n",
    "        phasors[k] = {'zs':zs, 'real':real, 'imag':imag, 'thetas':theta_steps, 'theta_step':theta_step}\n",
    "        \n",
    "    return phasors\n",
    "\n"
   ]
  },
  {
   "cell_type": "code",
   "execution_count": null,
   "metadata": {},
   "outputs": [],
   "source": [
    "## get the list of phasors (complex sinusoids)\n",
    "phasors = get_dft_phasors(N)"
   ]
  },
  {
   "cell_type": "code",
   "execution_count": null,
   "metadata": {},
   "outputs": [],
   "source": [
    "## plot the different complex sinusoids and sine (imaginary) components\n",
    "## You should be able to see the frequency relationship between each DFT component\n",
    "for k in range(N):\n",
    "    X_k, Y_k, fig, phasor, iproj, rproj = plot_phasor_static(phasors[k]['zs'], tsteps, plot_real=False, plot_imag=True, color='C'+str(k))\n",
    "\n"
   ]
  },
  {
   "cell_type": "markdown",
   "metadata": {},
   "source": [
    "You should see in the plots above that complex sinusoids $k > N/2$ repeat the frequencies we see for $k < N/2$. For example, \n",
    "the $k=1$ complex sinusoid is equivalent in frequency to the $k=15$ complex sinusoid! "
   ]
  },
  {
   "cell_type": "markdown",
   "metadata": {},
   "source": [
    "### Calculate dot products (i.e.  input and sinusoid similarities) "
   ]
  },
  {
   "cell_type": "code",
   "execution_count": null,
   "metadata": {
    "scrolled": true
   },
   "outputs": [],
   "source": [
    "## 3) Get the dot products for each for each basis sinusoids (referred to as phasors here) and the input\n",
    "\n",
    "def get_dft_outputs(x, phasors):\n",
    "    DFT = []\n",
    "    \n",
    "    ## Go through our list of N phasors\n",
    "    for k, phasor in phasors.items():\n",
    "        \n",
    "        ## Do the dot product between the input and each phasor sequence\n",
    "        DFT.append(np.sum(x * phasor['zs']))\n",
    "\n",
    "    return DFT\n",
    "\n"
   ]
  },
  {
   "cell_type": "code",
   "execution_count": null,
   "metadata": {},
   "outputs": [],
   "source": [
    "## do the DFT\n",
    "dft = get_dft_outputs(x, phasors)"
   ]
  },
  {
   "cell_type": "markdown",
   "metadata": {},
   "source": [
    "### Get the output  magnitudes and phases\n",
    "\n",
    "Now we convert the results of the dot products we just calculated into polar form to get magnitudes and phases. We can then plot them! "
   ]
  },
  {
   "cell_type": "code",
   "execution_count": null,
   "metadata": {},
   "outputs": [],
   "source": [
    "## convert to polar coordinates to get magnitude and phase\n",
    "dft_polar = [cmath.polar(z) for z in dft]\n",
    "mags = [m for m, _ in dft_polar]\n",
    "phases = [ph if mag > 0.00001 else 0 for mag,ph   in dft_polar]\n",
    "\n",
    "## we need to put a condition into the phase calculation because phase is calculated by \n",
    "## a ratio of the imaginary component and the real component. Both of these values might be very, very small. \n",
    "## This makes it susceptible to floating point errors. \n",
    "## Then, the ratio of two very small things can actually end up to be quite (spuriously) big! \n"
   ]
  },
  {
   "cell_type": "code",
   "execution_count": null,
   "metadata": {},
   "outputs": [],
   "source": [
    "## Plot the magnitudes\n",
    "#print(mags)\n",
    "fig, freqdom = plt.subplots(figsize=(16, 4))\n",
    "freqdom.set(xlim=(-1, N), ylim=(-1, 10))\n",
    "freqdom.scatter(range(N), mags)"
   ]
  },
  {
   "cell_type": "code",
   "execution_count": null,
   "metadata": {},
   "outputs": [],
   "source": [
    "## plot the phase angle for each DFT component\n",
    "#print(phases)\n",
    "fig, fdom = plt.subplots(figsize=(16, 4))\n",
    "fdom.set(xlim=(-1, N), ylim=(-2, 2))\n",
    "fdom.scatter(range(N), phases)"
   ]
  },
  {
   "cell_type": "markdown",
   "metadata": {},
   "source": [
    "### How do we interpret the magnitude and phase graphs? \n",
    "\n",
    "The top plot shows the magnitude response of the DFT with respect to our input.  The bottom plot shows the phase respose. \n",
    "\n",
    "The magnitude plot shows positive magnitudes for the 1st and the N-1th DFT components, and zero for all the rest.  This means that the input is a sinusoid with the same frequency as the 1st DFT component. \n",
    "\n",
    "The positive phase for the first component indicates a phase shift.  We see the opposite phase shift for the 15th component because the complex sinusoid for that has the same frequency but rotates the opposite way.  \n",
    "\n",
    "So, this is what we expect since we generated the input as exactly the sine projection of the k=1 complex sinusoid, just shifted by $\\pi/3$ radians! \n",
    "\n"
   ]
  },
  {
   "cell_type": "markdown",
   "metadata": {},
   "source": [
    "### Plotting DFT outputs on the complex plane\n",
    "So far, we've looked at the real and imaginary components of the DFT outputs separately.  But we can also think about their properties on the complex plane. \n",
    "\n",
    "The following plots the DFT outputs for the example above on the complex plane. \n"
   ]
  },
  {
   "cell_type": "code",
   "execution_count": null,
   "metadata": {},
   "outputs": [],
   "source": [
    "## Plot the actual DFT outputs as complex numbers on the complex plane\n",
    "## For the example above, we can see that most of the outputs are at (0,0), i.e. not contribution\n",
    "## but we get positive magnitudes for the 1st and 15th component, with the same \n",
    "## magnitude by 'mirrored' phase angle: \n",
    "\n",
    "ymax=(N/2) + 2\n",
    "fig, ax = plt.subplots(figsize=(5, 5))\n",
    "ax.set(xlim=(-10, 10), ylim=(-10, 10))\n",
    "ax.plot([-ymax,ymax], [0,0], color='grey')\n",
    "ax.plot([0,0],[-ymax,ymax], color='grey')\n",
    "circle1 = plt.Circle((0, 0), 1, color='grey',fill=False)\n",
    "    \n",
    "ax.add_artist(circle1)\n",
    "\n",
    "for k in range(N):\n",
    "    zs = phasors[k]['zs']\n",
    "    xz = x * zs\n",
    "    dftk = sum(xz)\n",
    "    #print(dftk, dftk.real, cmath.polar(dftk))\n",
    "    ax.plot(dftk.real, dftk.imag, 'o')\n",
    "    \n",
    "    if dftk.real > 0.0001: \n",
    "        print(\"k=%d, %f + j%f\" % (k, dftk.real, dftk.imag))\n",
    "\n"
   ]
  },
  {
   "cell_type": "markdown",
   "metadata": {},
   "source": [
    "You can see from this plot that all but two of the DFT outputs have zero magnitude.  The two that have non-zero magnitude are the 1st and 15th components.  You can see that they have the same magnitude, but mirror each other in phase (they are complex conjugates). This symmetry is something you see a lot of in digital signal processing.  We won't go into it in this class, but for one thing we can take advantage of to save some computations!   "
   ]
  },
  {
   "cell_type": "markdown",
   "metadata": {},
   "source": [
    "## Summary\n",
    "\n",
    "To summarize: the DFT input and output are broadly: \n",
    "\n",
    "* **Input:**  $N$ amplitude samples over time \n",
    "    * $x[n]$, for $n=0..N-1$ (i.e. a time series of $N$ samples)\n",
    "    \n",
    "    \n",
    "* **Output:** the dot product (i.e., the similiarity) between the input and $N$ complex sinusoids with different frequencies\n",
    "    * DFT[k] $= Me^{-j\\phi}$, i.e. a complex number (in polar form) with **magnitude** $M$ and **phase** angle $\\phi$\n",
    "    * The $N$ DFT outputs represent $N$ equally space frequencies between 0 and the sampling rate.\n",
    "\n",
    "     \n",
    "The outputs are calculated using the following formula for $k=0,...N-1$.   \n",
    "\n",
    "$$ \n",
    "\\begin{align}\n",
    "DFT[k] &= \\sum_{n=0}^{N-1} x[n] e^{-j \\frac{2\\pi nk}{N}} \\\\\n",
    "&= \\sum_{n=0}^{N-1} x[n]\\big[\\cos\\big(\\frac{2\\pi nk}{N} \\big) - j \\sin\\big(\\frac{2\\pi nk}{N} \\big) \\big]\n",
    "\\end{align}\n",
    "$$\n",
    "\n",
    "You can think DFT[k] as a complex sinusoid, which looks like an analogue clockhand (i.e. a vector) ticking (i.e., rotating) around a clockface (i.e. a circle), where the length of the hand is the peak amplitude of that wave, and how fast it goes around the clock is it's frequency. The index $n$ in this equation corresponds to the time of each input sample.  Each of these DFT[k] 'clocks' corresponds to a sinusoid of a specific frequency. \n",
    "\n",
    "Each DFT[k] output essentially tells us whether the input signal has a frequency component that matches the $k$th DFT complex sinusoid frequency. So, we talk about the DFT outputs as providing the **frequency response** of the input signal. \n",
    "\n",
    "Since the the DFT outputs are complex numbers, we can talk about them in terms of magnitude and phase angle: The **magnitude** of DFT[k] tells us how much we'd weight the $k$-th complex sinusoid if we were to try to reconstruct the original input by adding all the DFT complex sinusoids together.  The **phase angle** of DFT[k] tells use whether we need to shift that wave along the time axis. "
   ]
  },
  {
   "cell_type": "markdown",
   "metadata": {},
   "source": [
    "### Exercise (optional) \n",
    "\n",
    "You can use the code below to visualize the dot products of the input with with cos (real) and sin (imaginary) parts of each DFT component by varying $k$: \n",
    "\n",
    "* What's the relationship between the DFT sinusoids for $k=1$ and $k=N-1$ in terms of the dot product between the real (left plot) and imaginary (right plot) components.\n",
    "* What happens for components that don't have the same frequency as the input? e.g. $k=2$"
   ]
  },
  {
   "cell_type": "code",
   "execution_count": null,
   "metadata": {},
   "outputs": [],
   "source": [
    "## 1) Input: -sin(t-pi/3) as above\n",
    "nsteps = np.array(range(N))\n",
    "theta_step = 2*np.pi/N\n",
    "theta_steps = theta_step * nsteps\n",
    "\n",
    "Tmin = np.min(theta_steps)\n",
    "Tmax = np.max(theta_steps)\n",
    "\n",
    "phase_in = np.pi/3\n",
    "x = -np.sin(theta_steps-phase_in) \n",
    "\n",
    "fig, tdom = plt.subplots(figsize=(16, 4))\n",
    "tdom.scatter(tsteps, x, color='magenta')\n",
    "tdom.plot(tsteps, x, color='magenta')\n"
   ]
  },
  {
   "cell_type": "code",
   "execution_count": null,
   "metadata": {},
   "outputs": [],
   "source": [
    "## let's break it down into cos and sin components\n",
    "k=15\n",
    "\n",
    "## zcos is our sampling of the real part of the kth sinusoid (phasors)\n",
    "zcos = phasors[k]['real']\n",
    "zsin = phasors[k]['imag']\n",
    "\n",
    "\n",
    "## the elementwise multiplication between the input x and the real part of the complex sinusoid (phasor), zcos\n",
    "xz_real = x * zcos\n",
    "xz_imag = x * zsin\n",
    "\n",
    "## This initializes our plots, makes them the appropriate size etc, but leave the plot empty\n",
    "_, _, fig, phasor, iproj, rproj = plot_phasor_static(phasors[k]['zs'], tsteps, plot_phasor=False, plot_real=True, plot_imag=True, color='grey')\n",
    "\n",
    "\n",
    "## plot the zero line: if the sequence we get after the elementwise multiplication is \n",
    "## symmetric around zero, we know that the dot product will be zero since we're adding all the \n",
    "## values together\n",
    "#inusoid.plot([Tmin-1,Tmax+1], [0,0], color='grey')\n",
    "\n",
    "\n",
    "## Plot the input in magenta\n",
    "rproj.plot(tsteps, x, color='magenta')\n",
    "rproj.scatter(tsteps, x, color='magenta')\n",
    "\n",
    "\n",
    "## Plot the elementwise multiplication in orange\n",
    "rproj.plot(tsteps, xz_real, color='orange')\n",
    "rproj.scatter(tsteps, xz_real, color='orange')\n",
    "\n",
    "## Plot the input in magenta\n",
    "iproj.plot(tsteps, x, color='magenta')\n",
    "iproj.scatter(tsteps, x, color='magenta')\n",
    "\n",
    "## Plot the elementwise multiplication in orange\n",
    "iproj.plot(tsteps, xz_imag, color='orange')\n",
    "iproj.scatter(tsteps, xz_imag, color='orange')\n",
    "\n",
    "## Add it all up to get the dot product\n",
    "dftk_real, dftk_imag = sum(xz_real), sum(xz_imag)\n",
    "print(\"dft[%d] = %f + j%f \"  % (k, dftk_real, dftk_imag))"
   ]
  },
  {
   "cell_type": "markdown",
   "metadata": {},
   "source": [
    "### Notes"
   ]
  },
  {
   "cell_type": "code",
   "execution_count": null,
   "metadata": {},
   "outputs": [],
   "source": []
  },
  {
   "cell_type": "code",
   "execution_count": null,
   "metadata": {},
   "outputs": [],
   "source": []
  }
 ],
 "metadata": {
  "kernelspec": {
   "display_name": "Python 3",
   "language": "python",
   "name": "python3"
  },
  "language_info": {
   "codemirror_mode": {
    "name": "ipython",
    "version": 3
   },
   "file_extension": ".py",
   "mimetype": "text/x-python",
   "name": "python",
   "nbconvert_exporter": "python",
   "pygments_lexer": "ipython3",
   "version": "3.8.11"
  }
 },
 "nbformat": 4,
 "nbformat_minor": 2
}
