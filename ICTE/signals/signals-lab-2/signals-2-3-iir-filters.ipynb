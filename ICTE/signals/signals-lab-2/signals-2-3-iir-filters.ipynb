{
 "cells": [
  {
   "cell_type": "markdown",
   "metadata": {},
   "source": [
    "#### _Speech Processing Labs: Signals 2: IIR Filters_"
   ]
  },
  {
   "cell_type": "code",
   "execution_count": null,
   "metadata": {},
   "outputs": [],
   "source": [
    "%matplotlib inline\n",
    "import matplotlib.pyplot as plt\n",
    "import numpy as np\n",
    "\n",
    "import cmath\n",
    "from math import floor\n",
    "from matplotlib.animation import FuncAnimation\n",
    "from IPython.display import HTML\n",
    "plt.style.use('ggplot')\n",
    "\n",
    "from dspMisc import *"
   ]
  },
  {
   "cell_type": "markdown",
   "metadata": {},
   "source": [
    "# Impulse Source, IIR Filter\n",
    "\n",
    "### Learning Outcomes\n",
    "* Be able to explain the difference between an FIR and an IIR filter\n",
    "* Understand that IIR filters can be applied to impulse trains to produce different spectral envelopes\n",
    "\n",
    "### Need to know\n",
    "* Topic Videos: Impulse Response, Source Filter Model\n",
    "* [Building the source: impulse trains](./signals-2-1-impulse-as-source.ipynb)\n",
    "* [FIR filters](./signals-2-2-fir-filters.ipynb)\n",
    "\n",
    "<div class=\"alert alert-warning\">\n",
    "<strong>Equation alert</strong>: If you're viewing this on github, please note that the equation rendering is not always perfect. You should view the notebooks through a jupyter notebook server for an accurate view.\n",
    "</div>\n",
    "\n",
    "\n",
    "## Filters again\n",
    "\n",
    "The previous notebook explored Finite Impulse Response (**FIR**) filters which took a \n",
    " an input sequence $x[n]$ to give us some desired output sequence $y[n]$.  We saw that these FIR filters basically applied a weighted average across the input sequence and that this could be characterised in terms of convolution. \n",
    "Now, we'll look at Infinite Impulse Response (**IIR**) filters, which allow us to model more complex feedback behaviour that's closer to what we might expect from the vocal tract."
   ]
  },
  {
   "cell_type": "markdown",
   "metadata": {},
   "source": [
    "## 1 Definition of an Infinite Impulse Response filter\n",
    "\n",
    "Unlike FIR filters, IIR filters use outputs from previous time steps to calculate the next output. \n",
    "\n",
    "$$ y[n] = \\sum_{k=0}^N b[k] x[n-k] + \\sum_{k=0}^M a[k] y[n-k]$$\n",
    "\n",
    "The 'infinite' in the name comes from the fact that you can define a filter in this way so that a single impulse results in an infinitely long non-zero output sequence.  \n",
    "\n",
    "For example\n",
    "\n",
    "$$ y[n] =  x[n] + y[n-1] $$  \n",
    "\n",
    "if $x[n] = 1$ for $n=1$ and 0 otherwise, then \n",
    "\n",
    "* $ y[1] = 1 + 0  = 1$\n",
    "* $ y[2] = 0 + 1 = 1$ \n",
    "* $ y[3] = 0 + 1 = 1$  \n",
    "\n",
    "i.e. $y[n] = 1$ for all $n$ to infinity! \n",
    "\n",
    "These can be much more efficient than using an FIR filter: we can get the same effect with fewer parameters. (e.g. in some cases you can define a 4th order IIR filter that does the same job as a 19th order FIR filter). The flip side is that they're harder to analyze. \n",
    "\n",
    "Unfortunately, there's no direct way to compute the a(k)'s and b(k)'s from the impulse response for an IIR filter, but we can use the **z Transform** to do this (we won't go into it in this class).  Instead we'll focus on how we can use an IIR filter to create a speech shaped sound.  \n",
    "\n",
    "## 2 Using an IIR filter to shape the spectral envelope\n",
    "\n",
    "### Let's start with an impulse train"
   ]
  },
  {
   "cell_type": "code",
   "execution_count": null,
   "metadata": {},
   "outputs": [],
   "source": [
    "N=400\n",
    "f_s = 8000\n",
    "t_s = 1/f_s\n",
    "\n",
    "## Set the impulse train frequency in Hz\n",
    "frequency = 100\n",
    "\n",
    "## Generate N samples of an impulse train with frequency=frequency given a sampling rate of f_s\n",
    "x_imp, time_steps = make_impulse_train(sample_rate=f_s, frequency=frequency, n_samples=N)\n",
    "\n",
    "## plot and label\n",
    "fig, ax = plt.subplots(figsize=(16, 4))\n",
    "ax.set(ylim=(-1, 2))\n",
    "ax.scatter(time_steps, x_imp)\n",
    "ax.plot(time_steps, x_imp)\n",
    "ax.set_xlabel(\"Time (s)\")\n",
    "ax.set_ylabel(\"Amplitude\")\n",
    "ax.set_title(\"An impulse train\")"
   ]
  },
  {
   "cell_type": "markdown",
   "metadata": {},
   "source": [
    "#### Now let's define a function to calculate the output of an IIR filter given feedback coefficients `a` and feedforward coefficients `b`."
   ]
  },
  {
   "cell_type": "code",
   "execution_count": null,
   "metadata": {},
   "outputs": [],
   "source": [
    "# iir_filter applies the IIR filter defined by feedforward coefficients, b, and feedback coefficients, a,\n",
    "# where the coefficients are input as ordered lists\n",
    "def iir_filter(x, a=[], b=[]):\n",
    "    \n",
    "    ## Get the size of the input\n",
    "    ## Note the size of N will depend on how we deal with edge cases\n",
    "\n",
    "    N = len(x)\n",
    "    \n",
    "    ## Initialize our output array, y, to all zeros\n",
    "    y = np.zeros(N)   \n",
    "   \n",
    "    ## step through each input index n\n",
    "    for n in range(N):\n",
    "        y[n] = 0\n",
    "\n",
    "        ## get the contribution from the inputs\n",
    "        for k in range(len(b)):\n",
    "            if n-k >= 0: \n",
    "                ## multiply the previous inputs with filter coefficients, b, and add them up\n",
    "                ## just like an FIR filter\n",
    "                y[n] = y[n] + (b[k]*x[n-k])\n",
    "\n",
    "        \n",
    "        ## get contribution from the existing outputs        \n",
    "        for l in range(len(a)):\n",
    "            ## Note: We don't want to include the current output in this calculation! \n",
    "\n",
    "            if n-l > 0:  \n",
    "                ## multiply the previous outputs with filter coefficients, a, and add them up\n",
    "                y[n] = y[n] + (a[l]*y[n-l-1])\n",
    "\n",
    "    return y    \n",
    "\n",
    "\n",
    "    "
   ]
  },
  {
   "cell_type": "markdown",
   "metadata": {},
   "source": [
    "### Apply the IIR filter to our impulse train\n"
   ]
  },
  {
   "cell_type": "code",
   "execution_count": null,
   "metadata": {},
   "outputs": [],
   "source": [
    "## An impulse train with amplified impulse to make things easier to see. \n",
    "## It doesn't change the shape of the frequency response\n",
    "x = x_imp * 10\n",
    "\n",
    "## Note coefficients opposite sign to what Simon has in his slides.  Maybe a matlab thing? \n",
    "## Or a notation thing to make transfer function look nicer? \n",
    "a = [3.22666099, -4.3967485, 3.03596532, -0.88529281]\n",
    "b = [1]\n",
    "\n",
    "## You might like to try this Low pass filter from Lyon's DSP textbook\n",
    "#a=[1.194, -0.436]\n",
    "#b=[0.0605, 0.121, 0.0605]\n",
    "\n",
    "y_iir = iir_filter(x, a=a, b=b)\n"
   ]
  },
  {
   "cell_type": "markdown",
   "metadata": {},
   "source": [
    "### Plot the filtered output in the time domain"
   ]
  },
  {
   "cell_type": "code",
   "execution_count": null,
   "metadata": {},
   "outputs": [],
   "source": [
    "## Plot the filtered output\n",
    "fig, ax = plt.subplots(figsize=(16, 4))\n",
    "ax.plot(time_steps, y_iir)\n",
    "#print(N, np.max(y_iir))\n",
    "ax.set_xlabel(\"Time (s)\")\n",
    "ax.set_ylabel(\"Amplitude\")\n",
    "ax.set_title(\"Impulse train transformed by an IIR filter\")\n",
    "\n",
    "## Starting to look more speech...ish"
   ]
  },
  {
   "cell_type": "markdown",
   "metadata": {},
   "source": [
    "Now we're starting to make something that looks like a speech waveform! \n",
    "\n",
    "### Now let's look at the DFT of the filter's output"
   ]
  },
  {
   "cell_type": "code",
   "execution_count": null,
   "metadata": {},
   "outputs": [],
   "source": [
    "## Get the DFT outputs of the IIR filter's output\n",
    "mags, phases = get_dft_mag_phase(y_iir, N)\n",
    "\n",
    "## Plot the DFT frequencies rather than DFT output indices\n",
    "dft_freqs = (f_s/N) * np.arange(N)\n",
    "\n",
    "## Plot the magnitude spectrum\n",
    "fig, ax = plt.subplots(figsize=(16, 4))\n",
    "ax.plot(dft_freqs[0:int(N/2)], mags[0:int(N/2)])\n",
    "ax.set_xlabel(\"Frequency (Hz))\")\n",
    "ax.set_ylabel(\"Magnitude\")\n",
    "ax.set_title(\"Frequency response of IIR filter output (sample rate: %d samples/sec)\" % f_s)\n",
    "\n",
    "\n"
   ]
  },
  {
   "cell_type": "markdown",
   "metadata": {},
   "source": [
    "### Exercise\n",
    "\n",
    "* What happens to the filtered signal if we alter the filter coefficients:\n",
    "    * Try out the filter coefficients in the cell below and describe what sort of effect they have.  \n",
    "    * What sort of frequencies do they boost and which do they dampen? \n",
    "    * Do any look like low-pass or high-pass filters, for example?\n",
    "    * Do all of them produce outputs that look like vocal pulses? \n",
    "\n",
    "* If you play around the coefficients it's quite easy to end up with an output that doesn't 'fade out' over time.  What happens to the DFT in this case?  \n"
   ]
  },
  {
   "cell_type": "code",
   "execution_count": null,
   "metadata": {},
   "outputs": [],
   "source": [
    "## Try out these different sets of IIR filter coefficients\n",
    "## ex 1\n",
    "a = [0.8]\n",
    "b = [1]\n",
    "\n",
    "## ex 2\n",
    "a = [-0.8]\n",
    "b = [1,-1]\n",
    "\n",
    "## ex 3:\n",
    "a = [0.566, -0.16017]\n",
    "b = [1, 1.414, 1]\n",
    "\n",
    "## ex 4: \n",
    "a = [0.566, -0.16017]\n",
    "b = [1, 0.414, -0.414, -1]\n",
    "\n",
    "## ex 5:\n",
    "a = [1.272, -0.80899]\n",
    "b = [1, 0.414, -0.414, -1]\n",
    "\n",
    "## ex 6: unstable (unbounded) but still gives us a frequency response like the one previous\n",
    "a = [1.554, -1.207]\n",
    "b = [1, 0.414, -0.414, -1]\n",
    "\n"
   ]
  },
  {
   "cell_type": "code",
   "execution_count": null,
   "metadata": {
    "scrolled": false
   },
   "outputs": [],
   "source": [
    "## set which coeffients you want to use here. \n",
    "## e.g. ex 1\n",
    "a = [0.8]\n",
    "b = [1]\n",
    "\n",
    "## the impulse train\n",
    "x = x_imp * 10\n",
    "y_iir = iir_filter(x, a=a, b=b)\n",
    "\n",
    "## Plot the filtered output\n",
    "fig, ax = plt.subplots(figsize=(16, 4))\n",
    "ax.plot(time_steps, y_iir)\n",
    "ax.set_xlabel(\"Time (s)\")\n",
    "ax.set_ylabel(\"Amplitude\")\n",
    "ax.set_title(\"Impulse train transformed by an IIR filter: a=%s, b=%s\" % (repr(a), repr(b)))\n",
    "\n",
    "#print(N, np.max(y_iir))\n",
    "\n",
    "\n",
    "## Plot the DFT frequencies rather than DFT output indices\n",
    "mags, phases = get_dft_mag_phase(y_iir, N)\n",
    "dft_freqs = (f_s/N) * np.arange(N)\n",
    "\n",
    "## Plot the magnitude spectrum\n",
    "fig, ax = plt.subplots(figsize=(16, 4))\n",
    "#ax.scatter(dft_freqs[0:int(N/2)],mags[0:int(N/2)])\n",
    "ax.plot(dft_freqs[0:int(N/2)], mags[0:int(N/2)])\n",
    "ax.set_xlabel(\"Frequency (Hz))\")\n",
    "ax.set_ylabel(\"Magnitude\")\n",
    "ax.set_title(\"Frequency response of IIR filter output: a=%s, b=%s\" % (repr(a), repr(b)))\n",
    "\n",
    "\n",
    "\n"
   ]
  },
  {
   "cell_type": "markdown",
   "metadata": {},
   "source": [
    "### Notes"
   ]
  },
  {
   "cell_type": "code",
   "execution_count": null,
   "metadata": {},
   "outputs": [],
   "source": []
  },
  {
   "cell_type": "markdown",
   "metadata": {},
   "source": [
    "## Want to learn more?     \n",
    "\n",
    "If you're interested in learning more about filters or signal processing in general, it's probably time to pick up a Digital Signal Processing textbook. Rick Lyon's [Understanding Digital Signal Processing](https://www.dsprelated.com/books/6.php) is probably the most accessible I've come across. The example filters above were taken from that book. \n",
    "\n",
    "Previous SLP students have also recommended [The Scientist and Engineer's Guide to\n",
    "Digital Signal Processing](http://www.dspguide.com/pdfbook.htm), though the free online version renders a bit weirdly!. \n",
    "\n",
    "You can find some derivations for the filter coefficients above [here](./signals-2-5-iir-filters-derivations.ipynb) for completeness (no, they weren't just random!).\n"
   ]
  },
  {
   "cell_type": "code",
   "execution_count": null,
   "metadata": {},
   "outputs": [],
   "source": []
  },
  {
   "cell_type": "code",
   "execution_count": null,
   "metadata": {},
   "outputs": [],
   "source": []
  },
  {
   "cell_type": "code",
   "execution_count": null,
   "metadata": {},
   "outputs": [],
   "source": []
  }
 ],
 "metadata": {
  "kernelspec": {
   "display_name": "Python 3",
   "language": "python",
   "name": "python3"
  },
  "language_info": {
   "codemirror_mode": {
    "name": "ipython",
    "version": 3
   },
   "file_extension": ".py",
   "mimetype": "text/x-python",
   "name": "python",
   "nbconvert_exporter": "python",
   "pygments_lexer": "ipython3",
   "version": "3.8.11"
  }
 },
 "nbformat": 4,
 "nbformat_minor": 4
}
