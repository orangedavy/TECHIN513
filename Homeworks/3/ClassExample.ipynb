{
  "nbformat": 4,
  "nbformat_minor": 0,
  "metadata": {
    "colab": {
      "provenance": []
    },
    "kernelspec": {
      "name": "python3",
      "display_name": "Python 3"
    },
    "language_info": {
      "name": "python"
    }
  },
  "cells": [
    {
      "cell_type": "code",
      "execution_count": null,
      "metadata": {
        "id": "8Qb3XH7xpVtW"
      },
      "outputs": [],
      "source": [
        "# Import the required libraries\n",
        "import numpy as np\n",
        "import tensorflow as tf\n",
        "from sklearn.datasets import load_iris\n",
        "from sklearn.model_selection import train_test_split\n",
        "from sklearn.ensemble import RandomForestClassifier\n"
      ]
    },
    {
      "cell_type": "markdown",
      "source": [
        "*   import numpy as np: This line imports the numpy library and gives it the alias np for convenience. numpy is used for numerical computations in the code.\n",
        "\n",
        "*   import tensorflow as tf: This line imports the tensorflow library and gives it the alias tf for convenience. tensorflow is used for building and training the neural network.\n",
        "\n",
        "*   from sklearn.datasets import load_iris: This line imports the load_iris function from scikit-learn's datasets module. The load_iris function is used to load the Iris dataset.\n",
        "\n",
        "*   from sklearn.model_selection import train_test_split: This line imports the train_test_split function from scikit-learn's model_selection module. The train_test_split function is used to split the data into training and testing sets.\n",
        "\n",
        "*   from sklearn.ensemble import RandomForestClassifier: This line imports the RandomForestClassifier class from scikit-learn's ensemble module. The RandomForestClassifier class is used to train the Random Forest Classifier.\n",
        "\n",
        "\n"
      ],
      "metadata": {
        "id": "Wu7wZFJQpax9"
      }
    },
    {
      "cell_type": "code",
      "source": [
        "# Load the Iris dataset\n",
        "iris = load_iris()\n",
        "X = iris[\"data\"]\n",
        "y = iris[\"target\"]\n"
      ],
      "metadata": {
        "id": "KanM3PZ-pxyb"
      },
      "execution_count": null,
      "outputs": []
    },
    {
      "cell_type": "markdown",
      "source": [
        "iris = load_iris(): This line loads the Iris dataset using the load_iris function. The load_iris function returns the dataset as a dictionary-like object with the keys data, target, target_names, and DESCR.\n",
        "\n",
        "X = iris[\"data\"]: This line extracts the input features from the Iris dataset and assigns it to the variable X.\n",
        "\n",
        "y = iris[\"target\"]: This line extracts the target values from the Iris dataset and assigns it to the variable y."
      ],
      "metadata": {
        "id": "ugIduiSwp1k_"
      }
    },
    {
      "cell_type": "code",
      "source": [
        "# Split the data into training and testing sets\n",
        "X_train, X_test, y_train, y_test = train_test_split(X, y, test_size=0.2, random_state=0)\n"
      ],
      "metadata": {
        "id": "odfMhleJp5N3"
      },
      "execution_count": null,
      "outputs": []
    },
    {
      "cell_type": "markdown",
      "source": [
        "X_train, X_test, y_train, y_test = train_test_split(X, y, test_size=0.2, random_state=0): This line splits the input features and target values into training and testing sets using the train_test_split function. The test_size parameter is set to 0.2, which means 20% of the data will be used for testing and 80% of the data will be used for training. The random_state parameter is set to 0 to ensure reproducibility. The training data is assigned to X_train and y_train, and the testing data is assigned to X_test and y_test."
      ],
      "metadata": {
        "id": "RN-LLMajp-4f"
      }
    },
    {
      "cell_type": "code",
      "source": [
        "clf = RandomForestClassifier(random_state=0)\n",
        "clf.fit(X_train, y_train)\n"
      ],
      "metadata": {
        "id": "h3_TOUAhp_uS",
        "outputId": "880652b6-c4e8-452c-f93d-01cebeba531c",
        "colab": {
          "base_uri": "https://localhost:8080/"
        }
      },
      "execution_count": null,
      "outputs": [
        {
          "output_type": "execute_result",
          "data": {
            "text/plain": [
              "RandomForestClassifier(random_state=0)"
            ]
          },
          "metadata": {},
          "execution_count": 4
        }
      ]
    },
    {
      "cell_type": "markdown",
      "source": [
        "clf = RandomForestClassifier(random_state=0): This line creates an instance of the RandomForestClassifier class with the random_state parameter set to 0 to ensure reproducibility.\n",
        "\n",
        "clf.fit(X_train, y_train): This line trains the Random Forest Classifier on the training data using the fit method. The fit method takes the training input features X_train and the target values y_train as input and trains the classifier on this data."
      ],
      "metadata": {
        "id": "SAZjL2CbqFdG"
      }
    },
    {
      "cell_type": "code",
      "source": [
        "# Predict the target for the testing data using the trained Random Forest Classifier\n",
        "y_pred = clf.predict(X_test)\n"
      ],
      "metadata": {
        "id": "YQt8mXbuqJGV"
      },
      "execution_count": null,
      "outputs": []
    },
    {
      "cell_type": "markdown",
      "source": [
        "y_pred = clf.predict(X_test): This line predicts the target values for the testing data using the trained Random Forest Classifier and the predict method. The predict method takes the testing input features X_test as input and returns the predicted target values."
      ],
      "metadata": {
        "id": "SNcljb4bqLv-"
      }
    },
    {
      "cell_type": "code",
      "source": [
        "# Evaluate the Random Forest Classifier using accuracy score\n",
        "accuracy = clf.score(X_test, y_test)\n",
        "print(\"Accuracy of Random Forest Classifier:\", accuracy)\n"
      ],
      "metadata": {
        "id": "olOC6aJGqPjN",
        "outputId": "42dc822d-c5e7-4a71-eccf-592f4c068a6a",
        "colab": {
          "base_uri": "https://localhost:8080/"
        }
      },
      "execution_count": null,
      "outputs": [
        {
          "output_type": "stream",
          "name": "stdout",
          "text": [
            "Accuracy of Random Forest Classifier: 1.0\n"
          ]
        }
      ]
    },
    {
      "cell_type": "markdown",
      "source": [
        "accuracy = clf.score(X_test, y_test): This line evaluates the accuracy of the Random Forest Classifier on the testing data using the score method. The score method takes the testing input features X_test and target values y_test as input and returns the accuracy score.\n",
        "\n",
        "print(\"Accuracy of Random Forest Classifier:\", accuracy): This line prints the accuracy of the Random Forest Classifier."
      ],
      "metadata": {
        "id": "Wd_CGQShqScX"
      }
    },
    {
      "cell_type": "code",
      "source": [
        "# Convert the target values to one-hot encoded tensors\n",
        "y_train = tf.keras.utils.to_categorical(y_train)\n",
        "y_test = tf.keras.utils.to_categorical(y_test)\n"
      ],
      "metadata": {
        "id": "hZCUwU3wqRr6"
      },
      "execution_count": null,
      "outputs": []
    },
    {
      "cell_type": "markdown",
      "source": [
        "y_train = tf.keras.utils.to_categorical(y_train): This line converts the target values for the training set to one-hot encoded tensors using TensorFlow's to_categorical function.\n",
        "\n",
        "y_test = tf.keras.utils.to_categorical(y_test): This line converts the target values for the testing set to one-hot encoded tensors using TensorFlow's to_categorical function."
      ],
      "metadata": {
        "id": "vLUFXMRvqXFo"
      }
    },
    {
      "cell_type": "code",
      "source": [
        "# Define the model\n",
        "model = tf.keras.Sequential()\n",
        "model.add(tf.keras.layers.Dense(64, activation='relu', input_shape=(4,)))\n",
        "model.add(tf.keras.layers.Dense(64, activation='relu'))\n",
        "model.add(tf.keras.layers.Dense(3, activation='softmax'))\n"
      ],
      "metadata": {
        "id": "MQH3MNI6qZTZ"
      },
      "execution_count": null,
      "outputs": []
    },
    {
      "cell_type": "markdown",
      "source": [
        "model = tf.keras.Sequential(): This line creates an instance of TensorFlow's Sequential class, which is used to define a sequential neural network model.\n",
        "\n",
        "model.add(tf.keras.layers.Dense(64, activation='relu', input_shape=(4,))): This line adds a dense layer to the model using TensorFlow's Dense layer. The dense layer has 64 units, a relu activation function, and the input shape is set to (4,) as the input features have 4 dimensions.\n",
        "\n",
        "model.add(tf.keras.layers.Dense(64, activation='relu')): This line adds another dense layer to the model with 64 units and a relu activation function.\n",
        "\n",
        "model.add(tf.keras.layers.Dense(3, activation='softmax')): This line adds the final dense layer to the model with 3 units and a softmax activation function. The softmax activation function is used as the target values are one-hot encoded and represent a multi-class classification problem."
      ],
      "metadata": {
        "id": "qi1hBBYCqbDp"
      }
    },
    {
      "cell_type": "code",
      "source": [
        "# Compile the model\n",
        "model.compile(loss='categorical_crossentropy', optimizer='adam', metrics=['accuracy'])\n"
      ],
      "metadata": {
        "id": "WDAdGz1oqdmk"
      },
      "execution_count": null,
      "outputs": []
    },
    {
      "cell_type": "markdown",
      "source": [
        "model.compile(loss='categorical_crossentropy', optimizer='adam', metrics=['accuracy']): This line compiles the model using the compile method. The loss parameter is set to 'categorical_crossentropy' as the target values are one-hot encoded and represent a multi-class classification problem. The optimizer parameter is set to 'adam' to use the Adam optimizer. The metrics parameter is set to ['accuracy'] to track the accuracy during training."
      ],
      "metadata": {
        "id": "maNXFLuzqfii"
      }
    },
    {
      "cell_type": "code",
      "source": [
        "# Train the model\n",
        "history = model.fit(X_train, y_train, epochs=100, batch_size=32, validation_data=(X_test, y_test))\n"
      ],
      "metadata": {
        "id": "_Sq5TACiqibv",
        "outputId": "a59012ef-310d-432e-f726-03a8afc70863",
        "colab": {
          "base_uri": "https://localhost:8080/"
        }
      },
      "execution_count": null,
      "outputs": [
        {
          "output_type": "stream",
          "name": "stdout",
          "text": [
            "Epoch 1/100\n",
            "4/4 [==============================] - 3s 224ms/step - loss: 1.2961 - accuracy: 0.3083 - val_loss: 1.0110 - val_accuracy: 0.4333\n",
            "Epoch 2/100\n",
            "4/4 [==============================] - 0s 48ms/step - loss: 0.9773 - accuracy: 0.4583 - val_loss: 1.0538 - val_accuracy: 0.5667\n",
            "Epoch 3/100\n",
            "4/4 [==============================] - 0s 29ms/step - loss: 0.9281 - accuracy: 0.6917 - val_loss: 1.0814 - val_accuracy: 0.5667\n",
            "Epoch 4/100\n",
            "4/4 [==============================] - 0s 25ms/step - loss: 0.8990 - accuracy: 0.6917 - val_loss: 0.9925 - val_accuracy: 0.5667\n",
            "Epoch 5/100\n",
            "4/4 [==============================] - 0s 77ms/step - loss: 0.8322 - accuracy: 0.6917 - val_loss: 0.8685 - val_accuracy: 0.5667\n",
            "Epoch 6/100\n",
            "4/4 [==============================] - 0s 90ms/step - loss: 0.7621 - accuracy: 0.6917 - val_loss: 0.7762 - val_accuracy: 0.5667\n",
            "Epoch 7/100\n",
            "4/4 [==============================] - 0s 76ms/step - loss: 0.7222 - accuracy: 0.7000 - val_loss: 0.7108 - val_accuracy: 0.6333\n",
            "Epoch 8/100\n",
            "4/4 [==============================] - 0s 60ms/step - loss: 0.6917 - accuracy: 0.8333 - val_loss: 0.6640 - val_accuracy: 0.8333\n",
            "Epoch 9/100\n",
            "4/4 [==============================] - 0s 36ms/step - loss: 0.6488 - accuracy: 0.8083 - val_loss: 0.6509 - val_accuracy: 0.5667\n",
            "Epoch 10/100\n",
            "4/4 [==============================] - 0s 40ms/step - loss: 0.6204 - accuracy: 0.6917 - val_loss: 0.6577 - val_accuracy: 0.5667\n",
            "Epoch 11/100\n",
            "4/4 [==============================] - 0s 40ms/step - loss: 0.5948 - accuracy: 0.6917 - val_loss: 0.6311 - val_accuracy: 0.5667\n",
            "Epoch 12/100\n",
            "4/4 [==============================] - 0s 34ms/step - loss: 0.5696 - accuracy: 0.6917 - val_loss: 0.6057 - val_accuracy: 0.5667\n",
            "Epoch 13/100\n",
            "4/4 [==============================] - 0s 40ms/step - loss: 0.5471 - accuracy: 0.6917 - val_loss: 0.5707 - val_accuracy: 0.5667\n",
            "Epoch 14/100\n",
            "4/4 [==============================] - 0s 32ms/step - loss: 0.5290 - accuracy: 0.6917 - val_loss: 0.5340 - val_accuracy: 0.6333\n",
            "Epoch 15/100\n",
            "4/4 [==============================] - 0s 41ms/step - loss: 0.5114 - accuracy: 0.8083 - val_loss: 0.5094 - val_accuracy: 0.7667\n",
            "Epoch 16/100\n",
            "4/4 [==============================] - 0s 29ms/step - loss: 0.4958 - accuracy: 0.8000 - val_loss: 0.5050 - val_accuracy: 0.6333\n",
            "Epoch 17/100\n",
            "4/4 [==============================] - 0s 53ms/step - loss: 0.4831 - accuracy: 0.7583 - val_loss: 0.5114 - val_accuracy: 0.5667\n",
            "Epoch 18/100\n",
            "4/4 [==============================] - 0s 28ms/step - loss: 0.4677 - accuracy: 0.7167 - val_loss: 0.4866 - val_accuracy: 0.6333\n",
            "Epoch 19/100\n",
            "4/4 [==============================] - 0s 28ms/step - loss: 0.4543 - accuracy: 0.7917 - val_loss: 0.4648 - val_accuracy: 0.7333\n",
            "Epoch 20/100\n",
            "4/4 [==============================] - 0s 55ms/step - loss: 0.4427 - accuracy: 0.8917 - val_loss: 0.4377 - val_accuracy: 0.8333\n",
            "Epoch 21/100\n",
            "4/4 [==============================] - 0s 64ms/step - loss: 0.4257 - accuracy: 0.8917 - val_loss: 0.4422 - val_accuracy: 0.7667\n",
            "Epoch 22/100\n",
            "4/4 [==============================] - 0s 35ms/step - loss: 0.4133 - accuracy: 0.8333 - val_loss: 0.4380 - val_accuracy: 0.7333\n",
            "Epoch 23/100\n",
            "4/4 [==============================] - 0s 46ms/step - loss: 0.4019 - accuracy: 0.8333 - val_loss: 0.4184 - val_accuracy: 0.7667\n",
            "Epoch 24/100\n",
            "4/4 [==============================] - 0s 29ms/step - loss: 0.3914 - accuracy: 0.9000 - val_loss: 0.3930 - val_accuracy: 0.8667\n",
            "Epoch 25/100\n",
            "4/4 [==============================] - 0s 54ms/step - loss: 0.3859 - accuracy: 0.9500 - val_loss: 0.3768 - val_accuracy: 0.9333\n",
            "Epoch 26/100\n",
            "4/4 [==============================] - 0s 30ms/step - loss: 0.3709 - accuracy: 0.9500 - val_loss: 0.3891 - val_accuracy: 0.7667\n",
            "Epoch 27/100\n",
            "4/4 [==============================] - 0s 45ms/step - loss: 0.3635 - accuracy: 0.8833 - val_loss: 0.3994 - val_accuracy: 0.7667\n",
            "Epoch 28/100\n",
            "4/4 [==============================] - 0s 82ms/step - loss: 0.3580 - accuracy: 0.8667 - val_loss: 0.3724 - val_accuracy: 0.8333\n",
            "Epoch 29/100\n",
            "4/4 [==============================] - 0s 53ms/step - loss: 0.3468 - accuracy: 0.9250 - val_loss: 0.3518 - val_accuracy: 0.9000\n",
            "Epoch 30/100\n",
            "4/4 [==============================] - 0s 48ms/step - loss: 0.3387 - accuracy: 0.9500 - val_loss: 0.3261 - val_accuracy: 1.0000\n",
            "Epoch 31/100\n",
            "4/4 [==============================] - 0s 34ms/step - loss: 0.3313 - accuracy: 0.9667 - val_loss: 0.3192 - val_accuracy: 1.0000\n",
            "Epoch 32/100\n",
            "4/4 [==============================] - 0s 72ms/step - loss: 0.3243 - accuracy: 0.9250 - val_loss: 0.3394 - val_accuracy: 0.8667\n",
            "Epoch 33/100\n",
            "4/4 [==============================] - 0s 53ms/step - loss: 0.3142 - accuracy: 0.9250 - val_loss: 0.3195 - val_accuracy: 0.9333\n",
            "Epoch 34/100\n",
            "4/4 [==============================] - 0s 45ms/step - loss: 0.3043 - accuracy: 0.9500 - val_loss: 0.2968 - val_accuracy: 1.0000\n",
            "Epoch 35/100\n",
            "4/4 [==============================] - 0s 78ms/step - loss: 0.2976 - accuracy: 0.9500 - val_loss: 0.2935 - val_accuracy: 1.0000\n",
            "Epoch 36/100\n",
            "4/4 [==============================] - 0s 99ms/step - loss: 0.2889 - accuracy: 0.9500 - val_loss: 0.2829 - val_accuracy: 1.0000\n",
            "Epoch 37/100\n",
            "4/4 [==============================] - 0s 27ms/step - loss: 0.2823 - accuracy: 0.9583 - val_loss: 0.2676 - val_accuracy: 1.0000\n",
            "Epoch 38/100\n",
            "4/4 [==============================] - 0s 30ms/step - loss: 0.2732 - accuracy: 0.9667 - val_loss: 0.2738 - val_accuracy: 1.0000\n",
            "Epoch 39/100\n",
            "4/4 [==============================] - 0s 82ms/step - loss: 0.2667 - accuracy: 0.9500 - val_loss: 0.2717 - val_accuracy: 1.0000\n",
            "Epoch 40/100\n",
            "4/4 [==============================] - 0s 32ms/step - loss: 0.2613 - accuracy: 0.9583 - val_loss: 0.2410 - val_accuracy: 1.0000\n",
            "Epoch 41/100\n",
            "4/4 [==============================] - 0s 20ms/step - loss: 0.2528 - accuracy: 0.9583 - val_loss: 0.2511 - val_accuracy: 1.0000\n",
            "Epoch 42/100\n",
            "4/4 [==============================] - 0s 25ms/step - loss: 0.2442 - accuracy: 0.9500 - val_loss: 0.2377 - val_accuracy: 1.0000\n",
            "Epoch 43/100\n",
            "4/4 [==============================] - 0s 32ms/step - loss: 0.2369 - accuracy: 0.9667 - val_loss: 0.2222 - val_accuracy: 1.0000\n",
            "Epoch 44/100\n",
            "4/4 [==============================] - 0s 23ms/step - loss: 0.2336 - accuracy: 0.9667 - val_loss: 0.2074 - val_accuracy: 1.0000\n",
            "Epoch 45/100\n",
            "4/4 [==============================] - 0s 34ms/step - loss: 0.2233 - accuracy: 0.9667 - val_loss: 0.2324 - val_accuracy: 1.0000\n",
            "Epoch 46/100\n",
            "4/4 [==============================] - 0s 37ms/step - loss: 0.2204 - accuracy: 0.9500 - val_loss: 0.2189 - val_accuracy: 1.0000\n",
            "Epoch 47/100\n",
            "4/4 [==============================] - 0s 30ms/step - loss: 0.2093 - accuracy: 0.9667 - val_loss: 0.1835 - val_accuracy: 1.0000\n",
            "Epoch 48/100\n",
            "4/4 [==============================] - 0s 32ms/step - loss: 0.2048 - accuracy: 0.9750 - val_loss: 0.1792 - val_accuracy: 1.0000\n",
            "Epoch 49/100\n",
            "4/4 [==============================] - 0s 29ms/step - loss: 0.1987 - accuracy: 0.9583 - val_loss: 0.1999 - val_accuracy: 1.0000\n",
            "Epoch 50/100\n",
            "4/4 [==============================] - 0s 25ms/step - loss: 0.1957 - accuracy: 0.9667 - val_loss: 0.1770 - val_accuracy: 1.0000\n",
            "Epoch 51/100\n",
            "4/4 [==============================] - 0s 38ms/step - loss: 0.1882 - accuracy: 0.9667 - val_loss: 0.1683 - val_accuracy: 1.0000\n",
            "Epoch 52/100\n",
            "4/4 [==============================] - 0s 23ms/step - loss: 0.1829 - accuracy: 0.9667 - val_loss: 0.1758 - val_accuracy: 1.0000\n",
            "Epoch 53/100\n",
            "4/4 [==============================] - 0s 27ms/step - loss: 0.1797 - accuracy: 0.9667 - val_loss: 0.1626 - val_accuracy: 1.0000\n",
            "Epoch 54/100\n",
            "4/4 [==============================] - 0s 25ms/step - loss: 0.1744 - accuracy: 0.9667 - val_loss: 0.1438 - val_accuracy: 1.0000\n",
            "Epoch 55/100\n",
            "4/4 [==============================] - 0s 24ms/step - loss: 0.1726 - accuracy: 0.9750 - val_loss: 0.1460 - val_accuracy: 1.0000\n",
            "Epoch 56/100\n",
            "4/4 [==============================] - 0s 23ms/step - loss: 0.1675 - accuracy: 0.9667 - val_loss: 0.1705 - val_accuracy: 1.0000\n",
            "Epoch 57/100\n",
            "4/4 [==============================] - 0s 19ms/step - loss: 0.1669 - accuracy: 0.9583 - val_loss: 0.1431 - val_accuracy: 1.0000\n",
            "Epoch 58/100\n",
            "4/4 [==============================] - 0s 30ms/step - loss: 0.1591 - accuracy: 0.9667 - val_loss: 0.1326 - val_accuracy: 1.0000\n",
            "Epoch 59/100\n",
            "4/4 [==============================] - 0s 23ms/step - loss: 0.1583 - accuracy: 0.9667 - val_loss: 0.1297 - val_accuracy: 1.0000\n",
            "Epoch 60/100\n",
            "4/4 [==============================] - 0s 26ms/step - loss: 0.1529 - accuracy: 0.9667 - val_loss: 0.1301 - val_accuracy: 1.0000\n",
            "Epoch 61/100\n",
            "4/4 [==============================] - 0s 31ms/step - loss: 0.1496 - accuracy: 0.9667 - val_loss: 0.1336 - val_accuracy: 1.0000\n",
            "Epoch 62/100\n",
            "4/4 [==============================] - 0s 23ms/step - loss: 0.1488 - accuracy: 0.9667 - val_loss: 0.1292 - val_accuracy: 1.0000\n",
            "Epoch 63/100\n",
            "4/4 [==============================] - 0s 47ms/step - loss: 0.1453 - accuracy: 0.9667 - val_loss: 0.1096 - val_accuracy: 1.0000\n",
            "Epoch 64/100\n",
            "4/4 [==============================] - 0s 24ms/step - loss: 0.1441 - accuracy: 0.9750 - val_loss: 0.1154 - val_accuracy: 1.0000\n",
            "Epoch 65/100\n",
            "4/4 [==============================] - 0s 20ms/step - loss: 0.1427 - accuracy: 0.9667 - val_loss: 0.1357 - val_accuracy: 1.0000\n",
            "Epoch 66/100\n",
            "4/4 [==============================] - 0s 19ms/step - loss: 0.1388 - accuracy: 0.9667 - val_loss: 0.1089 - val_accuracy: 1.0000\n",
            "Epoch 67/100\n",
            "4/4 [==============================] - 0s 33ms/step - loss: 0.1408 - accuracy: 0.9750 - val_loss: 0.0964 - val_accuracy: 1.0000\n",
            "Epoch 68/100\n",
            "4/4 [==============================] - 0s 61ms/step - loss: 0.1327 - accuracy: 0.9750 - val_loss: 0.1133 - val_accuracy: 1.0000\n",
            "Epoch 69/100\n",
            "4/4 [==============================] - 0s 66ms/step - loss: 0.1317 - accuracy: 0.9667 - val_loss: 0.1161 - val_accuracy: 1.0000\n",
            "Epoch 70/100\n",
            "4/4 [==============================] - 0s 48ms/step - loss: 0.1354 - accuracy: 0.9667 - val_loss: 0.0940 - val_accuracy: 1.0000\n",
            "Epoch 71/100\n",
            "4/4 [==============================] - 0s 68ms/step - loss: 0.1289 - accuracy: 0.9667 - val_loss: 0.1036 - val_accuracy: 1.0000\n",
            "Epoch 72/100\n",
            "4/4 [==============================] - 0s 45ms/step - loss: 0.1248 - accuracy: 0.9667 - val_loss: 0.0950 - val_accuracy: 1.0000\n",
            "Epoch 73/100\n",
            "4/4 [==============================] - 0s 29ms/step - loss: 0.1239 - accuracy: 0.9667 - val_loss: 0.0910 - val_accuracy: 1.0000\n",
            "Epoch 74/100\n",
            "4/4 [==============================] - 0s 28ms/step - loss: 0.1216 - accuracy: 0.9750 - val_loss: 0.0846 - val_accuracy: 1.0000\n",
            "Epoch 75/100\n",
            "4/4 [==============================] - 0s 56ms/step - loss: 0.1210 - accuracy: 0.9750 - val_loss: 0.0896 - val_accuracy: 1.0000\n",
            "Epoch 76/100\n",
            "4/4 [==============================] - 0s 42ms/step - loss: 0.1226 - accuracy: 0.9667 - val_loss: 0.1009 - val_accuracy: 1.0000\n",
            "Epoch 77/100\n",
            "4/4 [==============================] - 0s 74ms/step - loss: 0.1180 - accuracy: 0.9667 - val_loss: 0.0801 - val_accuracy: 1.0000\n",
            "Epoch 78/100\n",
            "4/4 [==============================] - 0s 58ms/step - loss: 0.1184 - accuracy: 0.9750 - val_loss: 0.0761 - val_accuracy: 1.0000\n",
            "Epoch 79/100\n",
            "4/4 [==============================] - 0s 61ms/step - loss: 0.1124 - accuracy: 0.9833 - val_loss: 0.0889 - val_accuracy: 1.0000\n",
            "Epoch 80/100\n",
            "4/4 [==============================] - 0s 67ms/step - loss: 0.1173 - accuracy: 0.9667 - val_loss: 0.0975 - val_accuracy: 1.0000\n",
            "Epoch 81/100\n",
            "4/4 [==============================] - 0s 45ms/step - loss: 0.1114 - accuracy: 0.9667 - val_loss: 0.0751 - val_accuracy: 1.0000\n",
            "Epoch 82/100\n",
            "4/4 [==============================] - 0s 31ms/step - loss: 0.1180 - accuracy: 0.9583 - val_loss: 0.0673 - val_accuracy: 1.0000\n",
            "Epoch 83/100\n",
            "4/4 [==============================] - 0s 32ms/step - loss: 0.1149 - accuracy: 0.9667 - val_loss: 0.0863 - val_accuracy: 1.0000\n",
            "Epoch 84/100\n",
            "4/4 [==============================] - 0s 47ms/step - loss: 0.1105 - accuracy: 0.9667 - val_loss: 0.0825 - val_accuracy: 1.0000\n",
            "Epoch 85/100\n",
            "4/4 [==============================] - 0s 34ms/step - loss: 0.1089 - accuracy: 0.9667 - val_loss: 0.0713 - val_accuracy: 1.0000\n",
            "Epoch 86/100\n",
            "4/4 [==============================] - 0s 40ms/step - loss: 0.1063 - accuracy: 0.9667 - val_loss: 0.0689 - val_accuracy: 1.0000\n",
            "Epoch 87/100\n",
            "4/4 [==============================] - 0s 50ms/step - loss: 0.1052 - accuracy: 0.9667 - val_loss: 0.0669 - val_accuracy: 1.0000\n",
            "Epoch 88/100\n",
            "4/4 [==============================] - 0s 33ms/step - loss: 0.1039 - accuracy: 0.9750 - val_loss: 0.0665 - val_accuracy: 1.0000\n",
            "Epoch 89/100\n",
            "4/4 [==============================] - 0s 41ms/step - loss: 0.1032 - accuracy: 0.9750 - val_loss: 0.0676 - val_accuracy: 1.0000\n",
            "Epoch 90/100\n",
            "4/4 [==============================] - 0s 60ms/step - loss: 0.1030 - accuracy: 0.9667 - val_loss: 0.0653 - val_accuracy: 1.0000\n",
            "Epoch 91/100\n",
            "4/4 [==============================] - 0s 42ms/step - loss: 0.1010 - accuracy: 0.9667 - val_loss: 0.0640 - val_accuracy: 1.0000\n",
            "Epoch 92/100\n",
            "4/4 [==============================] - 0s 34ms/step - loss: 0.1000 - accuracy: 0.9667 - val_loss: 0.0620 - val_accuracy: 1.0000\n",
            "Epoch 93/100\n",
            "4/4 [==============================] - 0s 21ms/step - loss: 0.1025 - accuracy: 0.9667 - val_loss: 0.0627 - val_accuracy: 1.0000\n",
            "Epoch 94/100\n",
            "4/4 [==============================] - 0s 24ms/step - loss: 0.1071 - accuracy: 0.9667 - val_loss: 0.0569 - val_accuracy: 1.0000\n",
            "Epoch 95/100\n",
            "4/4 [==============================] - 0s 24ms/step - loss: 0.1074 - accuracy: 0.9667 - val_loss: 0.0751 - val_accuracy: 1.0000\n",
            "Epoch 96/100\n",
            "4/4 [==============================] - 0s 35ms/step - loss: 0.1025 - accuracy: 0.9667 - val_loss: 0.0592 - val_accuracy: 1.0000\n",
            "Epoch 97/100\n",
            "4/4 [==============================] - 0s 42ms/step - loss: 0.0978 - accuracy: 0.9833 - val_loss: 0.0561 - val_accuracy: 1.0000\n",
            "Epoch 98/100\n",
            "4/4 [==============================] - 0s 32ms/step - loss: 0.0973 - accuracy: 0.9667 - val_loss: 0.0629 - val_accuracy: 1.0000\n",
            "Epoch 99/100\n",
            "4/4 [==============================] - 0s 43ms/step - loss: 0.0989 - accuracy: 0.9667 - val_loss: 0.0595 - val_accuracy: 1.0000\n",
            "Epoch 100/100\n",
            "4/4 [==============================] - 0s 31ms/step - loss: 0.0936 - accuracy: 0.9833 - val_loss: 0.0520 - val_accuracy: 1.0000\n"
          ]
        }
      ]
    },
    {
      "cell_type": "markdown",
      "source": [
        "history = model.fit(X_train, y_train, epochs=100, batch_size=32, validation_data=(X_test, y_test)): This line trains the model using the fit method. The fit method takes the training input features X_train and target values y_train as input and trains the model for 100 epochs with a batch size of 32. The validation_data parameter is set to (X_test, y_test) to use the testing data for validation during training. The training history is stored in the history variable."
      ],
      "metadata": {
        "id": "3OylSLkaqk1v"
      }
    },
    {
      "cell_type": "code",
      "source": [
        "# Evaluate the model\n",
        "loss, accuracy = model.evaluate(X_test, y_test)\n",
        "print(\"Test Loss:\", loss)\n",
        "print(\"Test Accuracy:\", accuracy)\n"
      ],
      "metadata": {
        "id": "SkI2_tvBqoEq",
        "outputId": "c59348a3-91b5-4735-c3eb-affddeeb6e92",
        "colab": {
          "base_uri": "https://localhost:8080/"
        }
      },
      "execution_count": null,
      "outputs": [
        {
          "output_type": "stream",
          "name": "stdout",
          "text": [
            "1/1 [==============================] - 0s 125ms/step - loss: 0.0520 - accuracy: 1.0000\n",
            "Test Loss: 0.05202217027544975\n",
            "Test Accuracy: 1.0\n"
          ]
        }
      ]
    },
    {
      "cell_type": "markdown",
      "source": [
        "loss, accuracy = model.evaluate(X_test, y_test): This line evaluates the model on the testing data using the evaluate method. The evaluate method takes the testing input features X_test and target values y_test as input and returns the loss and accuracy.\n",
        "\n",
        "print(\"Test Loss:\", loss): This line prints the test loss.\n",
        "\n",
        "print(\"Test Accuracy:\", accuracy): This line prints the test accuracy."
      ],
      "metadata": {
        "id": "9cSNaHsKquat"
      }
    }
  ]
}